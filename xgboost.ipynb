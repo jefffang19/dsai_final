{
 "cells": [
  {
   "cell_type": "code",
   "execution_count": 1,
   "metadata": {
    "colab": {
     "base_uri": "https://localhost:8080/"
    },
    "executionInfo": {
     "elapsed": 400,
     "status": "ok",
     "timestamp": 1623070748278,
     "user": {
      "displayName": "方郁文",
      "photoUrl": "",
      "userId": "06852567172259853351"
     },
     "user_tz": -480
    },
    "id": "ZWf6ITdfwm2l",
    "outputId": "3dd694b7-ed2b-4750-ad18-9913361ff0c0"
   },
   "outputs": [],
   "source": [
    "# if use google colab, mount your drive\n",
    "\n",
    "# from google.colab import drive\n",
    "# drive.mount('/content/gdrive')\n",
    "\n",
    "# dataset_path = F\"/content/gdrive/My Drive/dsai_final/\""
   ]
  },
  {
   "cell_type": "code",
   "execution_count": 1,
   "metadata": {
    "executionInfo": {
     "elapsed": 4,
     "status": "ok",
     "timestamp": 1623070748715,
     "user": {
      "displayName": "方郁文",
      "photoUrl": "",
      "userId": "06852567172259853351"
     },
     "user_tz": -480
    },
    "id": "Far_GzinxXMO"
   },
   "outputs": [],
   "source": [
    "import glob\n",
    "import os"
   ]
  },
  {
   "cell_type": "code",
   "execution_count": 2,
   "metadata": {
    "colab": {
     "base_uri": "https://localhost:8080/"
    },
    "executionInfo": {
     "elapsed": 5,
     "status": "ok",
     "timestamp": 1623070749814,
     "user": {
      "displayName": "方郁文",
      "photoUrl": "",
      "userId": "06852567172259853351"
     },
     "user_tz": -480
    },
    "id": "GQzS2vAYxhFS",
    "outputId": "8a45cfd4-aaf2-4147-ffa8-59d877f41bc6"
   },
   "outputs": [
    {
     "data": {
      "text/plain": [
       "['../uxp_full_data.csv',\n",
       " '../uxp_full_cls.csv',\n",
       " '../test.csv',\n",
       " '../uxp_10_percent_data.csv',\n",
       " '../uxp_10_percent_cls.csv']"
      ]
     },
     "execution_count": 2,
     "metadata": {},
     "output_type": "execute_result"
    }
   ],
   "source": [
    "glob.glob(os.path.join('..', '*.csv'))"
   ]
  },
  {
   "cell_type": "markdown",
   "metadata": {
    "id": "KDswF9XgyBCW"
   },
   "source": [
    "# Read Training Data"
   ]
  },
  {
   "cell_type": "code",
   "execution_count": 3,
   "metadata": {
    "executionInfo": {
     "elapsed": 1,
     "status": "ok",
     "timestamp": 1623070750251,
     "user": {
      "displayName": "方郁文",
      "photoUrl": "",
      "userId": "06852567172259853351"
     },
     "user_tz": -480
    },
    "id": "M82oU7-lyCHE"
   },
   "outputs": [],
   "source": [
    "import pandas as pd\n",
    "import numpy as np\n",
    "from tqdm import tqdm"
   ]
  },
  {
   "cell_type": "code",
   "execution_count": 4,
   "metadata": {
    "colab": {
     "base_uri": "https://localhost:8080/"
    },
    "executionInfo": {
     "elapsed": 1365,
     "status": "ok",
     "timestamp": 1623070752352,
     "user": {
      "displayName": "方郁文",
      "photoUrl": "",
      "userId": "06852567172259853351"
     },
     "user_tz": -480
    },
    "id": "zbNGa5qiyEEd",
    "outputId": "9f622590-f91b-40e6-989a-2d987761de38"
   },
   "outputs": [
    {
     "name": "stderr",
     "output_type": "stream",
     "text": [
      "/home/jeff/anaconda3/envs/work/lib/python3.6/site-packages/numpy/lib/arraysetops.py:580: FutureWarning: elementwise comparison failed; returning scalar instead, but in the future will perform elementwise comparison\n",
      "  mask |= (ar1 == a)\n"
     ]
    }
   ],
   "source": [
    "# read training data\n",
    "df = pd.read_csv('../uxp_full_cls.csv', index_col=0)"
   ]
  },
  {
   "cell_type": "code",
   "execution_count": 5,
   "metadata": {
    "colab": {
     "base_uri": "https://localhost:8080/"
    },
    "executionInfo": {
     "elapsed": 12,
     "status": "ok",
     "timestamp": 1623070752352,
     "user": {
      "displayName": "方郁文",
      "photoUrl": "",
      "userId": "06852567172259853351"
     },
     "user_tz": -480
    },
    "id": "4t4rtBnxJksQ",
    "outputId": "c1e90feb-cb77-4d85-abe9-550a9837d54f"
   },
   "outputs": [
    {
     "data": {
      "text/plain": [
       "(206209, 49688)"
      ]
     },
     "execution_count": 5,
     "metadata": {},
     "output_type": "execute_result"
    }
   ],
   "source": [
    "# get number of user and product\n",
    "N_USER = np.max(df['user_id'])\n",
    "N_PRODUCT = np.max(df['product_id'])\n",
    "\n",
    "N_USER, N_PRODUCT"
   ]
  },
  {
   "cell_type": "code",
   "execution_count": 6,
   "metadata": {
    "colab": {
     "base_uri": "https://localhost:8080/",
     "height": 197
    },
    "executionInfo": {
     "elapsed": 10,
     "status": "ok",
     "timestamp": 1623070752353,
     "user": {
      "displayName": "方郁文",
      "photoUrl": "",
      "userId": "06852567172259853351"
     },
     "user_tz": -480
    },
    "id": "-XIpDoknyY4u",
    "outputId": "b8800adc-4d75-4e55-cfdc-8a357271b40e"
   },
   "outputs": [
    {
     "data": {
      "text/html": [
       "<div>\n",
       "<style scoped>\n",
       "    .dataframe tbody tr th:only-of-type {\n",
       "        vertical-align: middle;\n",
       "    }\n",
       "\n",
       "    .dataframe tbody tr th {\n",
       "        vertical-align: top;\n",
       "    }\n",
       "\n",
       "    .dataframe thead th {\n",
       "        text-align: right;\n",
       "    }\n",
       "</style>\n",
       "<table border=\"1\" class=\"dataframe\">\n",
       "  <thead>\n",
       "    <tr style=\"text-align: right;\">\n",
       "      <th></th>\n",
       "      <th>user_id</th>\n",
       "      <th>product_id</th>\n",
       "      <th>uxp_reorder_ratio</th>\n",
       "      <th>u_total_bought_product</th>\n",
       "      <th>u_avg_bought_p_per_order</th>\n",
       "      <th>uxp_order_ratio</th>\n",
       "      <th>p_tot_bought</th>\n",
       "      <th>p_reorder_ratio</th>\n",
       "      <th>eval_set</th>\n",
       "      <th>order_id</th>\n",
       "      <th>reordered</th>\n",
       "    </tr>\n",
       "  </thead>\n",
       "  <tbody>\n",
       "    <tr>\n",
       "      <th>0</th>\n",
       "      <td>1</td>\n",
       "      <td>196</td>\n",
       "      <td>1.000000</td>\n",
       "      <td>70</td>\n",
       "      <td>6.363636</td>\n",
       "      <td>1.000000</td>\n",
       "      <td>37298</td>\n",
       "      <td>0.777843</td>\n",
       "      <td>train</td>\n",
       "      <td>1187899</td>\n",
       "      <td>1</td>\n",
       "    </tr>\n",
       "    <tr>\n",
       "      <th>1</th>\n",
       "      <td>1</td>\n",
       "      <td>10258</td>\n",
       "      <td>1.000000</td>\n",
       "      <td>70</td>\n",
       "      <td>6.363636</td>\n",
       "      <td>0.909091</td>\n",
       "      <td>2050</td>\n",
       "      <td>0.715610</td>\n",
       "      <td>train</td>\n",
       "      <td>1187899</td>\n",
       "      <td>1</td>\n",
       "    </tr>\n",
       "    <tr>\n",
       "      <th>2</th>\n",
       "      <td>1</td>\n",
       "      <td>10326</td>\n",
       "      <td>0.142857</td>\n",
       "      <td>70</td>\n",
       "      <td>6.363636</td>\n",
       "      <td>0.090909</td>\n",
       "      <td>5947</td>\n",
       "      <td>0.653439</td>\n",
       "      <td>train</td>\n",
       "      <td>1187899</td>\n",
       "      <td>0</td>\n",
       "    </tr>\n",
       "    <tr>\n",
       "      <th>3</th>\n",
       "      <td>1</td>\n",
       "      <td>12427</td>\n",
       "      <td>0.909091</td>\n",
       "      <td>70</td>\n",
       "      <td>6.363636</td>\n",
       "      <td>0.909091</td>\n",
       "      <td>6697</td>\n",
       "      <td>0.740182</td>\n",
       "      <td>train</td>\n",
       "      <td>1187899</td>\n",
       "      <td>1</td>\n",
       "    </tr>\n",
       "    <tr>\n",
       "      <th>4</th>\n",
       "      <td>1</td>\n",
       "      <td>13032</td>\n",
       "      <td>0.400000</td>\n",
       "      <td>70</td>\n",
       "      <td>6.363636</td>\n",
       "      <td>0.363636</td>\n",
       "      <td>3904</td>\n",
       "      <td>0.661117</td>\n",
       "      <td>train</td>\n",
       "      <td>1187899</td>\n",
       "      <td>1</td>\n",
       "    </tr>\n",
       "  </tbody>\n",
       "</table>\n",
       "</div>"
      ],
      "text/plain": [
       "   user_id  product_id  uxp_reorder_ratio  u_total_bought_product  \\\n",
       "0        1         196           1.000000                      70   \n",
       "1        1       10258           1.000000                      70   \n",
       "2        1       10326           0.142857                      70   \n",
       "3        1       12427           0.909091                      70   \n",
       "4        1       13032           0.400000                      70   \n",
       "\n",
       "   u_avg_bought_p_per_order  uxp_order_ratio  p_tot_bought  p_reorder_ratio  \\\n",
       "0                  6.363636         1.000000         37298         0.777843   \n",
       "1                  6.363636         0.909091          2050         0.715610   \n",
       "2                  6.363636         0.090909          5947         0.653439   \n",
       "3                  6.363636         0.909091          6697         0.740182   \n",
       "4                  6.363636         0.363636          3904         0.661117   \n",
       "\n",
       "  eval_set  order_id  reordered  \n",
       "0    train   1187899          1  \n",
       "1    train   1187899          1  \n",
       "2    train   1187899          0  \n",
       "3    train   1187899          1  \n",
       "4    train   1187899          1  "
      ]
     },
     "execution_count": 6,
     "metadata": {},
     "output_type": "execute_result"
    }
   ],
   "source": [
    "df.head()"
   ]
  },
  {
   "cell_type": "code",
   "execution_count": 7,
   "metadata": {
    "colab": {
     "base_uri": "https://localhost:8080/",
     "height": 197
    },
    "executionInfo": {
     "elapsed": 8,
     "status": "ok",
     "timestamp": 1623070752353,
     "user": {
      "displayName": "方郁文",
      "photoUrl": "",
      "userId": "06852567172259853351"
     },
     "user_tz": -480
    },
    "id": "7XQ6ZZ2C3cJv",
    "outputId": "9df446ae-a227-4369-de81-ad76f3edf3fd"
   },
   "outputs": [
    {
     "data": {
      "text/html": [
       "<div>\n",
       "<style scoped>\n",
       "    .dataframe tbody tr th:only-of-type {\n",
       "        vertical-align: middle;\n",
       "    }\n",
       "\n",
       "    .dataframe tbody tr th {\n",
       "        vertical-align: top;\n",
       "    }\n",
       "\n",
       "    .dataframe thead th {\n",
       "        text-align: right;\n",
       "    }\n",
       "</style>\n",
       "<table border=\"1\" class=\"dataframe\">\n",
       "  <thead>\n",
       "    <tr style=\"text-align: right;\">\n",
       "      <th></th>\n",
       "      <th>user_id</th>\n",
       "      <th>product_id</th>\n",
       "      <th>uxp_reorder_ratio</th>\n",
       "      <th>u_total_bought_product</th>\n",
       "      <th>u_avg_bought_p_per_order</th>\n",
       "      <th>uxp_order_ratio</th>\n",
       "      <th>p_tot_bought</th>\n",
       "      <th>p_reorder_ratio</th>\n",
       "      <th>eval_set</th>\n",
       "      <th>order_id</th>\n",
       "      <th>reordered</th>\n",
       "    </tr>\n",
       "  </thead>\n",
       "  <tbody>\n",
       "    <tr>\n",
       "      <th>13863741</th>\n",
       "      <td>206209</td>\n",
       "      <td>43961</td>\n",
       "      <td>0.272727</td>\n",
       "      <td>137</td>\n",
       "      <td>9.785714</td>\n",
       "      <td>0.214286</td>\n",
       "      <td>57831</td>\n",
       "      <td>0.632567</td>\n",
       "      <td>train</td>\n",
       "      <td>272231</td>\n",
       "      <td>1</td>\n",
       "    </tr>\n",
       "    <tr>\n",
       "      <th>13863742</th>\n",
       "      <td>206209</td>\n",
       "      <td>44325</td>\n",
       "      <td>0.125000</td>\n",
       "      <td>137</td>\n",
       "      <td>9.785714</td>\n",
       "      <td>0.071429</td>\n",
       "      <td>3643</td>\n",
       "      <td>0.403788</td>\n",
       "      <td>train</td>\n",
       "      <td>272231</td>\n",
       "      <td>0</td>\n",
       "    </tr>\n",
       "    <tr>\n",
       "      <th>13863743</th>\n",
       "      <td>206209</td>\n",
       "      <td>48370</td>\n",
       "      <td>0.250000</td>\n",
       "      <td>137</td>\n",
       "      <td>9.785714</td>\n",
       "      <td>0.071429</td>\n",
       "      <td>4118</td>\n",
       "      <td>0.701068</td>\n",
       "      <td>train</td>\n",
       "      <td>272231</td>\n",
       "      <td>0</td>\n",
       "    </tr>\n",
       "    <tr>\n",
       "      <th>13863744</th>\n",
       "      <td>206209</td>\n",
       "      <td>48697</td>\n",
       "      <td>0.125000</td>\n",
       "      <td>137</td>\n",
       "      <td>9.785714</td>\n",
       "      <td>0.071429</td>\n",
       "      <td>10151</td>\n",
       "      <td>0.359078</td>\n",
       "      <td>train</td>\n",
       "      <td>272231</td>\n",
       "      <td>0</td>\n",
       "    </tr>\n",
       "    <tr>\n",
       "      <th>13863745</th>\n",
       "      <td>206209</td>\n",
       "      <td>48742</td>\n",
       "      <td>0.250000</td>\n",
       "      <td>137</td>\n",
       "      <td>9.785714</td>\n",
       "      <td>0.142857</td>\n",
       "      <td>1798</td>\n",
       "      <td>0.498331</td>\n",
       "      <td>train</td>\n",
       "      <td>272231</td>\n",
       "      <td>1</td>\n",
       "    </tr>\n",
       "  </tbody>\n",
       "</table>\n",
       "</div>"
      ],
      "text/plain": [
       "          user_id  product_id  uxp_reorder_ratio  u_total_bought_product  \\\n",
       "13863741   206209       43961           0.272727                     137   \n",
       "13863742   206209       44325           0.125000                     137   \n",
       "13863743   206209       48370           0.250000                     137   \n",
       "13863744   206209       48697           0.125000                     137   \n",
       "13863745   206209       48742           0.250000                     137   \n",
       "\n",
       "          u_avg_bought_p_per_order  uxp_order_ratio  p_tot_bought  \\\n",
       "13863741                  9.785714         0.214286         57831   \n",
       "13863742                  9.785714         0.071429          3643   \n",
       "13863743                  9.785714         0.071429          4118   \n",
       "13863744                  9.785714         0.071429         10151   \n",
       "13863745                  9.785714         0.142857          1798   \n",
       "\n",
       "          p_reorder_ratio eval_set  order_id  reordered  \n",
       "13863741         0.632567    train    272231          1  \n",
       "13863742         0.403788    train    272231          0  \n",
       "13863743         0.701068    train    272231          0  \n",
       "13863744         0.359078    train    272231          0  \n",
       "13863745         0.498331    train    272231          1  "
      ]
     },
     "execution_count": 7,
     "metadata": {},
     "output_type": "execute_result"
    }
   ],
   "source": [
    "df.tail()"
   ]
  },
  {
   "cell_type": "code",
   "execution_count": 8,
   "metadata": {},
   "outputs": [
    {
     "data": {
      "text/html": [
       "<div>\n",
       "<style scoped>\n",
       "    .dataframe tbody tr th:only-of-type {\n",
       "        vertical-align: middle;\n",
       "    }\n",
       "\n",
       "    .dataframe tbody tr th {\n",
       "        vertical-align: top;\n",
       "    }\n",
       "\n",
       "    .dataframe thead th {\n",
       "        text-align: right;\n",
       "    }\n",
       "</style>\n",
       "<table border=\"1\" class=\"dataframe\">\n",
       "  <thead>\n",
       "    <tr style=\"text-align: right;\">\n",
       "      <th></th>\n",
       "      <th>user_id</th>\n",
       "      <th>product_id</th>\n",
       "      <th>uxp_reorder_ratio</th>\n",
       "      <th>u_total_bought_product</th>\n",
       "      <th>u_avg_bought_p_per_order</th>\n",
       "      <th>uxp_order_ratio</th>\n",
       "      <th>eval_set</th>\n",
       "      <th>order_id</th>\n",
       "      <th>reordered</th>\n",
       "    </tr>\n",
       "  </thead>\n",
       "  <tbody>\n",
       "    <tr>\n",
       "      <th>0</th>\n",
       "      <td>1</td>\n",
       "      <td>196</td>\n",
       "      <td>1.000000</td>\n",
       "      <td>70</td>\n",
       "      <td>6.363636</td>\n",
       "      <td>1.000000</td>\n",
       "      <td>train</td>\n",
       "      <td>1187899</td>\n",
       "      <td>1</td>\n",
       "    </tr>\n",
       "    <tr>\n",
       "      <th>1</th>\n",
       "      <td>1</td>\n",
       "      <td>10258</td>\n",
       "      <td>1.000000</td>\n",
       "      <td>70</td>\n",
       "      <td>6.363636</td>\n",
       "      <td>0.909091</td>\n",
       "      <td>train</td>\n",
       "      <td>1187899</td>\n",
       "      <td>1</td>\n",
       "    </tr>\n",
       "    <tr>\n",
       "      <th>2</th>\n",
       "      <td>1</td>\n",
       "      <td>10326</td>\n",
       "      <td>0.142857</td>\n",
       "      <td>70</td>\n",
       "      <td>6.363636</td>\n",
       "      <td>0.090909</td>\n",
       "      <td>train</td>\n",
       "      <td>1187899</td>\n",
       "      <td>0</td>\n",
       "    </tr>\n",
       "    <tr>\n",
       "      <th>3</th>\n",
       "      <td>1</td>\n",
       "      <td>12427</td>\n",
       "      <td>0.909091</td>\n",
       "      <td>70</td>\n",
       "      <td>6.363636</td>\n",
       "      <td>0.909091</td>\n",
       "      <td>train</td>\n",
       "      <td>1187899</td>\n",
       "      <td>1</td>\n",
       "    </tr>\n",
       "    <tr>\n",
       "      <th>4</th>\n",
       "      <td>1</td>\n",
       "      <td>13032</td>\n",
       "      <td>0.400000</td>\n",
       "      <td>70</td>\n",
       "      <td>6.363636</td>\n",
       "      <td>0.363636</td>\n",
       "      <td>train</td>\n",
       "      <td>1187899</td>\n",
       "      <td>1</td>\n",
       "    </tr>\n",
       "  </tbody>\n",
       "</table>\n",
       "</div>"
      ],
      "text/plain": [
       "   user_id  product_id  uxp_reorder_ratio  u_total_bought_product  \\\n",
       "0        1         196           1.000000                      70   \n",
       "1        1       10258           1.000000                      70   \n",
       "2        1       10326           0.142857                      70   \n",
       "3        1       12427           0.909091                      70   \n",
       "4        1       13032           0.400000                      70   \n",
       "\n",
       "   u_avg_bought_p_per_order  uxp_order_ratio eval_set  order_id  reordered  \n",
       "0                  6.363636         1.000000    train   1187899          1  \n",
       "1                  6.363636         0.909091    train   1187899          1  \n",
       "2                  6.363636         0.090909    train   1187899          0  \n",
       "3                  6.363636         0.909091    train   1187899          1  \n",
       "4                  6.363636         0.363636    train   1187899          1  "
      ]
     },
     "execution_count": 8,
     "metadata": {},
     "output_type": "execute_result"
    }
   ],
   "source": [
    "df = df.drop(['p_tot_bought', 'p_reorder_ratio'], axis=1)\n",
    "df.head()"
   ]
  },
  {
   "cell_type": "markdown",
   "metadata": {},
   "source": [
    "## Normalize feature"
   ]
  },
  {
   "cell_type": "code",
   "execution_count": 9,
   "metadata": {},
   "outputs": [],
   "source": [
    "from sklearn.preprocessing import normalize"
   ]
  },
  {
   "cell_type": "code",
   "execution_count": 10,
   "metadata": {},
   "outputs": [],
   "source": [
    "# normalize df feature\n",
    "norm_df = pd.DataFrame(normalize(np.array([df['uxp_reorder_ratio'], df['u_total_bought_product'], df['u_avg_bought_p_per_order'], df['uxp_order_ratio']])).T)"
   ]
  },
  {
   "cell_type": "code",
   "execution_count": 11,
   "metadata": {},
   "outputs": [
    {
     "data": {
      "text/html": [
       "<div>\n",
       "<style scoped>\n",
       "    .dataframe tbody tr th:only-of-type {\n",
       "        vertical-align: middle;\n",
       "    }\n",
       "\n",
       "    .dataframe tbody tr th {\n",
       "        vertical-align: top;\n",
       "    }\n",
       "\n",
       "    .dataframe thead th {\n",
       "        text-align: right;\n",
       "    }\n",
       "</style>\n",
       "<table border=\"1\" class=\"dataframe\">\n",
       "  <thead>\n",
       "    <tr style=\"text-align: right;\">\n",
       "      <th></th>\n",
       "      <th>0</th>\n",
       "      <th>1</th>\n",
       "      <th>2</th>\n",
       "      <th>3</th>\n",
       "    </tr>\n",
       "  </thead>\n",
       "  <tbody>\n",
       "    <tr>\n",
       "      <th>0</th>\n",
       "      <td>0.000668</td>\n",
       "      <td>0.000043</td>\n",
       "      <td>0.000121</td>\n",
       "      <td>0.001239</td>\n",
       "    </tr>\n",
       "    <tr>\n",
       "      <th>1</th>\n",
       "      <td>0.000668</td>\n",
       "      <td>0.000043</td>\n",
       "      <td>0.000121</td>\n",
       "      <td>0.001126</td>\n",
       "    </tr>\n",
       "    <tr>\n",
       "      <th>2</th>\n",
       "      <td>0.000095</td>\n",
       "      <td>0.000043</td>\n",
       "      <td>0.000121</td>\n",
       "      <td>0.000113</td>\n",
       "    </tr>\n",
       "    <tr>\n",
       "      <th>3</th>\n",
       "      <td>0.000607</td>\n",
       "      <td>0.000043</td>\n",
       "      <td>0.000121</td>\n",
       "      <td>0.001126</td>\n",
       "    </tr>\n",
       "    <tr>\n",
       "      <th>4</th>\n",
       "      <td>0.000267</td>\n",
       "      <td>0.000043</td>\n",
       "      <td>0.000121</td>\n",
       "      <td>0.000450</td>\n",
       "    </tr>\n",
       "  </tbody>\n",
       "</table>\n",
       "</div>"
      ],
      "text/plain": [
       "          0         1         2         3\n",
       "0  0.000668  0.000043  0.000121  0.001239\n",
       "1  0.000668  0.000043  0.000121  0.001126\n",
       "2  0.000095  0.000043  0.000121  0.000113\n",
       "3  0.000607  0.000043  0.000121  0.001126\n",
       "4  0.000267  0.000043  0.000121  0.000450"
      ]
     },
     "execution_count": 11,
     "metadata": {},
     "output_type": "execute_result"
    }
   ],
   "source": [
    "norm_df.head()"
   ]
  },
  {
   "cell_type": "code",
   "execution_count": 12,
   "metadata": {},
   "outputs": [],
   "source": [
    "df['uxp_reorder_ratio'] = norm_df[0]\n",
    "df['u_total_bought_product'] = norm_df[1]\n",
    "df['u_avg_bought_p_per_order'] = norm_df[2]\n",
    "df['uxp_order_ratio'] = norm_df[3]"
   ]
  },
  {
   "cell_type": "code",
   "execution_count": 59,
   "metadata": {},
   "outputs": [
    {
     "data": {
      "text/html": [
       "<div>\n",
       "<style scoped>\n",
       "    .dataframe tbody tr th:only-of-type {\n",
       "        vertical-align: middle;\n",
       "    }\n",
       "\n",
       "    .dataframe tbody tr th {\n",
       "        vertical-align: top;\n",
       "    }\n",
       "\n",
       "    .dataframe thead th {\n",
       "        text-align: right;\n",
       "    }\n",
       "</style>\n",
       "<table border=\"1\" class=\"dataframe\">\n",
       "  <thead>\n",
       "    <tr style=\"text-align: right;\">\n",
       "      <th></th>\n",
       "      <th>user_id</th>\n",
       "      <th>product_id</th>\n",
       "      <th>uxp_reorder_ratio</th>\n",
       "      <th>u_total_bought_product</th>\n",
       "      <th>u_avg_bought_p_per_order</th>\n",
       "      <th>uxp_order_ratio</th>\n",
       "      <th>eval_set</th>\n",
       "      <th>order_id</th>\n",
       "      <th>reordered</th>\n",
       "    </tr>\n",
       "  </thead>\n",
       "  <tbody>\n",
       "    <tr>\n",
       "      <th>0</th>\n",
       "      <td>1</td>\n",
       "      <td>196</td>\n",
       "      <td>0.000668</td>\n",
       "      <td>0.000043</td>\n",
       "      <td>0.000121</td>\n",
       "      <td>0.001239</td>\n",
       "      <td>train</td>\n",
       "      <td>1187899</td>\n",
       "      <td>1</td>\n",
       "    </tr>\n",
       "    <tr>\n",
       "      <th>1</th>\n",
       "      <td>1</td>\n",
       "      <td>10258</td>\n",
       "      <td>0.000668</td>\n",
       "      <td>0.000043</td>\n",
       "      <td>0.000121</td>\n",
       "      <td>0.001126</td>\n",
       "      <td>train</td>\n",
       "      <td>1187899</td>\n",
       "      <td>1</td>\n",
       "    </tr>\n",
       "    <tr>\n",
       "      <th>2</th>\n",
       "      <td>1</td>\n",
       "      <td>10326</td>\n",
       "      <td>0.000095</td>\n",
       "      <td>0.000043</td>\n",
       "      <td>0.000121</td>\n",
       "      <td>0.000113</td>\n",
       "      <td>train</td>\n",
       "      <td>1187899</td>\n",
       "      <td>0</td>\n",
       "    </tr>\n",
       "    <tr>\n",
       "      <th>3</th>\n",
       "      <td>1</td>\n",
       "      <td>12427</td>\n",
       "      <td>0.000607</td>\n",
       "      <td>0.000043</td>\n",
       "      <td>0.000121</td>\n",
       "      <td>0.001126</td>\n",
       "      <td>train</td>\n",
       "      <td>1187899</td>\n",
       "      <td>1</td>\n",
       "    </tr>\n",
       "    <tr>\n",
       "      <th>4</th>\n",
       "      <td>1</td>\n",
       "      <td>13032</td>\n",
       "      <td>0.000267</td>\n",
       "      <td>0.000043</td>\n",
       "      <td>0.000121</td>\n",
       "      <td>0.000450</td>\n",
       "      <td>train</td>\n",
       "      <td>1187899</td>\n",
       "      <td>1</td>\n",
       "    </tr>\n",
       "  </tbody>\n",
       "</table>\n",
       "</div>"
      ],
      "text/plain": [
       "   user_id  product_id  uxp_reorder_ratio  u_total_bought_product  \\\n",
       "0        1         196           0.000668                0.000043   \n",
       "1        1       10258           0.000668                0.000043   \n",
       "2        1       10326           0.000095                0.000043   \n",
       "3        1       12427           0.000607                0.000043   \n",
       "4        1       13032           0.000267                0.000043   \n",
       "\n",
       "   u_avg_bought_p_per_order  uxp_order_ratio eval_set  order_id  reordered  \n",
       "0                  0.000121         0.001239    train   1187899          1  \n",
       "1                  0.000121         0.001126    train   1187899          1  \n",
       "2                  0.000121         0.000113    train   1187899          0  \n",
       "3                  0.000121         0.001126    train   1187899          1  \n",
       "4                  0.000121         0.000450    train   1187899          1  "
      ]
     },
     "execution_count": 59,
     "metadata": {},
     "output_type": "execute_result"
    }
   ],
   "source": [
    "df.head()"
   ]
  },
  {
   "cell_type": "markdown",
   "metadata": {},
   "source": [
    "# try drop some features"
   ]
  },
  {
   "cell_type": "code",
   "execution_count": 14,
   "metadata": {},
   "outputs": [],
   "source": [
    "# drop some features\n",
    "# df = df.drop(['user_id', 'product_id'], axis=1)"
   ]
  },
  {
   "cell_type": "markdown",
   "metadata": {},
   "source": [
    "# XGBoost"
   ]
  },
  {
   "cell_type": "code",
   "execution_count": 15,
   "metadata": {},
   "outputs": [],
   "source": [
    "# !pip install xgboost"
   ]
  },
  {
   "cell_type": "code",
   "execution_count": 60,
   "metadata": {},
   "outputs": [],
   "source": [
    "import xgboost as xgb"
   ]
  },
  {
   "cell_type": "code",
   "execution_count": 61,
   "metadata": {},
   "outputs": [
    {
     "data": {
      "text/html": [
       "<div>\n",
       "<style scoped>\n",
       "    .dataframe tbody tr th:only-of-type {\n",
       "        vertical-align: middle;\n",
       "    }\n",
       "\n",
       "    .dataframe tbody tr th {\n",
       "        vertical-align: top;\n",
       "    }\n",
       "\n",
       "    .dataframe thead th {\n",
       "        text-align: right;\n",
       "    }\n",
       "</style>\n",
       "<table border=\"1\" class=\"dataframe\">\n",
       "  <thead>\n",
       "    <tr style=\"text-align: right;\">\n",
       "      <th></th>\n",
       "      <th>user_id</th>\n",
       "      <th>product_id</th>\n",
       "      <th>uxp_reorder_ratio</th>\n",
       "      <th>u_total_bought_product</th>\n",
       "      <th>u_avg_bought_p_per_order</th>\n",
       "      <th>uxp_order_ratio</th>\n",
       "      <th>eval_set</th>\n",
       "      <th>order_id</th>\n",
       "      <th>reordered</th>\n",
       "    </tr>\n",
       "  </thead>\n",
       "  <tbody>\n",
       "    <tr>\n",
       "      <th>0</th>\n",
       "      <td>1</td>\n",
       "      <td>196</td>\n",
       "      <td>0.000668</td>\n",
       "      <td>0.000043</td>\n",
       "      <td>0.000121</td>\n",
       "      <td>0.001239</td>\n",
       "      <td>train</td>\n",
       "      <td>1187899</td>\n",
       "      <td>1</td>\n",
       "    </tr>\n",
       "    <tr>\n",
       "      <th>1</th>\n",
       "      <td>1</td>\n",
       "      <td>10258</td>\n",
       "      <td>0.000668</td>\n",
       "      <td>0.000043</td>\n",
       "      <td>0.000121</td>\n",
       "      <td>0.001126</td>\n",
       "      <td>train</td>\n",
       "      <td>1187899</td>\n",
       "      <td>1</td>\n",
       "    </tr>\n",
       "    <tr>\n",
       "      <th>2</th>\n",
       "      <td>1</td>\n",
       "      <td>10326</td>\n",
       "      <td>0.000095</td>\n",
       "      <td>0.000043</td>\n",
       "      <td>0.000121</td>\n",
       "      <td>0.000113</td>\n",
       "      <td>train</td>\n",
       "      <td>1187899</td>\n",
       "      <td>0</td>\n",
       "    </tr>\n",
       "    <tr>\n",
       "      <th>3</th>\n",
       "      <td>1</td>\n",
       "      <td>12427</td>\n",
       "      <td>0.000607</td>\n",
       "      <td>0.000043</td>\n",
       "      <td>0.000121</td>\n",
       "      <td>0.001126</td>\n",
       "      <td>train</td>\n",
       "      <td>1187899</td>\n",
       "      <td>1</td>\n",
       "    </tr>\n",
       "    <tr>\n",
       "      <th>4</th>\n",
       "      <td>1</td>\n",
       "      <td>13032</td>\n",
       "      <td>0.000267</td>\n",
       "      <td>0.000043</td>\n",
       "      <td>0.000121</td>\n",
       "      <td>0.000450</td>\n",
       "      <td>train</td>\n",
       "      <td>1187899</td>\n",
       "      <td>1</td>\n",
       "    </tr>\n",
       "  </tbody>\n",
       "</table>\n",
       "</div>"
      ],
      "text/plain": [
       "   user_id  product_id  uxp_reorder_ratio  u_total_bought_product  \\\n",
       "0        1         196           0.000668                0.000043   \n",
       "1        1       10258           0.000668                0.000043   \n",
       "2        1       10326           0.000095                0.000043   \n",
       "3        1       12427           0.000607                0.000043   \n",
       "4        1       13032           0.000267                0.000043   \n",
       "\n",
       "   u_avg_bought_p_per_order  uxp_order_ratio eval_set  order_id  reordered  \n",
       "0                  0.000121         0.001239    train   1187899          1  \n",
       "1                  0.000121         0.001126    train   1187899          1  \n",
       "2                  0.000121         0.000113    train   1187899          0  \n",
       "3                  0.000121         0.001126    train   1187899          1  \n",
       "4                  0.000121         0.000450    train   1187899          1  "
      ]
     },
     "execution_count": 61,
     "metadata": {},
     "output_type": "execute_result"
    }
   ],
   "source": [
    "train = df[df['eval_set'] == 'train'].copy()\n",
    "\n",
    "train.head()"
   ]
  },
  {
   "cell_type": "code",
   "execution_count": 62,
   "metadata": {},
   "outputs": [],
   "source": [
    "X_train, y_train = train.drop(['eval_set', 'user_id', 'product_id', 'order_id', 'reordered'], axis=1), train.reordered"
   ]
  },
  {
   "cell_type": "code",
   "execution_count": 63,
   "metadata": {},
   "outputs": [
    {
     "data": {
      "text/html": [
       "<div>\n",
       "<style scoped>\n",
       "    .dataframe tbody tr th:only-of-type {\n",
       "        vertical-align: middle;\n",
       "    }\n",
       "\n",
       "    .dataframe tbody tr th {\n",
       "        vertical-align: top;\n",
       "    }\n",
       "\n",
       "    .dataframe thead th {\n",
       "        text-align: right;\n",
       "    }\n",
       "</style>\n",
       "<table border=\"1\" class=\"dataframe\">\n",
       "  <thead>\n",
       "    <tr style=\"text-align: right;\">\n",
       "      <th></th>\n",
       "      <th>uxp_reorder_ratio</th>\n",
       "      <th>u_total_bought_product</th>\n",
       "      <th>u_avg_bought_p_per_order</th>\n",
       "      <th>uxp_order_ratio</th>\n",
       "    </tr>\n",
       "  </thead>\n",
       "  <tbody>\n",
       "    <tr>\n",
       "      <th>0</th>\n",
       "      <td>0.000668</td>\n",
       "      <td>0.000043</td>\n",
       "      <td>0.000121</td>\n",
       "      <td>0.001239</td>\n",
       "    </tr>\n",
       "    <tr>\n",
       "      <th>1</th>\n",
       "      <td>0.000668</td>\n",
       "      <td>0.000043</td>\n",
       "      <td>0.000121</td>\n",
       "      <td>0.001126</td>\n",
       "    </tr>\n",
       "    <tr>\n",
       "      <th>2</th>\n",
       "      <td>0.000095</td>\n",
       "      <td>0.000043</td>\n",
       "      <td>0.000121</td>\n",
       "      <td>0.000113</td>\n",
       "    </tr>\n",
       "    <tr>\n",
       "      <th>3</th>\n",
       "      <td>0.000607</td>\n",
       "      <td>0.000043</td>\n",
       "      <td>0.000121</td>\n",
       "      <td>0.001126</td>\n",
       "    </tr>\n",
       "    <tr>\n",
       "      <th>4</th>\n",
       "      <td>0.000267</td>\n",
       "      <td>0.000043</td>\n",
       "      <td>0.000121</td>\n",
       "      <td>0.000450</td>\n",
       "    </tr>\n",
       "  </tbody>\n",
       "</table>\n",
       "</div>"
      ],
      "text/plain": [
       "   uxp_reorder_ratio  u_total_bought_product  u_avg_bought_p_per_order  \\\n",
       "0           0.000668                0.000043                  0.000121   \n",
       "1           0.000668                0.000043                  0.000121   \n",
       "2           0.000095                0.000043                  0.000121   \n",
       "3           0.000607                0.000043                  0.000121   \n",
       "4           0.000267                0.000043                  0.000121   \n",
       "\n",
       "   uxp_order_ratio  \n",
       "0         0.001239  \n",
       "1         0.001126  \n",
       "2         0.000113  \n",
       "3         0.001126  \n",
       "4         0.000450  "
      ]
     },
     "execution_count": 63,
     "metadata": {},
     "output_type": "execute_result"
    }
   ],
   "source": [
    "X_train.head()"
   ]
  },
  {
   "cell_type": "code",
   "execution_count": 64,
   "metadata": {},
   "outputs": [
    {
     "data": {
      "text/plain": [
       "0    1\n",
       "1    1\n",
       "2    0\n",
       "3    1\n",
       "4    1\n",
       "Name: reordered, dtype: int64"
      ]
     },
     "execution_count": 64,
     "metadata": {},
     "output_type": "execute_result"
    }
   ],
   "source": [
    "y_train.head()"
   ]
  },
  {
   "cell_type": "code",
   "execution_count": 65,
   "metadata": {},
   "outputs": [],
   "source": [
    "# xgb paramter\n",
    "parameters = {'eval_metric':'logloss', \n",
    "              'max_depth':'10', \n",
    "              'colsample_bytree':'0.3',\n",
    "              'subsample':'0.75'\n",
    "             }"
   ]
  },
  {
   "cell_type": "code",
   "execution_count": 66,
   "metadata": {},
   "outputs": [],
   "source": [
    "# classifier\n",
    "xgbc = xgb.XGBClassifier(objective='binary:logistic', parameters=parameters, num_boost_round=100)"
   ]
  },
  {
   "cell_type": "code",
   "execution_count": 67,
   "metadata": {},
   "outputs": [
    {
     "name": "stderr",
     "output_type": "stream",
     "text": [
      "/home/jeff/anaconda3/envs/work/lib/python3.6/site-packages/xgboost/sklearn.py:1146: UserWarning: The use of label encoder in XGBClassifier is deprecated and will be removed in a future release. To remove this warning, do the following: 1) Pass option use_label_encoder=False when constructing XGBClassifier object; and 2) Encode your labels (y) as integers starting with 0, i.e. 0, 1, 2, ..., [num_class - 1].\n",
      "  warnings.warn(label_encoder_deprecation_msg, UserWarning)\n"
     ]
    },
    {
     "name": "stdout",
     "output_type": "stream",
     "text": [
      "[18:27:29] WARNING: ../src/learner.cc:573: \n",
      "Parameters: { \"num_boost_round\", \"parameters\" } might not be used.\n",
      "\n",
      "  This may not be accurate due to some parameters are only used in language bindings but\n",
      "  passed down to XGBoost core.  Or some parameters are not used but slip through this\n",
      "  verification. Please open an issue if you find above cases.\n",
      "\n",
      "\n",
      "[18:27:33] WARNING: ../src/learner.cc:1095: Starting in XGBoost 1.3.0, the default evaluation metric used with the objective 'binary:logistic' was changed from 'error' to 'logloss'. Explicitly set eval_metric if you'd like to restore the old behavior.\n"
     ]
    }
   ],
   "source": [
    "# train model\n",
    "model = xgbc.fit(X_train, y_train)"
   ]
  },
  {
   "cell_type": "code",
   "execution_count": 68,
   "metadata": {},
   "outputs": [
    {
     "data": {
      "text/plain": [
       "<AxesSubplot:title={'center':'Feature importance'}, xlabel='F score', ylabel='Features'>"
      ]
     },
     "execution_count": 68,
     "metadata": {},
     "output_type": "execute_result"
    },
    {
     "data": {
      "image/png": "[encoded data removed]",
      "text/plain": [
       "<Figure size 432x288 with 1 Axes>"
      ]
     },
     "metadata": {
      "needs_background": "light"
     },
     "output_type": "display_data"
    }
   ],
   "source": [
    "import matplotlib.pylab as plt\n",
    "from matplotlib import pyplot\n",
    "\n",
    "xgb.plot_importance(model)"
   ]
  },
  {
   "cell_type": "code",
   "execution_count": 29,
   "metadata": {},
   "outputs": [],
   "source": [
    "# model.get_xgb_params()"
   ]
  },
  {
   "cell_type": "markdown",
   "metadata": {},
   "source": [
    "### Parameter search"
   ]
  },
  {
   "cell_type": "code",
   "execution_count": 42,
   "metadata": {
    "collapsed": true,
    "jupyter": {
     "outputs_hidden": true
    }
   },
   "outputs": [
    {
     "name": "stdout",
     "output_type": "stream",
     "text": [
      "Fitting 3 folds for each of 4 candidates, totalling 12 fits\n"
     ]
    },
    {
     "name": "stderr",
     "output_type": "stream",
     "text": [
      "/home/jeff/anaconda3/envs/work/lib/python3.6/site-packages/xgboost/sklearn.py:1146: UserWarning: The use of label encoder in XGBClassifier is deprecated and will be removed in a future release. To remove this warning, do the following: 1) Pass option use_label_encoder=False when constructing XGBClassifier object; and 2) Encode your labels (y) as integers starting with 0, i.e. 0, 1, 2, ..., [num_class - 1].\n",
      "  warnings.warn(label_encoder_deprecation_msg, UserWarning)\n"
     ]
    },
    {
     "name": "stdout",
     "output_type": "stream",
     "text": [
      "[16:37:48] WARNING: ../src/learner.cc:573: \n",
      "Parameters: { \"num_boost_round\" } might not be used.\n",
      "\n",
      "  This may not be accurate due to some parameters are only used in language bindings but\n",
      "  passed down to XGBoost core.  Or some parameters are not used but slip through this\n",
      "  verification. Please open an issue if you find above cases.\n",
      "\n",
      "\n",
      "[CV] END ..................colsample_bytree=0.3, max_depth=5; total time= 2.1min\n"
     ]
    },
    {
     "name": "stderr",
     "output_type": "stream",
     "text": [
      "/home/jeff/anaconda3/envs/work/lib/python3.6/site-packages/xgboost/sklearn.py:1146: UserWarning: The use of label encoder in XGBClassifier is deprecated and will be removed in a future release. To remove this warning, do the following: 1) Pass option use_label_encoder=False when constructing XGBClassifier object; and 2) Encode your labels (y) as integers starting with 0, i.e. 0, 1, 2, ..., [num_class - 1].\n",
      "  warnings.warn(label_encoder_deprecation_msg, UserWarning)\n"
     ]
    },
    {
     "name": "stdout",
     "output_type": "stream",
     "text": [
      "[16:39:56] WARNING: ../src/learner.cc:573: \n",
      "Parameters: { \"num_boost_round\" } might not be used.\n",
      "\n",
      "  This may not be accurate due to some parameters are only used in language bindings but\n",
      "  passed down to XGBoost core.  Or some parameters are not used but slip through this\n",
      "  verification. Please open an issue if you find above cases.\n",
      "\n",
      "\n",
      "[CV] END ..................colsample_bytree=0.3, max_depth=5; total time= 2.2min\n"
     ]
    },
    {
     "name": "stderr",
     "output_type": "stream",
     "text": [
      "/home/jeff/anaconda3/envs/work/lib/python3.6/site-packages/xgboost/sklearn.py:1146: UserWarning: The use of label encoder in XGBClassifier is deprecated and will be removed in a future release. To remove this warning, do the following: 1) Pass option use_label_encoder=False when constructing XGBClassifier object; and 2) Encode your labels (y) as integers starting with 0, i.e. 0, 1, 2, ..., [num_class - 1].\n",
      "  warnings.warn(label_encoder_deprecation_msg, UserWarning)\n"
     ]
    },
    {
     "name": "stdout",
     "output_type": "stream",
     "text": [
      "[16:42:06] WARNING: ../src/learner.cc:573: \n",
      "Parameters: { \"num_boost_round\" } might not be used.\n",
      "\n",
      "  This may not be accurate due to some parameters are only used in language bindings but\n",
      "  passed down to XGBoost core.  Or some parameters are not used but slip through this\n",
      "  verification. Please open an issue if you find above cases.\n",
      "\n",
      "\n",
      "[CV] END ..................colsample_bytree=0.3, max_depth=5; total time= 2.1min\n"
     ]
    },
    {
     "name": "stderr",
     "output_type": "stream",
     "text": [
      "/home/jeff/anaconda3/envs/work/lib/python3.6/site-packages/xgboost/sklearn.py:1146: UserWarning: The use of label encoder in XGBClassifier is deprecated and will be removed in a future release. To remove this warning, do the following: 1) Pass option use_label_encoder=False when constructing XGBClassifier object; and 2) Encode your labels (y) as integers starting with 0, i.e. 0, 1, 2, ..., [num_class - 1].\n",
      "  warnings.warn(label_encoder_deprecation_msg, UserWarning)\n"
     ]
    },
    {
     "name": "stdout",
     "output_type": "stream",
     "text": [
      "[16:44:15] WARNING: ../src/learner.cc:573: \n",
      "Parameters: { \"num_boost_round\" } might not be used.\n",
      "\n",
      "  This may not be accurate due to some parameters are only used in language bindings but\n",
      "  passed down to XGBoost core.  Or some parameters are not used but slip through this\n",
      "  verification. Please open an issue if you find above cases.\n",
      "\n",
      "\n",
      "[CV] END .................colsample_bytree=0.3, max_depth=10; total time= 3.6min\n"
     ]
    },
    {
     "name": "stderr",
     "output_type": "stream",
     "text": [
      "/home/jeff/anaconda3/envs/work/lib/python3.6/site-packages/xgboost/sklearn.py:1146: UserWarning: The use of label encoder in XGBClassifier is deprecated and will be removed in a future release. To remove this warning, do the following: 1) Pass option use_label_encoder=False when constructing XGBClassifier object; and 2) Encode your labels (y) as integers starting with 0, i.e. 0, 1, 2, ..., [num_class - 1].\n",
      "  warnings.warn(label_encoder_deprecation_msg, UserWarning)\n"
     ]
    },
    {
     "name": "stdout",
     "output_type": "stream",
     "text": [
      "[16:47:49] WARNING: ../src/learner.cc:573: \n",
      "Parameters: { \"num_boost_round\" } might not be used.\n",
      "\n",
      "  This may not be accurate due to some parameters are only used in language bindings but\n",
      "  passed down to XGBoost core.  Or some parameters are not used but slip through this\n",
      "  verification. Please open an issue if you find above cases.\n",
      "\n",
      "\n",
      "[CV] END .................colsample_bytree=0.3, max_depth=10; total time= 3.6min\n"
     ]
    },
    {
     "name": "stderr",
     "output_type": "stream",
     "text": [
      "/home/jeff/anaconda3/envs/work/lib/python3.6/site-packages/xgboost/sklearn.py:1146: UserWarning: The use of label encoder in XGBClassifier is deprecated and will be removed in a future release. To remove this warning, do the following: 1) Pass option use_label_encoder=False when constructing XGBClassifier object; and 2) Encode your labels (y) as integers starting with 0, i.e. 0, 1, 2, ..., [num_class - 1].\n",
      "  warnings.warn(label_encoder_deprecation_msg, UserWarning)\n"
     ]
    },
    {
     "name": "stdout",
     "output_type": "stream",
     "text": [
      "[16:51:23] WARNING: ../src/learner.cc:573: \n",
      "Parameters: { \"num_boost_round\" } might not be used.\n",
      "\n",
      "  This may not be accurate due to some parameters are only used in language bindings but\n",
      "  passed down to XGBoost core.  Or some parameters are not used but slip through this\n",
      "  verification. Please open an issue if you find above cases.\n",
      "\n",
      "\n",
      "[CV] END .................colsample_bytree=0.3, max_depth=10; total time= 3.6min\n"
     ]
    },
    {
     "name": "stderr",
     "output_type": "stream",
     "text": [
      "/home/jeff/anaconda3/envs/work/lib/python3.6/site-packages/xgboost/sklearn.py:1146: UserWarning: The use of label encoder in XGBClassifier is deprecated and will be removed in a future release. To remove this warning, do the following: 1) Pass option use_label_encoder=False when constructing XGBClassifier object; and 2) Encode your labels (y) as integers starting with 0, i.e. 0, 1, 2, ..., [num_class - 1].\n",
      "  warnings.warn(label_encoder_deprecation_msg, UserWarning)\n"
     ]
    },
    {
     "name": "stdout",
     "output_type": "stream",
     "text": [
      "[16:54:58] WARNING: ../src/learner.cc:573: \n",
      "Parameters: { \"num_boost_round\" } might not be used.\n",
      "\n",
      "  This may not be accurate due to some parameters are only used in language bindings but\n",
      "  passed down to XGBoost core.  Or some parameters are not used but slip through this\n",
      "  verification. Please open an issue if you find above cases.\n",
      "\n",
      "\n",
      "[CV] END ..................colsample_bytree=0.4, max_depth=5; total time= 2.1min\n"
     ]
    },
    {
     "name": "stderr",
     "output_type": "stream",
     "text": [
      "/home/jeff/anaconda3/envs/work/lib/python3.6/site-packages/xgboost/sklearn.py:1146: UserWarning: The use of label encoder in XGBClassifier is deprecated and will be removed in a future release. To remove this warning, do the following: 1) Pass option use_label_encoder=False when constructing XGBClassifier object; and 2) Encode your labels (y) as integers starting with 0, i.e. 0, 1, 2, ..., [num_class - 1].\n",
      "  warnings.warn(label_encoder_deprecation_msg, UserWarning)\n"
     ]
    },
    {
     "name": "stdout",
     "output_type": "stream",
     "text": [
      "[16:57:06] WARNING: ../src/learner.cc:573: \n",
      "Parameters: { \"num_boost_round\" } might not be used.\n",
      "\n",
      "  This may not be accurate due to some parameters are only used in language bindings but\n",
      "  passed down to XGBoost core.  Or some parameters are not used but slip through this\n",
      "  verification. Please open an issue if you find above cases.\n",
      "\n",
      "\n",
      "[CV] END ..................colsample_bytree=0.4, max_depth=5; total time= 2.2min\n"
     ]
    },
    {
     "name": "stderr",
     "output_type": "stream",
     "text": [
      "/home/jeff/anaconda3/envs/work/lib/python3.6/site-packages/xgboost/sklearn.py:1146: UserWarning: The use of label encoder in XGBClassifier is deprecated and will be removed in a future release. To remove this warning, do the following: 1) Pass option use_label_encoder=False when constructing XGBClassifier object; and 2) Encode your labels (y) as integers starting with 0, i.e. 0, 1, 2, ..., [num_class - 1].\n",
      "  warnings.warn(label_encoder_deprecation_msg, UserWarning)\n"
     ]
    },
    {
     "name": "stdout",
     "output_type": "stream",
     "text": [
      "[16:59:16] WARNING: ../src/learner.cc:573: \n",
      "Parameters: { \"num_boost_round\" } might not be used.\n",
      "\n",
      "  This may not be accurate due to some parameters are only used in language bindings but\n",
      "  passed down to XGBoost core.  Or some parameters are not used but slip through this\n",
      "  verification. Please open an issue if you find above cases.\n",
      "\n",
      "\n",
      "[CV] END ..................colsample_bytree=0.4, max_depth=5; total time= 2.1min\n"
     ]
    },
    {
     "name": "stderr",
     "output_type": "stream",
     "text": [
      "/home/jeff/anaconda3/envs/work/lib/python3.6/site-packages/xgboost/sklearn.py:1146: UserWarning: The use of label encoder in XGBClassifier is deprecated and will be removed in a future release. To remove this warning, do the following: 1) Pass option use_label_encoder=False when constructing XGBClassifier object; and 2) Encode your labels (y) as integers starting with 0, i.e. 0, 1, 2, ..., [num_class - 1].\n",
      "  warnings.warn(label_encoder_deprecation_msg, UserWarning)\n"
     ]
    },
    {
     "name": "stdout",
     "output_type": "stream",
     "text": [
      "[17:01:25] WARNING: ../src/learner.cc:573: \n",
      "Parameters: { \"num_boost_round\" } might not be used.\n",
      "\n",
      "  This may not be accurate due to some parameters are only used in language bindings but\n",
      "  passed down to XGBoost core.  Or some parameters are not used but slip through this\n",
      "  verification. Please open an issue if you find above cases.\n",
      "\n",
      "\n",
      "[CV] END .................colsample_bytree=0.4, max_depth=10; total time= 3.6min\n"
     ]
    },
    {
     "name": "stderr",
     "output_type": "stream",
     "text": [
      "/home/jeff/anaconda3/envs/work/lib/python3.6/site-packages/xgboost/sklearn.py:1146: UserWarning: The use of label encoder in XGBClassifier is deprecated and will be removed in a future release. To remove this warning, do the following: 1) Pass option use_label_encoder=False when constructing XGBClassifier object; and 2) Encode your labels (y) as integers starting with 0, i.e. 0, 1, 2, ..., [num_class - 1].\n",
      "  warnings.warn(label_encoder_deprecation_msg, UserWarning)\n"
     ]
    },
    {
     "name": "stdout",
     "output_type": "stream",
     "text": [
      "[17:04:58] WARNING: ../src/learner.cc:573: \n",
      "Parameters: { \"num_boost_round\" } might not be used.\n",
      "\n",
      "  This may not be accurate due to some parameters are only used in language bindings but\n",
      "  passed down to XGBoost core.  Or some parameters are not used but slip through this\n",
      "  verification. Please open an issue if you find above cases.\n",
      "\n",
      "\n",
      "[CV] END .................colsample_bytree=0.4, max_depth=10; total time= 3.6min\n"
     ]
    },
    {
     "name": "stderr",
     "output_type": "stream",
     "text": [
      "/home/jeff/anaconda3/envs/work/lib/python3.6/site-packages/xgboost/sklearn.py:1146: UserWarning: The use of label encoder in XGBClassifier is deprecated and will be removed in a future release. To remove this warning, do the following: 1) Pass option use_label_encoder=False when constructing XGBClassifier object; and 2) Encode your labels (y) as integers starting with 0, i.e. 0, 1, 2, ..., [num_class - 1].\n",
      "  warnings.warn(label_encoder_deprecation_msg, UserWarning)\n"
     ]
    },
    {
     "name": "stdout",
     "output_type": "stream",
     "text": [
      "[17:08:34] WARNING: ../src/learner.cc:573: \n",
      "Parameters: { \"num_boost_round\" } might not be used.\n",
      "\n",
      "  This may not be accurate due to some parameters are only used in language bindings but\n",
      "  passed down to XGBoost core.  Or some parameters are not used but slip through this\n",
      "  verification. Please open an issue if you find above cases.\n",
      "\n",
      "\n",
      "[CV] END .................colsample_bytree=0.4, max_depth=10; total time= 3.6min\n"
     ]
    },
    {
     "name": "stderr",
     "output_type": "stream",
     "text": [
      "/home/jeff/anaconda3/envs/work/lib/python3.6/site-packages/xgboost/sklearn.py:1146: UserWarning: The use of label encoder in XGBClassifier is deprecated and will be removed in a future release. To remove this warning, do the following: 1) Pass option use_label_encoder=False when constructing XGBClassifier object; and 2) Encode your labels (y) as integers starting with 0, i.e. 0, 1, 2, ..., [num_class - 1].\n",
      "  warnings.warn(label_encoder_deprecation_msg, UserWarning)\n"
     ]
    },
    {
     "name": "stdout",
     "output_type": "stream",
     "text": [
      "[17:12:08] WARNING: ../src/learner.cc:573: \n",
      "Parameters: { \"num_boost_round\" } might not be used.\n",
      "\n",
      "  This may not be accurate due to some parameters are only used in language bindings but\n",
      "  passed down to XGBoost core.  Or some parameters are not used but slip through this\n",
      "  verification. Please open an issue if you find above cases.\n",
      "\n",
      "\n"
     ]
    }
   ],
   "source": [
    "from sklearn.model_selection import GridSearchCV\n",
    "\n",
    "# parameter grid\n",
    "param_grid = {\"max_depth\":[5,10],\n",
    "            \"colsample_bytree\":[0.3,0.4]}  \n",
    "\n",
    "xgbc = xgb.XGBClassifier(objective='binary:logistic', eval_metric='logloss', num_boost_round=10)\n",
    "                         \n",
    "gridsearch = GridSearchCV(xgbc, param_grid, cv=3, verbose=2, n_jobs=1)\n",
    "\n",
    "# start grid search\n",
    "model = gridsearch.fit(X_train, y_train)\n",
    "\n",
    "# Delete X_train , y_train\n",
    "del [X_train, y_train]"
   ]
  },
  {
   "cell_type": "code",
   "execution_count": 43,
   "metadata": {},
   "outputs": [
    {
     "data": {
      "text/plain": [
       "{'colsample_bytree': 0.3, 'max_depth': 10}"
      ]
     },
     "execution_count": 43,
     "metadata": {},
     "output_type": "execute_result"
    }
   ],
   "source": [
    "# best parameter\n",
    "gridsearch.best_params_"
   ]
  },
  {
   "cell_type": "code",
   "execution_count": 44,
   "metadata": {},
   "outputs": [],
   "source": [
    "model = gridsearch.best_estimator_"
   ]
  },
  {
   "cell_type": "markdown",
   "metadata": {},
   "source": [
    "# Predict"
   ]
  },
  {
   "cell_type": "code",
   "execution_count": 69,
   "metadata": {},
   "outputs": [
    {
     "data": {
      "text/html": [
       "<div>\n",
       "<style scoped>\n",
       "    .dataframe tbody tr th:only-of-type {\n",
       "        vertical-align: middle;\n",
       "    }\n",
       "\n",
       "    .dataframe tbody tr th {\n",
       "        vertical-align: top;\n",
       "    }\n",
       "\n",
       "    .dataframe thead th {\n",
       "        text-align: right;\n",
       "    }\n",
       "</style>\n",
       "<table border=\"1\" class=\"dataframe\">\n",
       "  <thead>\n",
       "    <tr style=\"text-align: right;\">\n",
       "      <th></th>\n",
       "      <th>user_id</th>\n",
       "      <th>product_id</th>\n",
       "      <th>uxp_reorder_ratio</th>\n",
       "      <th>u_total_bought_product</th>\n",
       "      <th>u_avg_bought_p_per_order</th>\n",
       "      <th>uxp_order_ratio</th>\n",
       "    </tr>\n",
       "  </thead>\n",
       "  <tbody>\n",
       "    <tr>\n",
       "      <th>140</th>\n",
       "      <td>3</td>\n",
       "      <td>248</td>\n",
       "      <td>0.000061</td>\n",
       "      <td>0.000054</td>\n",
       "      <td>0.000139</td>\n",
       "      <td>0.000103</td>\n",
       "    </tr>\n",
       "    <tr>\n",
       "      <th>141</th>\n",
       "      <td>3</td>\n",
       "      <td>1005</td>\n",
       "      <td>0.000223</td>\n",
       "      <td>0.000054</td>\n",
       "      <td>0.000139</td>\n",
       "      <td>0.000103</td>\n",
       "    </tr>\n",
       "    <tr>\n",
       "      <th>142</th>\n",
       "      <td>3</td>\n",
       "      <td>1819</td>\n",
       "      <td>0.000223</td>\n",
       "      <td>0.000054</td>\n",
       "      <td>0.000139</td>\n",
       "      <td>0.000310</td>\n",
       "    </tr>\n",
       "    <tr>\n",
       "      <th>143</th>\n",
       "      <td>3</td>\n",
       "      <td>7503</td>\n",
       "      <td>0.000067</td>\n",
       "      <td>0.000054</td>\n",
       "      <td>0.000139</td>\n",
       "      <td>0.000103</td>\n",
       "    </tr>\n",
       "    <tr>\n",
       "      <th>144</th>\n",
       "      <td>3</td>\n",
       "      <td>8021</td>\n",
       "      <td>0.000061</td>\n",
       "      <td>0.000054</td>\n",
       "      <td>0.000139</td>\n",
       "      <td>0.000103</td>\n",
       "    </tr>\n",
       "  </tbody>\n",
       "</table>\n",
       "</div>"
      ],
      "text/plain": [
       "     user_id  product_id  uxp_reorder_ratio  u_total_bought_product  \\\n",
       "140        3         248           0.000061                0.000054   \n",
       "141        3        1005           0.000223                0.000054   \n",
       "142        3        1819           0.000223                0.000054   \n",
       "143        3        7503           0.000067                0.000054   \n",
       "144        3        8021           0.000061                0.000054   \n",
       "\n",
       "     u_avg_bought_p_per_order  uxp_order_ratio  \n",
       "140                  0.000139         0.000103  \n",
       "141                  0.000139         0.000103  \n",
       "142                  0.000139         0.000310  \n",
       "143                  0.000139         0.000103  \n",
       "144                  0.000139         0.000103  "
      ]
     },
     "execution_count": 69,
     "metadata": {},
     "output_type": "execute_result"
    }
   ],
   "source": [
    "test = df[df['eval_set'] == 'test'].copy()\n",
    "\n",
    "test = test.drop(['eval_set', 'order_id', 'reordered'], axis=1)\n",
    "\n",
    "test.head()"
   ]
  },
  {
   "cell_type": "code",
   "execution_count": 70,
   "metadata": {},
   "outputs": [
    {
     "data": {
      "text/plain": [
       "array([0, 0, 1, 0, 0, 1, 0, 1, 0, 1, 1, 1, 0, 1, 0, 1, 1, 1, 1, 1])"
      ]
     },
     "execution_count": 70,
     "metadata": {},
     "output_type": "execute_result"
    }
   ],
   "source": [
    "test_pred = (model.predict_proba(test.drop(['user_id', 'product_id'], axis=1))[:,1] >= 0.21).astype(int)\n",
    "test_pred[0:20] #display the first 20 predictions of the numpy array"
   ]
  },
  {
   "cell_type": "code",
   "execution_count": 71,
   "metadata": {},
   "outputs": [
    {
     "data": {
      "text/html": [
       "<div>\n",
       "<style scoped>\n",
       "    .dataframe tbody tr th:only-of-type {\n",
       "        vertical-align: middle;\n",
       "    }\n",
       "\n",
       "    .dataframe tbody tr th {\n",
       "        vertical-align: top;\n",
       "    }\n",
       "\n",
       "    .dataframe thead th {\n",
       "        text-align: right;\n",
       "    }\n",
       "</style>\n",
       "<table border=\"1\" class=\"dataframe\">\n",
       "  <thead>\n",
       "    <tr style=\"text-align: right;\">\n",
       "      <th></th>\n",
       "      <th>user_id</th>\n",
       "      <th>product_id</th>\n",
       "      <th>uxp_reorder_ratio</th>\n",
       "      <th>u_total_bought_product</th>\n",
       "      <th>u_avg_bought_p_per_order</th>\n",
       "      <th>uxp_order_ratio</th>\n",
       "      <th>eval_set</th>\n",
       "      <th>order_id</th>\n",
       "      <th>reordered</th>\n",
       "      <th>predict</th>\n",
       "    </tr>\n",
       "  </thead>\n",
       "  <tbody>\n",
       "    <tr>\n",
       "      <th>140</th>\n",
       "      <td>3</td>\n",
       "      <td>248</td>\n",
       "      <td>0.000061</td>\n",
       "      <td>0.000054</td>\n",
       "      <td>0.000139</td>\n",
       "      <td>0.000103</td>\n",
       "      <td>test</td>\n",
       "      <td>2774568</td>\n",
       "      <td>0</td>\n",
       "      <td>0</td>\n",
       "    </tr>\n",
       "    <tr>\n",
       "      <th>141</th>\n",
       "      <td>3</td>\n",
       "      <td>1005</td>\n",
       "      <td>0.000223</td>\n",
       "      <td>0.000054</td>\n",
       "      <td>0.000139</td>\n",
       "      <td>0.000103</td>\n",
       "      <td>test</td>\n",
       "      <td>2774568</td>\n",
       "      <td>0</td>\n",
       "      <td>0</td>\n",
       "    </tr>\n",
       "    <tr>\n",
       "      <th>142</th>\n",
       "      <td>3</td>\n",
       "      <td>1819</td>\n",
       "      <td>0.000223</td>\n",
       "      <td>0.000054</td>\n",
       "      <td>0.000139</td>\n",
       "      <td>0.000310</td>\n",
       "      <td>test</td>\n",
       "      <td>2774568</td>\n",
       "      <td>1</td>\n",
       "      <td>1</td>\n",
       "    </tr>\n",
       "    <tr>\n",
       "      <th>143</th>\n",
       "      <td>3</td>\n",
       "      <td>7503</td>\n",
       "      <td>0.000067</td>\n",
       "      <td>0.000054</td>\n",
       "      <td>0.000139</td>\n",
       "      <td>0.000103</td>\n",
       "      <td>test</td>\n",
       "      <td>2774568</td>\n",
       "      <td>0</td>\n",
       "      <td>0</td>\n",
       "    </tr>\n",
       "    <tr>\n",
       "      <th>144</th>\n",
       "      <td>3</td>\n",
       "      <td>8021</td>\n",
       "      <td>0.000061</td>\n",
       "      <td>0.000054</td>\n",
       "      <td>0.000139</td>\n",
       "      <td>0.000103</td>\n",
       "      <td>test</td>\n",
       "      <td>2774568</td>\n",
       "      <td>0</td>\n",
       "      <td>0</td>\n",
       "    </tr>\n",
       "  </tbody>\n",
       "</table>\n",
       "</div>"
      ],
      "text/plain": [
       "     user_id  product_id  uxp_reorder_ratio  u_total_bought_product  \\\n",
       "140        3         248           0.000061                0.000054   \n",
       "141        3        1005           0.000223                0.000054   \n",
       "142        3        1819           0.000223                0.000054   \n",
       "143        3        7503           0.000067                0.000054   \n",
       "144        3        8021           0.000061                0.000054   \n",
       "\n",
       "     u_avg_bought_p_per_order  uxp_order_ratio eval_set  order_id  reordered  \\\n",
       "140                  0.000139         0.000103     test   2774568          0   \n",
       "141                  0.000139         0.000103     test   2774568          0   \n",
       "142                  0.000139         0.000310     test   2774568          1   \n",
       "143                  0.000139         0.000103     test   2774568          0   \n",
       "144                  0.000139         0.000103     test   2774568          0   \n",
       "\n",
       "     predict  \n",
       "140        0  \n",
       "141        0  \n",
       "142        1  \n",
       "143        0  \n",
       "144        0  "
      ]
     },
     "execution_count": 71,
     "metadata": {},
     "output_type": "execute_result"
    }
   ],
   "source": [
    "submit = df[df['eval_set'] == 'test'].copy()\n",
    "\n",
    "submit['predict'] = test_pred\n",
    "\n",
    "submit.head()"
   ]
  },
  {
   "cell_type": "code",
   "execution_count": 72,
   "metadata": {},
   "outputs": [
    {
     "data": {
      "text/html": [
       "<div>\n",
       "<style scoped>\n",
       "    .dataframe tbody tr th:only-of-type {\n",
       "        vertical-align: middle;\n",
       "    }\n",
       "\n",
       "    .dataframe tbody tr th {\n",
       "        vertical-align: top;\n",
       "    }\n",
       "\n",
       "    .dataframe thead th {\n",
       "        text-align: right;\n",
       "    }\n",
       "</style>\n",
       "<table border=\"1\" class=\"dataframe\">\n",
       "  <thead>\n",
       "    <tr style=\"text-align: right;\">\n",
       "      <th></th>\n",
       "      <th>user_id</th>\n",
       "      <th>product_id</th>\n",
       "      <th>uxp_reorder_ratio</th>\n",
       "      <th>u_total_bought_product</th>\n",
       "      <th>u_avg_bought_p_per_order</th>\n",
       "      <th>uxp_order_ratio</th>\n",
       "      <th>eval_set</th>\n",
       "      <th>order_id</th>\n",
       "      <th>reordered</th>\n",
       "      <th>predict</th>\n",
       "    </tr>\n",
       "  </thead>\n",
       "  <tbody>\n",
       "    <tr>\n",
       "      <th>218</th>\n",
       "      <td>6</td>\n",
       "      <td>8424</td>\n",
       "      <td>0.000668</td>\n",
       "      <td>0.000009</td>\n",
       "      <td>0.000088</td>\n",
       "      <td>0.000413</td>\n",
       "      <td>test</td>\n",
       "      <td>1528013</td>\n",
       "      <td>0</td>\n",
       "      <td>1</td>\n",
       "    </tr>\n",
       "    <tr>\n",
       "      <th>219</th>\n",
       "      <td>6</td>\n",
       "      <td>10644</td>\n",
       "      <td>0.000334</td>\n",
       "      <td>0.000009</td>\n",
       "      <td>0.000088</td>\n",
       "      <td>0.000413</td>\n",
       "      <td>test</td>\n",
       "      <td>1528013</td>\n",
       "      <td>0</td>\n",
       "      <td>1</td>\n",
       "    </tr>\n",
       "    <tr>\n",
       "      <th>220</th>\n",
       "      <td>6</td>\n",
       "      <td>11068</td>\n",
       "      <td>0.000334</td>\n",
       "      <td>0.000009</td>\n",
       "      <td>0.000088</td>\n",
       "      <td>0.000413</td>\n",
       "      <td>test</td>\n",
       "      <td>1528013</td>\n",
       "      <td>0</td>\n",
       "      <td>1</td>\n",
       "    </tr>\n",
       "    <tr>\n",
       "      <th>221</th>\n",
       "      <td>6</td>\n",
       "      <td>20323</td>\n",
       "      <td>0.000334</td>\n",
       "      <td>0.000009</td>\n",
       "      <td>0.000088</td>\n",
       "      <td>0.000413</td>\n",
       "      <td>test</td>\n",
       "      <td>1528013</td>\n",
       "      <td>0</td>\n",
       "      <td>1</td>\n",
       "    </tr>\n",
       "    <tr>\n",
       "      <th>223</th>\n",
       "      <td>6</td>\n",
       "      <td>25659</td>\n",
       "      <td>0.000668</td>\n",
       "      <td>0.000009</td>\n",
       "      <td>0.000088</td>\n",
       "      <td>0.000413</td>\n",
       "      <td>test</td>\n",
       "      <td>1528013</td>\n",
       "      <td>0</td>\n",
       "      <td>1</td>\n",
       "    </tr>\n",
       "    <tr>\n",
       "      <th>...</th>\n",
       "      <td>...</td>\n",
       "      <td>...</td>\n",
       "      <td>...</td>\n",
       "      <td>...</td>\n",
       "      <td>...</td>\n",
       "      <td>...</td>\n",
       "      <td>...</td>\n",
       "      <td>...</td>\n",
       "      <td>...</td>\n",
       "      <td>...</td>\n",
       "    </tr>\n",
       "    <tr>\n",
       "      <th>13861489</th>\n",
       "      <td>206179</td>\n",
       "      <td>43195</td>\n",
       "      <td>0.000668</td>\n",
       "      <td>0.000027</td>\n",
       "      <td>0.000278</td>\n",
       "      <td>0.000413</td>\n",
       "      <td>test</td>\n",
       "      <td>2900626</td>\n",
       "      <td>0</td>\n",
       "      <td>1</td>\n",
       "    </tr>\n",
       "    <tr>\n",
       "      <th>13861490</th>\n",
       "      <td>206179</td>\n",
       "      <td>44697</td>\n",
       "      <td>0.000334</td>\n",
       "      <td>0.000027</td>\n",
       "      <td>0.000278</td>\n",
       "      <td>0.000413</td>\n",
       "      <td>test</td>\n",
       "      <td>2900626</td>\n",
       "      <td>0</td>\n",
       "      <td>1</td>\n",
       "    </tr>\n",
       "    <tr>\n",
       "      <th>13861491</th>\n",
       "      <td>206179</td>\n",
       "      <td>46522</td>\n",
       "      <td>0.000334</td>\n",
       "      <td>0.000027</td>\n",
       "      <td>0.000278</td>\n",
       "      <td>0.000413</td>\n",
       "      <td>test</td>\n",
       "      <td>2900626</td>\n",
       "      <td>0</td>\n",
       "      <td>1</td>\n",
       "    </tr>\n",
       "    <tr>\n",
       "      <th>13861492</th>\n",
       "      <td>206179</td>\n",
       "      <td>47734</td>\n",
       "      <td>0.000334</td>\n",
       "      <td>0.000027</td>\n",
       "      <td>0.000278</td>\n",
       "      <td>0.000413</td>\n",
       "      <td>test</td>\n",
       "      <td>2900626</td>\n",
       "      <td>0</td>\n",
       "      <td>1</td>\n",
       "    </tr>\n",
       "    <tr>\n",
       "      <th>13861494</th>\n",
       "      <td>206179</td>\n",
       "      <td>49670</td>\n",
       "      <td>0.000334</td>\n",
       "      <td>0.000027</td>\n",
       "      <td>0.000278</td>\n",
       "      <td>0.000413</td>\n",
       "      <td>test</td>\n",
       "      <td>2900626</td>\n",
       "      <td>0</td>\n",
       "      <td>1</td>\n",
       "    </tr>\n",
       "  </tbody>\n",
       "</table>\n",
       "<p>158562 rows × 10 columns</p>\n",
       "</div>"
      ],
      "text/plain": [
       "          user_id  product_id  uxp_reorder_ratio  u_total_bought_product  \\\n",
       "218             6        8424           0.000668                0.000009   \n",
       "219             6       10644           0.000334                0.000009   \n",
       "220             6       11068           0.000334                0.000009   \n",
       "221             6       20323           0.000334                0.000009   \n",
       "223             6       25659           0.000668                0.000009   \n",
       "...           ...         ...                ...                     ...   \n",
       "13861489   206179       43195           0.000668                0.000027   \n",
       "13861490   206179       44697           0.000334                0.000027   \n",
       "13861491   206179       46522           0.000334                0.000027   \n",
       "13861492   206179       47734           0.000334                0.000027   \n",
       "13861494   206179       49670           0.000334                0.000027   \n",
       "\n",
       "          u_avg_bought_p_per_order  uxp_order_ratio eval_set  order_id  \\\n",
       "218                       0.000088         0.000413     test   1528013   \n",
       "219                       0.000088         0.000413     test   1528013   \n",
       "220                       0.000088         0.000413     test   1528013   \n",
       "221                       0.000088         0.000413     test   1528013   \n",
       "223                       0.000088         0.000413     test   1528013   \n",
       "...                            ...              ...      ...       ...   \n",
       "13861489                  0.000278         0.000413     test   2900626   \n",
       "13861490                  0.000278         0.000413     test   2900626   \n",
       "13861491                  0.000278         0.000413     test   2900626   \n",
       "13861492                  0.000278         0.000413     test   2900626   \n",
       "13861494                  0.000278         0.000413     test   2900626   \n",
       "\n",
       "          reordered  predict  \n",
       "218               0        1  \n",
       "219               0        1  \n",
       "220               0        1  \n",
       "221               0        1  \n",
       "223               0        1  \n",
       "...             ...      ...  \n",
       "13861489          0        1  \n",
       "13861490          0        1  \n",
       "13861491          0        1  \n",
       "13861492          0        1  \n",
       "13861494          0        1  \n",
       "\n",
       "[158562 rows x 10 columns]"
      ]
     },
     "execution_count": 72,
     "metadata": {},
     "output_type": "execute_result"
    }
   ],
   "source": [
    "# see the difference after predict\n",
    "submit[submit.reordered != submit.predict]"
   ]
  },
  {
   "cell_type": "markdown",
   "metadata": {},
   "source": [
    "# Make output"
   ]
  },
  {
   "cell_type": "code",
   "execution_count": 73,
   "metadata": {},
   "outputs": [
    {
     "data": {
      "text/plain": [
       "75000"
      ]
     },
     "execution_count": 73,
     "metadata": {},
     "output_type": "execute_result"
    }
   ],
   "source": [
    "# sanity check\n",
    "# check if order_id is 75000\n",
    "# because output should have 75000 row (according to Kaggle competition page)\n",
    "\n",
    "len(set(submit['order_id']))"
   ]
  },
  {
   "cell_type": "code",
   "execution_count": 74,
   "metadata": {},
   "outputs": [],
   "source": [
    "# order_id : products\n",
    "submit_map = {}"
   ]
  },
  {
   "cell_type": "code",
   "execution_count": 75,
   "metadata": {},
   "outputs": [],
   "source": [
    "# first give every order id a empty basket\n",
    "for od_id in set(submit['order_id']):\n",
    "    submit_map[od_id] = []"
   ]
  },
  {
   "cell_type": "code",
   "execution_count": 76,
   "metadata": {},
   "outputs": [
    {
     "data": {
      "text/html": [
       "<div>\n",
       "<style scoped>\n",
       "    .dataframe tbody tr th:only-of-type {\n",
       "        vertical-align: middle;\n",
       "    }\n",
       "\n",
       "    .dataframe tbody tr th {\n",
       "        vertical-align: top;\n",
       "    }\n",
       "\n",
       "    .dataframe thead th {\n",
       "        text-align: right;\n",
       "    }\n",
       "</style>\n",
       "<table border=\"1\" class=\"dataframe\">\n",
       "  <thead>\n",
       "    <tr style=\"text-align: right;\">\n",
       "      <th></th>\n",
       "      <th>user_id</th>\n",
       "      <th>product_id</th>\n",
       "      <th>uxp_reorder_ratio</th>\n",
       "      <th>u_total_bought_product</th>\n",
       "      <th>u_avg_bought_p_per_order</th>\n",
       "      <th>uxp_order_ratio</th>\n",
       "      <th>eval_set</th>\n",
       "      <th>order_id</th>\n",
       "      <th>reordered</th>\n",
       "      <th>predict</th>\n",
       "    </tr>\n",
       "  </thead>\n",
       "  <tbody>\n",
       "    <tr>\n",
       "      <th>142</th>\n",
       "      <td>3</td>\n",
       "      <td>1819</td>\n",
       "      <td>0.000223</td>\n",
       "      <td>0.000054</td>\n",
       "      <td>0.000139</td>\n",
       "      <td>0.000310</td>\n",
       "      <td>test</td>\n",
       "      <td>2774568</td>\n",
       "      <td>1</td>\n",
       "      <td>1</td>\n",
       "    </tr>\n",
       "    <tr>\n",
       "      <th>145</th>\n",
       "      <td>3</td>\n",
       "      <td>9387</td>\n",
       "      <td>0.000278</td>\n",
       "      <td>0.000054</td>\n",
       "      <td>0.000139</td>\n",
       "      <td>0.000516</td>\n",
       "      <td>test</td>\n",
       "      <td>2774568</td>\n",
       "      <td>1</td>\n",
       "      <td>1</td>\n",
       "    </tr>\n",
       "    <tr>\n",
       "      <th>147</th>\n",
       "      <td>3</td>\n",
       "      <td>14992</td>\n",
       "      <td>0.000191</td>\n",
       "      <td>0.000054</td>\n",
       "      <td>0.000139</td>\n",
       "      <td>0.000206</td>\n",
       "      <td>test</td>\n",
       "      <td>2774568</td>\n",
       "      <td>1</td>\n",
       "      <td>1</td>\n",
       "    </tr>\n",
       "    <tr>\n",
       "      <th>149</th>\n",
       "      <td>3</td>\n",
       "      <td>16797</td>\n",
       "      <td>0.000167</td>\n",
       "      <td>0.000054</td>\n",
       "      <td>0.000139</td>\n",
       "      <td>0.000310</td>\n",
       "      <td>test</td>\n",
       "      <td>2774568</td>\n",
       "      <td>1</td>\n",
       "      <td>1</td>\n",
       "    </tr>\n",
       "    <tr>\n",
       "      <th>150</th>\n",
       "      <td>3</td>\n",
       "      <td>16965</td>\n",
       "      <td>0.000148</td>\n",
       "      <td>0.000054</td>\n",
       "      <td>0.000139</td>\n",
       "      <td>0.000206</td>\n",
       "      <td>test</td>\n",
       "      <td>2774568</td>\n",
       "      <td>1</td>\n",
       "      <td>1</td>\n",
       "    </tr>\n",
       "  </tbody>\n",
       "</table>\n",
       "</div>"
      ],
      "text/plain": [
       "     user_id  product_id  uxp_reorder_ratio  u_total_bought_product  \\\n",
       "142        3        1819           0.000223                0.000054   \n",
       "145        3        9387           0.000278                0.000054   \n",
       "147        3       14992           0.000191                0.000054   \n",
       "149        3       16797           0.000167                0.000054   \n",
       "150        3       16965           0.000148                0.000054   \n",
       "\n",
       "     u_avg_bought_p_per_order  uxp_order_ratio eval_set  order_id  reordered  \\\n",
       "142                  0.000139         0.000310     test   2774568          1   \n",
       "145                  0.000139         0.000516     test   2774568          1   \n",
       "147                  0.000139         0.000206     test   2774568          1   \n",
       "149                  0.000139         0.000310     test   2774568          1   \n",
       "150                  0.000139         0.000206     test   2774568          1   \n",
       "\n",
       "     predict  \n",
       "142        1  \n",
       "145        1  \n",
       "147        1  \n",
       "149        1  \n",
       "150        1  "
      ]
     },
     "execution_count": 76,
     "metadata": {},
     "output_type": "execute_result"
    }
   ],
   "source": [
    "# now we get the dataset of reordered\n",
    "reordered_test_df = submit[submit['reordered'] == 1]\n",
    "\n",
    "reordered_test_df.head()"
   ]
  },
  {
   "cell_type": "code",
   "execution_count": 77,
   "metadata": {},
   "outputs": [],
   "source": [
    "from tqdm import tqdm"
   ]
  },
  {
   "cell_type": "code",
   "execution_count": 78,
   "metadata": {},
   "outputs": [
    {
     "name": "stderr",
     "output_type": "stream",
     "text": [
      "1934118it [04:28, 7197.70it/s]\n"
     ]
    }
   ],
   "source": [
    "# put reordered item in each submit_order_id basket\n",
    "for row in tqdm(reordered_test_df.iloc):\n",
    "    submit_map[row.order_id].append(row.product_id)"
   ]
  },
  {
   "cell_type": "code",
   "execution_count": 79,
   "metadata": {},
   "outputs": [
    {
     "name": "stderr",
     "output_type": "stream",
     "text": [
      "100%|██████████| 75000/75000 [00:00<00:00, 77532.28it/s]\n"
     ]
    }
   ],
   "source": [
    "f = open('submit_xgb.csv', 'w')\n",
    "\n",
    "f.write('order_id,products\\n')\n",
    "\n",
    "for i in tqdm(submit_map.items()):\n",
    "    f.write('{},'.format(i[0]))\n",
    "    \n",
    "    # if order basket is empty\n",
    "    if len(i[1]) == 0:\n",
    "        f.write('None\\n')\n",
    "    \n",
    "    else:\n",
    "        FIRST = True\n",
    "        for p in i[1]:\n",
    "            if FIRST:\n",
    "                FIRST = False\n",
    "                f.write('{}'.format(p))\n",
    "            else:\n",
    "                f.write(' {}'.format(p))\n",
    "        f.write('\\n')\n",
    "        \n",
    "f.close()"
   ]
  },
  {
   "cell_type": "code",
   "execution_count": null,
   "metadata": {},
   "outputs": [],
   "source": []
  }
 ],
 "metadata": {
  "accelerator": "GPU",
  "colab": {
   "authorship_tag": "ABX9TyO+MwnY5XhRxm90iQaY8ypM",
   "collapsed_sections": [],
   "name": "MF.ipynb",
   "provenance": []
  },
  "kernelspec": {
   "display_name": "Python 3",
   "language": "python",
   "name": "python3"
  },
  "language_info": {
   "codemirror_mode": {
    "name": "ipython",
    "version": 3
   },
   "file_extension": ".py",
   "mimetype": "text/x-python",
   "name": "python",
   "nbconvert_exporter": "python",
   "pygments_lexer": "ipython3",
   "version": "3.6.12"
  }
 },
 "nbformat": 4,
 "nbformat_minor": 4
}
