{
 "cells": [
  {
   "cell_type": "code",
   "execution_count": 1,
   "metadata": {
    "colab": {
     "base_uri": "https://localhost:8080/"
    },
    "executionInfo": {
     "elapsed": 400,
     "status": "ok",
     "timestamp": 1623070748278,
     "user": {
      "displayName": "方郁文",
      "photoUrl": "",
      "userId": "06852567172259853351"
     },
     "user_tz": -480
    },
    "id": "ZWf6ITdfwm2l",
    "outputId": "3dd694b7-ed2b-4750-ad18-9913361ff0c0"
   },
   "outputs": [],
   "source": [
    "# if use google colab, mount your drive\n",
    "\n",
    "# from google.colab import drive\n",
    "# drive.mount('/content/gdrive')\n",
    "\n",
    "# dataset_path = F\"/content/gdrive/My Drive/dsai_final/\""
   ]
  },
  {
   "cell_type": "code",
   "execution_count": 1,
   "metadata": {
    "executionInfo": {
     "elapsed": 4,
     "status": "ok",
     "timestamp": 1623070748715,
     "user": {
      "displayName": "方郁文",
      "photoUrl": "",
      "userId": "06852567172259853351"
     },
     "user_tz": -480
    },
    "id": "Far_GzinxXMO"
   },
   "outputs": [],
   "source": [
    "import glob\n",
    "import os"
   ]
  },
  {
   "cell_type": "code",
   "execution_count": 2,
   "metadata": {
    "colab": {
     "base_uri": "https://localhost:8080/"
    },
    "executionInfo": {
     "elapsed": 5,
     "status": "ok",
     "timestamp": 1623070749814,
     "user": {
      "displayName": "方郁文",
      "photoUrl": "",
      "userId": "06852567172259853351"
     },
     "user_tz": -480
    },
    "id": "GQzS2vAYxhFS",
    "outputId": "8a45cfd4-aaf2-4147-ffa8-59d877f41bc6"
   },
   "outputs": [
    {
     "data": {
      "text/plain": [
       "['../uxp_full_data.csv', '../test.csv', '../uxp_10_percent_data.csv']"
      ]
     },
     "execution_count": 2,
     "metadata": {},
     "output_type": "execute_result"
    }
   ],
   "source": [
    "glob.glob(os.path.join('..', '*.csv'))"
   ]
  },
  {
   "cell_type": "markdown",
   "metadata": {
    "id": "KDswF9XgyBCW"
   },
   "source": [
    "# Read Training Data"
   ]
  },
  {
   "cell_type": "code",
   "execution_count": 3,
   "metadata": {
    "executionInfo": {
     "elapsed": 1,
     "status": "ok",
     "timestamp": 1623070750251,
     "user": {
      "displayName": "方郁文",
      "photoUrl": "",
      "userId": "06852567172259853351"
     },
     "user_tz": -480
    },
    "id": "M82oU7-lyCHE"
   },
   "outputs": [],
   "source": [
    "import pandas as pd\n",
    "import numpy as np\n",
    "from tqdm import tqdm"
   ]
  },
  {
   "cell_type": "code",
   "execution_count": 4,
   "metadata": {
    "colab": {
     "base_uri": "https://localhost:8080/"
    },
    "executionInfo": {
     "elapsed": 1365,
     "status": "ok",
     "timestamp": 1623070752352,
     "user": {
      "displayName": "方郁文",
      "photoUrl": "",
      "userId": "06852567172259853351"
     },
     "user_tz": -480
    },
    "id": "zbNGa5qiyEEd",
    "outputId": "9f622590-f91b-40e6-989a-2d987761de38"
   },
   "outputs": [
    {
     "name": "stderr",
     "output_type": "stream",
     "text": [
      "/home/jeff/anaconda3/envs/work/lib/python3.6/site-packages/numpy/lib/arraysetops.py:580: FutureWarning: elementwise comparison failed; returning scalar instead, but in the future will perform elementwise comparison\n",
      "  mask |= (ar1 == a)\n"
     ]
    }
   ],
   "source": [
    "# read training data\n",
    "df = pd.read_csv('../uxp_full_data.csv', index_col=0)"
   ]
  },
  {
   "cell_type": "code",
   "execution_count": 5,
   "metadata": {
    "colab": {
     "base_uri": "https://localhost:8080/"
    },
    "executionInfo": {
     "elapsed": 12,
     "status": "ok",
     "timestamp": 1623070752352,
     "user": {
      "displayName": "方郁文",
      "photoUrl": "",
      "userId": "06852567172259853351"
     },
     "user_tz": -480
    },
    "id": "4t4rtBnxJksQ",
    "outputId": "c1e90feb-cb77-4d85-abe9-550a9837d54f"
   },
   "outputs": [
    {
     "data": {
      "text/plain": [
       "(206209, 49688)"
      ]
     },
     "execution_count": 5,
     "metadata": {},
     "output_type": "execute_result"
    }
   ],
   "source": [
    "# get number of user and product\n",
    "N_USER = np.max(df['user_id'])\n",
    "N_PRODUCT = np.max(df['product_id'])\n",
    "\n",
    "N_USER, N_PRODUCT"
   ]
  },
  {
   "cell_type": "code",
   "execution_count": 6,
   "metadata": {
    "colab": {
     "base_uri": "https://localhost:8080/",
     "height": 197
    },
    "executionInfo": {
     "elapsed": 10,
     "status": "ok",
     "timestamp": 1623070752353,
     "user": {
      "displayName": "方郁文",
      "photoUrl": "",
      "userId": "06852567172259853351"
     },
     "user_tz": -480
    },
    "id": "-XIpDoknyY4u",
    "outputId": "b8800adc-4d75-4e55-cfdc-8a357271b40e"
   },
   "outputs": [
    {
     "data": {
      "text/html": [
       "<div>\n",
       "<style scoped>\n",
       "    .dataframe tbody tr th:only-of-type {\n",
       "        vertical-align: middle;\n",
       "    }\n",
       "\n",
       "    .dataframe tbody tr th {\n",
       "        vertical-align: top;\n",
       "    }\n",
       "\n",
       "    .dataframe thead th {\n",
       "        text-align: right;\n",
       "    }\n",
       "</style>\n",
       "<table border=\"1\" class=\"dataframe\">\n",
       "  <thead>\n",
       "    <tr style=\"text-align: right;\">\n",
       "      <th></th>\n",
       "      <th>user_id</th>\n",
       "      <th>product_id</th>\n",
       "      <th>uxp_reorder_ratio</th>\n",
       "      <th>u_total_bought_product</th>\n",
       "      <th>u_avg_bought_p_per_order</th>\n",
       "      <th>uxp_order_ratio</th>\n",
       "      <th>uxp_bought_before</th>\n",
       "      <th>score</th>\n",
       "    </tr>\n",
       "  </thead>\n",
       "  <tbody>\n",
       "    <tr>\n",
       "      <th>0</th>\n",
       "      <td>1</td>\n",
       "      <td>196</td>\n",
       "      <td>1.000000</td>\n",
       "      <td>70</td>\n",
       "      <td>6.363636</td>\n",
       "      <td>1.000000</td>\n",
       "      <td>1</td>\n",
       "      <td>2.100000</td>\n",
       "    </tr>\n",
       "    <tr>\n",
       "      <th>1</th>\n",
       "      <td>1</td>\n",
       "      <td>10258</td>\n",
       "      <td>1.000000</td>\n",
       "      <td>70</td>\n",
       "      <td>6.363636</td>\n",
       "      <td>0.909091</td>\n",
       "      <td>1</td>\n",
       "      <td>2.009091</td>\n",
       "    </tr>\n",
       "    <tr>\n",
       "      <th>2</th>\n",
       "      <td>1</td>\n",
       "      <td>10326</td>\n",
       "      <td>0.142857</td>\n",
       "      <td>70</td>\n",
       "      <td>6.363636</td>\n",
       "      <td>0.090909</td>\n",
       "      <td>1</td>\n",
       "      <td>0.333766</td>\n",
       "    </tr>\n",
       "    <tr>\n",
       "      <th>3</th>\n",
       "      <td>1</td>\n",
       "      <td>12427</td>\n",
       "      <td>0.909091</td>\n",
       "      <td>70</td>\n",
       "      <td>6.363636</td>\n",
       "      <td>0.909091</td>\n",
       "      <td>1</td>\n",
       "      <td>1.918182</td>\n",
       "    </tr>\n",
       "    <tr>\n",
       "      <th>4</th>\n",
       "      <td>1</td>\n",
       "      <td>13032</td>\n",
       "      <td>0.400000</td>\n",
       "      <td>70</td>\n",
       "      <td>6.363636</td>\n",
       "      <td>0.363636</td>\n",
       "      <td>1</td>\n",
       "      <td>0.863636</td>\n",
       "    </tr>\n",
       "  </tbody>\n",
       "</table>\n",
       "</div>"
      ],
      "text/plain": [
       "   user_id  product_id  uxp_reorder_ratio  u_total_bought_product  \\\n",
       "0        1         196           1.000000                      70   \n",
       "1        1       10258           1.000000                      70   \n",
       "2        1       10326           0.142857                      70   \n",
       "3        1       12427           0.909091                      70   \n",
       "4        1       13032           0.400000                      70   \n",
       "\n",
       "   u_avg_bought_p_per_order  uxp_order_ratio  uxp_bought_before     score  \n",
       "0                  6.363636         1.000000                  1  2.100000  \n",
       "1                  6.363636         0.909091                  1  2.009091  \n",
       "2                  6.363636         0.090909                  1  0.333766  \n",
       "3                  6.363636         0.909091                  1  1.918182  \n",
       "4                  6.363636         0.363636                  1  0.863636  "
      ]
     },
     "execution_count": 6,
     "metadata": {},
     "output_type": "execute_result"
    }
   ],
   "source": [
    "df.head()"
   ]
  },
  {
   "cell_type": "code",
   "execution_count": 7,
   "metadata": {
    "colab": {
     "base_uri": "https://localhost:8080/",
     "height": 197
    },
    "executionInfo": {
     "elapsed": 8,
     "status": "ok",
     "timestamp": 1623070752353,
     "user": {
      "displayName": "方郁文",
      "photoUrl": "",
      "userId": "06852567172259853351"
     },
     "user_tz": -480
    },
    "id": "7XQ6ZZ2C3cJv",
    "outputId": "9df446ae-a227-4369-de81-ad76f3edf3fd"
   },
   "outputs": [
    {
     "data": {
      "text/html": [
       "<div>\n",
       "<style scoped>\n",
       "    .dataframe tbody tr th:only-of-type {\n",
       "        vertical-align: middle;\n",
       "    }\n",
       "\n",
       "    .dataframe tbody tr th {\n",
       "        vertical-align: top;\n",
       "    }\n",
       "\n",
       "    .dataframe thead th {\n",
       "        text-align: right;\n",
       "    }\n",
       "</style>\n",
       "<table border=\"1\" class=\"dataframe\">\n",
       "  <thead>\n",
       "    <tr style=\"text-align: right;\">\n",
       "      <th></th>\n",
       "      <th>user_id</th>\n",
       "      <th>product_id</th>\n",
       "      <th>uxp_reorder_ratio</th>\n",
       "      <th>u_total_bought_product</th>\n",
       "      <th>u_avg_bought_p_per_order</th>\n",
       "      <th>uxp_order_ratio</th>\n",
       "      <th>uxp_bought_before</th>\n",
       "      <th>score</th>\n",
       "    </tr>\n",
       "  </thead>\n",
       "  <tbody>\n",
       "    <tr>\n",
       "      <th>13863741</th>\n",
       "      <td>206209</td>\n",
       "      <td>43961</td>\n",
       "      <td>0.272727</td>\n",
       "      <td>137</td>\n",
       "      <td>9.785714</td>\n",
       "      <td>0.214286</td>\n",
       "      <td>1</td>\n",
       "      <td>0.587013</td>\n",
       "    </tr>\n",
       "    <tr>\n",
       "      <th>13863742</th>\n",
       "      <td>206209</td>\n",
       "      <td>44325</td>\n",
       "      <td>0.125000</td>\n",
       "      <td>137</td>\n",
       "      <td>9.785714</td>\n",
       "      <td>0.071429</td>\n",
       "      <td>1</td>\n",
       "      <td>0.296429</td>\n",
       "    </tr>\n",
       "    <tr>\n",
       "      <th>13863743</th>\n",
       "      <td>206209</td>\n",
       "      <td>48370</td>\n",
       "      <td>0.250000</td>\n",
       "      <td>137</td>\n",
       "      <td>9.785714</td>\n",
       "      <td>0.071429</td>\n",
       "      <td>1</td>\n",
       "      <td>0.421429</td>\n",
       "    </tr>\n",
       "    <tr>\n",
       "      <th>13863744</th>\n",
       "      <td>206209</td>\n",
       "      <td>48697</td>\n",
       "      <td>0.125000</td>\n",
       "      <td>137</td>\n",
       "      <td>9.785714</td>\n",
       "      <td>0.071429</td>\n",
       "      <td>1</td>\n",
       "      <td>0.296429</td>\n",
       "    </tr>\n",
       "    <tr>\n",
       "      <th>13863745</th>\n",
       "      <td>206209</td>\n",
       "      <td>48742</td>\n",
       "      <td>0.250000</td>\n",
       "      <td>137</td>\n",
       "      <td>9.785714</td>\n",
       "      <td>0.142857</td>\n",
       "      <td>1</td>\n",
       "      <td>0.492857</td>\n",
       "    </tr>\n",
       "  </tbody>\n",
       "</table>\n",
       "</div>"
      ],
      "text/plain": [
       "          user_id  product_id  uxp_reorder_ratio  u_total_bought_product  \\\n",
       "13863741   206209       43961           0.272727                     137   \n",
       "13863742   206209       44325           0.125000                     137   \n",
       "13863743   206209       48370           0.250000                     137   \n",
       "13863744   206209       48697           0.125000                     137   \n",
       "13863745   206209       48742           0.250000                     137   \n",
       "\n",
       "          u_avg_bought_p_per_order  uxp_order_ratio  uxp_bought_before  \\\n",
       "13863741                  9.785714         0.214286                  1   \n",
       "13863742                  9.785714         0.071429                  1   \n",
       "13863743                  9.785714         0.071429                  1   \n",
       "13863744                  9.785714         0.071429                  1   \n",
       "13863745                  9.785714         0.142857                  1   \n",
       "\n",
       "             score  \n",
       "13863741  0.587013  \n",
       "13863742  0.296429  \n",
       "13863743  0.421429  \n",
       "13863744  0.296429  \n",
       "13863745  0.492857  "
      ]
     },
     "execution_count": 7,
     "metadata": {},
     "output_type": "execute_result"
    }
   ],
   "source": [
    "df.tail()"
   ]
  },
  {
   "cell_type": "markdown",
   "metadata": {
    "id": "nXGVlFc216K8"
   },
   "source": [
    "# Create LeaveOneOut for each user\n",
    "\n",
    "{user_id : product_id}"
   ]
  },
  {
   "cell_type": "markdown",
   "metadata": {},
   "source": [
    "Efficient way to leaveOneOut"
   ]
  },
  {
   "cell_type": "code",
   "execution_count": 8,
   "metadata": {
    "scrolled": true
   },
   "outputs": [
    {
     "data": {
      "text/html": [
       "<div>\n",
       "<style scoped>\n",
       "    .dataframe tbody tr th:only-of-type {\n",
       "        vertical-align: middle;\n",
       "    }\n",
       "\n",
       "    .dataframe tbody tr th {\n",
       "        vertical-align: top;\n",
       "    }\n",
       "\n",
       "    .dataframe thead th {\n",
       "        text-align: right;\n",
       "    }\n",
       "</style>\n",
       "<table border=\"1\" class=\"dataframe\">\n",
       "  <thead>\n",
       "    <tr style=\"text-align: right;\">\n",
       "      <th></th>\n",
       "      <th>user_id</th>\n",
       "      <th>product_id</th>\n",
       "    </tr>\n",
       "  </thead>\n",
       "  <tbody>\n",
       "    <tr>\n",
       "      <th>0</th>\n",
       "      <td>1</td>\n",
       "      <td>49235</td>\n",
       "    </tr>\n",
       "    <tr>\n",
       "      <th>1</th>\n",
       "      <td>2</td>\n",
       "      <td>49451</td>\n",
       "    </tr>\n",
       "    <tr>\n",
       "      <th>2</th>\n",
       "      <td>3</td>\n",
       "      <td>49683</td>\n",
       "    </tr>\n",
       "    <tr>\n",
       "      <th>3</th>\n",
       "      <td>4</td>\n",
       "      <td>43704</td>\n",
       "    </tr>\n",
       "    <tr>\n",
       "      <th>4</th>\n",
       "      <td>5</td>\n",
       "      <td>48775</td>\n",
       "    </tr>\n",
       "  </tbody>\n",
       "</table>\n",
       "</div>"
      ],
      "text/plain": [
       "   user_id  product_id\n",
       "0        1       49235\n",
       "1        2       49451\n",
       "2        3       49683\n",
       "3        4       43704\n",
       "4        5       48775"
      ]
     },
     "execution_count": 8,
     "metadata": {},
     "output_type": "execute_result"
    }
   ],
   "source": [
    "loo = df.groupby('user_id')['product_id'].max().to_frame('product_id')\n",
    "\n",
    "loo = loo.reset_index()\n",
    "\n",
    "loo.head()"
   ]
  },
  {
   "cell_type": "code",
   "execution_count": 9,
   "metadata": {},
   "outputs": [],
   "source": [
    "leaveOneOut = {}\n",
    "\n",
    "for i in range(len(loo)):\n",
    "    leaveOneOut[loo['user_id'].iloc[i]] = loo['product_id'].iloc[i]"
   ]
  },
  {
   "cell_type": "markdown",
   "metadata": {},
   "source": [
    "Don't Use This so slow..."
   ]
  },
  {
   "cell_type": "code",
   "execution_count": 10,
   "metadata": {
    "colab": {
     "base_uri": "https://localhost:8080/"
    },
    "executionInfo": {
     "elapsed": 39475,
     "status": "ok",
     "timestamp": 1623070792265,
     "user": {
      "displayName": "方郁文",
      "photoUrl": "",
      "userId": "06852567172259853351"
     },
     "user_tz": -480
    },
    "id": "gMHmmYRPycTn",
    "outputId": "4119749b-be6d-4cf6-dd88-6a92d7123f2a",
    "scrolled": true
   },
   "outputs": [],
   "source": [
    "# leaveOneOut = {}\n",
    "\n",
    "# # loop through all user who had bought\n",
    "# for i in tqdm(np.unique(df['user_id'])):\n",
    "#   # get last element of user bought product list\n",
    "#   leaveOneOut[i] = df[df['user_id'] == i]['product_id'].to_numpy()[-1]"
   ]
  },
  {
   "cell_type": "code",
   "execution_count": 11,
   "metadata": {
    "colab": {
     "base_uri": "https://localhost:8080/"
    },
    "executionInfo": {
     "elapsed": 19,
     "status": "ok",
     "timestamp": 1623070792265,
     "user": {
      "displayName": "方郁文",
      "photoUrl": "",
      "userId": "06852567172259853351"
     },
     "user_tz": -480
    },
    "id": "wj5XQFfb2az7",
    "outputId": "6ec93d36-bf36-4bb3-dac7-ed42a18d9ce1"
   },
   "outputs": [
    {
     "data": {
      "text/plain": [
       "[(1, 49235), (2, 49451), (3, 49683), (4, 43704), (5, 48775)]"
      ]
     },
     "execution_count": 11,
     "metadata": {},
     "output_type": "execute_result"
    }
   ],
   "source": [
    "# get first 5 user_id:product_id pair\n",
    "list(leaveOneOut.items())[:5]"
   ]
  },
  {
   "cell_type": "markdown",
   "metadata": {
    "id": "lYZqTGze3lke"
   },
   "source": [
    "# Process Training Data"
   ]
  },
  {
   "cell_type": "markdown",
   "metadata": {
    "id": "y2sXQUL-5g2x"
   },
   "source": [
    "## Remove leaveOneOut product from train set"
   ]
  },
  {
   "cell_type": "code",
   "execution_count": 12,
   "metadata": {
    "executionInfo": {
     "elapsed": 17,
     "status": "ok",
     "timestamp": 1623070792266,
     "user": {
      "displayName": "方郁文",
      "photoUrl": "",
      "userId": "06852567172259853351"
     },
     "user_tz": -480
    },
    "id": "qG7A2iZ-3KoA"
   },
   "outputs": [],
   "source": [
    "trainset = df.copy()"
   ]
  },
  {
   "cell_type": "code",
   "execution_count": 13,
   "metadata": {},
   "outputs": [],
   "source": [
    "f = open('leaveOneOutRows.txt')\n",
    "\n",
    "drop_rows = f.readlines()\n",
    "\n",
    "drop_rows = [int(i[:-1]) for i in drop_rows]\n",
    "\n",
    "# drop_rows"
   ]
  },
  {
   "cell_type": "code",
   "execution_count": 14,
   "metadata": {
    "colab": {
     "base_uri": "https://localhost:8080/"
    },
    "executionInfo": {
     "elapsed": 47940,
     "status": "ok",
     "timestamp": 1623070840190,
     "user": {
      "displayName": "方郁文",
      "photoUrl": "",
      "userId": "06852567172259853351"
     },
     "user_tz": -480
    },
    "id": "s5vsinS63xWx",
    "outputId": "dbf90956-19c5-4738-9a1a-5d0f4354a49a"
   },
   "outputs": [],
   "source": [
    "# drop the last product userId[i] bought from the training set\n",
    "# very slow\n",
    "\n",
    "# drop_rows = []\n",
    "\n",
    "# for i in tqdm(leaveOneOut.keys()):\n",
    "#   query0 = trainset[trainset['user_id'] == i]\n",
    "#   query1 = query0[query0['product_id'] == leaveOneOut[i]]\n",
    "\n",
    "#   drop_rows.append(list(query1.index)[0])\n",
    "\n",
    "trainset = trainset.drop(drop_rows)"
   ]
  },
  {
   "cell_type": "code",
   "execution_count": 15,
   "metadata": {},
   "outputs": [
    {
     "data": {
      "text/html": [
       "<div>\n",
       "<style scoped>\n",
       "    .dataframe tbody tr th:only-of-type {\n",
       "        vertical-align: middle;\n",
       "    }\n",
       "\n",
       "    .dataframe tbody tr th {\n",
       "        vertical-align: top;\n",
       "    }\n",
       "\n",
       "    .dataframe thead th {\n",
       "        text-align: right;\n",
       "    }\n",
       "</style>\n",
       "<table border=\"1\" class=\"dataframe\">\n",
       "  <thead>\n",
       "    <tr style=\"text-align: right;\">\n",
       "      <th></th>\n",
       "      <th>user_id</th>\n",
       "      <th>product_id</th>\n",
       "      <th>uxp_reorder_ratio</th>\n",
       "      <th>u_total_bought_product</th>\n",
       "      <th>u_avg_bought_p_per_order</th>\n",
       "      <th>uxp_order_ratio</th>\n",
       "      <th>uxp_bought_before</th>\n",
       "      <th>score</th>\n",
       "    </tr>\n",
       "  </thead>\n",
       "  <tbody>\n",
       "    <tr>\n",
       "      <th>18</th>\n",
       "      <td>1</td>\n",
       "      <td>49235</td>\n",
       "      <td>0.750000</td>\n",
       "      <td>70</td>\n",
       "      <td>6.363636</td>\n",
       "      <td>0.272727</td>\n",
       "      <td>1</td>\n",
       "      <td>1.122727</td>\n",
       "    </tr>\n",
       "    <tr>\n",
       "      <th>139</th>\n",
       "      <td>2</td>\n",
       "      <td>49451</td>\n",
       "      <td>0.083333</td>\n",
       "      <td>226</td>\n",
       "      <td>15.066667</td>\n",
       "      <td>0.066667</td>\n",
       "      <td>1</td>\n",
       "      <td>0.250000</td>\n",
       "    </tr>\n",
       "    <tr>\n",
       "      <th>172</th>\n",
       "      <td>3</td>\n",
       "      <td>49683</td>\n",
       "      <td>0.100000</td>\n",
       "      <td>88</td>\n",
       "      <td>7.333333</td>\n",
       "      <td>0.083333</td>\n",
       "      <td>1</td>\n",
       "      <td>0.283333</td>\n",
       "    </tr>\n",
       "    <tr>\n",
       "      <th>189</th>\n",
       "      <td>4</td>\n",
       "      <td>43704</td>\n",
       "      <td>0.333333</td>\n",
       "      <td>18</td>\n",
       "      <td>3.600000</td>\n",
       "      <td>0.200000</td>\n",
       "      <td>1</td>\n",
       "      <td>0.633333</td>\n",
       "    </tr>\n",
       "    <tr>\n",
       "      <th>217</th>\n",
       "      <td>5</td>\n",
       "      <td>48775</td>\n",
       "      <td>0.200000</td>\n",
       "      <td>46</td>\n",
       "      <td>9.200000</td>\n",
       "      <td>0.200000</td>\n",
       "      <td>1</td>\n",
       "      <td>0.500000</td>\n",
       "    </tr>\n",
       "  </tbody>\n",
       "</table>\n",
       "</div>"
      ],
      "text/plain": [
       "     user_id  product_id  uxp_reorder_ratio  u_total_bought_product  \\\n",
       "18         1       49235           0.750000                      70   \n",
       "139        2       49451           0.083333                     226   \n",
       "172        3       49683           0.100000                      88   \n",
       "189        4       43704           0.333333                      18   \n",
       "217        5       48775           0.200000                      46   \n",
       "\n",
       "     u_avg_bought_p_per_order  uxp_order_ratio  uxp_bought_before     score  \n",
       "18                   6.363636         0.272727                  1  1.122727  \n",
       "139                 15.066667         0.066667                  1  0.250000  \n",
       "172                  7.333333         0.083333                  1  0.283333  \n",
       "189                  3.600000         0.200000                  1  0.633333  \n",
       "217                  9.200000         0.200000                  1  0.500000  "
      ]
     },
     "execution_count": 15,
     "metadata": {},
     "output_type": "execute_result"
    }
   ],
   "source": [
    "# testset\n",
    "\n",
    "testset = df.copy()\n",
    "\n",
    "testset = testset.loc[df.index.isin(drop_rows)] \n",
    "\n",
    "testset.head()"
   ]
  },
  {
   "cell_type": "code",
   "execution_count": 16,
   "metadata": {},
   "outputs": [],
   "source": [
    "# write drop rows to txt, because it is soooo slow\n",
    "# f = open('leaveOneOutRows.txt', 'w')\n",
    "\n",
    "# for r in drop_rows:\n",
    "#     f.write(\"{}\\n\".format(r))\n",
    "\n",
    "# f.close()"
   ]
  },
  {
   "cell_type": "code",
   "execution_count": 16,
   "metadata": {
    "colab": {
     "base_uri": "https://localhost:8080/"
    },
    "executionInfo": {
     "elapsed": 23,
     "status": "ok",
     "timestamp": 1623070840191,
     "user": {
      "displayName": "方郁文",
      "photoUrl": "",
      "userId": "06852567172259853351"
     },
     "user_tz": -480
    },
    "id": "s0Z8AsTW3720",
    "outputId": "aeb4c6a7-69cc-4589-d079-af8fc5263d29"
   },
   "outputs": [
    {
     "data": {
      "text/plain": [
       "(13863746, 13657537, 206209)"
      ]
     },
     "execution_count": 16,
     "metadata": {},
     "output_type": "execute_result"
    }
   ],
   "source": [
    "# sanity check\n",
    "# see if trainset is indeed shorter than origin df\n",
    "\n",
    "len(df), len(trainset), len(testset)"
   ]
  },
  {
   "cell_type": "code",
   "execution_count": 17,
   "metadata": {
    "colab": {
     "base_uri": "https://localhost:8080/",
     "height": 197
    },
    "executionInfo": {
     "elapsed": 20,
     "status": "ok",
     "timestamp": 1623070840192,
     "user": {
      "displayName": "方郁文",
      "photoUrl": "",
      "userId": "06852567172259853351"
     },
     "user_tz": -480
    },
    "id": "kKBgccVz5Qde",
    "outputId": "0b974a10-916d-42e2-d2dd-8381cfa6c4bd"
   },
   "outputs": [
    {
     "data": {
      "text/html": [
       "<div>\n",
       "<style scoped>\n",
       "    .dataframe tbody tr th:only-of-type {\n",
       "        vertical-align: middle;\n",
       "    }\n",
       "\n",
       "    .dataframe tbody tr th {\n",
       "        vertical-align: top;\n",
       "    }\n",
       "\n",
       "    .dataframe thead th {\n",
       "        text-align: right;\n",
       "    }\n",
       "</style>\n",
       "<table border=\"1\" class=\"dataframe\">\n",
       "  <thead>\n",
       "    <tr style=\"text-align: right;\">\n",
       "      <th></th>\n",
       "      <th>user_id</th>\n",
       "      <th>product_id</th>\n",
       "      <th>uxp_reorder_ratio</th>\n",
       "      <th>u_total_bought_product</th>\n",
       "      <th>u_avg_bought_p_per_order</th>\n",
       "      <th>uxp_order_ratio</th>\n",
       "      <th>uxp_bought_before</th>\n",
       "      <th>score</th>\n",
       "    </tr>\n",
       "  </thead>\n",
       "  <tbody>\n",
       "    <tr>\n",
       "      <th>0</th>\n",
       "      <td>1</td>\n",
       "      <td>196</td>\n",
       "      <td>1.000000</td>\n",
       "      <td>70</td>\n",
       "      <td>6.363636</td>\n",
       "      <td>1.000000</td>\n",
       "      <td>1</td>\n",
       "      <td>2.100000</td>\n",
       "    </tr>\n",
       "    <tr>\n",
       "      <th>1</th>\n",
       "      <td>1</td>\n",
       "      <td>10258</td>\n",
       "      <td>1.000000</td>\n",
       "      <td>70</td>\n",
       "      <td>6.363636</td>\n",
       "      <td>0.909091</td>\n",
       "      <td>1</td>\n",
       "      <td>2.009091</td>\n",
       "    </tr>\n",
       "    <tr>\n",
       "      <th>2</th>\n",
       "      <td>1</td>\n",
       "      <td>10326</td>\n",
       "      <td>0.142857</td>\n",
       "      <td>70</td>\n",
       "      <td>6.363636</td>\n",
       "      <td>0.090909</td>\n",
       "      <td>1</td>\n",
       "      <td>0.333766</td>\n",
       "    </tr>\n",
       "    <tr>\n",
       "      <th>3</th>\n",
       "      <td>1</td>\n",
       "      <td>12427</td>\n",
       "      <td>0.909091</td>\n",
       "      <td>70</td>\n",
       "      <td>6.363636</td>\n",
       "      <td>0.909091</td>\n",
       "      <td>1</td>\n",
       "      <td>1.918182</td>\n",
       "    </tr>\n",
       "    <tr>\n",
       "      <th>4</th>\n",
       "      <td>1</td>\n",
       "      <td>13032</td>\n",
       "      <td>0.400000</td>\n",
       "      <td>70</td>\n",
       "      <td>6.363636</td>\n",
       "      <td>0.363636</td>\n",
       "      <td>1</td>\n",
       "      <td>0.863636</td>\n",
       "    </tr>\n",
       "  </tbody>\n",
       "</table>\n",
       "</div>"
      ],
      "text/plain": [
       "   user_id  product_id  uxp_reorder_ratio  u_total_bought_product  \\\n",
       "0        1         196           1.000000                      70   \n",
       "1        1       10258           1.000000                      70   \n",
       "2        1       10326           0.142857                      70   \n",
       "3        1       12427           0.909091                      70   \n",
       "4        1       13032           0.400000                      70   \n",
       "\n",
       "   u_avg_bought_p_per_order  uxp_order_ratio  uxp_bought_before     score  \n",
       "0                  6.363636         1.000000                  1  2.100000  \n",
       "1                  6.363636         0.909091                  1  2.009091  \n",
       "2                  6.363636         0.090909                  1  0.333766  \n",
       "3                  6.363636         0.909091                  1  1.918182  \n",
       "4                  6.363636         0.363636                  1  0.863636  "
      ]
     },
     "execution_count": 17,
     "metadata": {},
     "output_type": "execute_result"
    }
   ],
   "source": [
    "trainset.head()"
   ]
  },
  {
   "cell_type": "markdown",
   "metadata": {
    "id": "h7HyPYsV5kKK"
   },
   "source": [
    "## Shuffle Trainset"
   ]
  },
  {
   "cell_type": "code",
   "execution_count": 18,
   "metadata": {
    "executionInfo": {
     "elapsed": 9,
     "status": "ok",
     "timestamp": 1623070840194,
     "user": {
      "displayName": "方郁文",
      "photoUrl": "",
      "userId": "06852567172259853351"
     },
     "user_tz": -480
    },
    "id": "hKtxsAIb5T50"
   },
   "outputs": [],
   "source": [
    "from sklearn.utils import shuffle"
   ]
  },
  {
   "cell_type": "code",
   "execution_count": 19,
   "metadata": {
    "executionInfo": {
     "elapsed": 478,
     "status": "ok",
     "timestamp": 1623070840663,
     "user": {
      "displayName": "方郁文",
      "photoUrl": "",
      "userId": "06852567172259853351"
     },
     "user_tz": -480
    },
    "id": "ysytF7mY5oJq"
   },
   "outputs": [],
   "source": [
    "trainset = shuffle(trainset)"
   ]
  },
  {
   "cell_type": "code",
   "execution_count": 20,
   "metadata": {
    "colab": {
     "base_uri": "https://localhost:8080/",
     "height": 197
    },
    "executionInfo": {
     "elapsed": 29,
     "status": "ok",
     "timestamp": 1623070840664,
     "user": {
      "displayName": "方郁文",
      "photoUrl": "",
      "userId": "06852567172259853351"
     },
     "user_tz": -480
    },
    "id": "TZNNmMRU5pT6",
    "outputId": "86fdfc1f-2d4d-4af1-b1db-bf675d90f8e4"
   },
   "outputs": [
    {
     "data": {
      "text/html": [
       "<div>\n",
       "<style scoped>\n",
       "    .dataframe tbody tr th:only-of-type {\n",
       "        vertical-align: middle;\n",
       "    }\n",
       "\n",
       "    .dataframe tbody tr th {\n",
       "        vertical-align: top;\n",
       "    }\n",
       "\n",
       "    .dataframe thead th {\n",
       "        text-align: right;\n",
       "    }\n",
       "</style>\n",
       "<table border=\"1\" class=\"dataframe\">\n",
       "  <thead>\n",
       "    <tr style=\"text-align: right;\">\n",
       "      <th></th>\n",
       "      <th>user_id</th>\n",
       "      <th>product_id</th>\n",
       "      <th>uxp_reorder_ratio</th>\n",
       "      <th>u_total_bought_product</th>\n",
       "      <th>u_avg_bought_p_per_order</th>\n",
       "      <th>uxp_order_ratio</th>\n",
       "      <th>uxp_bought_before</th>\n",
       "      <th>score</th>\n",
       "    </tr>\n",
       "  </thead>\n",
       "  <tbody>\n",
       "    <tr>\n",
       "      <th>10290184</th>\n",
       "      <td>152911</td>\n",
       "      <td>38033</td>\n",
       "      <td>1.000000</td>\n",
       "      <td>174</td>\n",
       "      <td>15.818182</td>\n",
       "      <td>0.181818</td>\n",
       "      <td>1</td>\n",
       "      <td>1.281818</td>\n",
       "    </tr>\n",
       "    <tr>\n",
       "      <th>13407863</th>\n",
       "      <td>199371</td>\n",
       "      <td>44628</td>\n",
       "      <td>0.100000</td>\n",
       "      <td>333</td>\n",
       "      <td>23.785714</td>\n",
       "      <td>0.071429</td>\n",
       "      <td>1</td>\n",
       "      <td>0.271429</td>\n",
       "    </tr>\n",
       "    <tr>\n",
       "      <th>2185754</th>\n",
       "      <td>32660</td>\n",
       "      <td>37004</td>\n",
       "      <td>0.333333</td>\n",
       "      <td>524</td>\n",
       "      <td>9.192982</td>\n",
       "      <td>0.017544</td>\n",
       "      <td>1</td>\n",
       "      <td>0.450877</td>\n",
       "    </tr>\n",
       "    <tr>\n",
       "      <th>10088397</th>\n",
       "      <td>149979</td>\n",
       "      <td>36443</td>\n",
       "      <td>0.333333</td>\n",
       "      <td>96</td>\n",
       "      <td>16.000000</td>\n",
       "      <td>0.166667</td>\n",
       "      <td>1</td>\n",
       "      <td>0.600000</td>\n",
       "    </tr>\n",
       "    <tr>\n",
       "      <th>1529985</th>\n",
       "      <td>22880</td>\n",
       "      <td>10246</td>\n",
       "      <td>0.044444</td>\n",
       "      <td>696</td>\n",
       "      <td>13.132075</td>\n",
       "      <td>0.037736</td>\n",
       "      <td>1</td>\n",
       "      <td>0.182180</td>\n",
       "    </tr>\n",
       "  </tbody>\n",
       "</table>\n",
       "</div>"
      ],
      "text/plain": [
       "          user_id  product_id  uxp_reorder_ratio  u_total_bought_product  \\\n",
       "10290184   152911       38033           1.000000                     174   \n",
       "13407863   199371       44628           0.100000                     333   \n",
       "2185754     32660       37004           0.333333                     524   \n",
       "10088397   149979       36443           0.333333                      96   \n",
       "1529985     22880       10246           0.044444                     696   \n",
       "\n",
       "          u_avg_bought_p_per_order  uxp_order_ratio  uxp_bought_before  \\\n",
       "10290184                 15.818182         0.181818                  1   \n",
       "13407863                 23.785714         0.071429                  1   \n",
       "2185754                   9.192982         0.017544                  1   \n",
       "10088397                 16.000000         0.166667                  1   \n",
       "1529985                  13.132075         0.037736                  1   \n",
       "\n",
       "             score  \n",
       "10290184  1.281818  \n",
       "13407863  0.271429  \n",
       "2185754   0.450877  \n",
       "10088397  0.600000  \n",
       "1529985   0.182180  "
      ]
     },
     "execution_count": 20,
     "metadata": {},
     "output_type": "execute_result"
    }
   ],
   "source": [
    "trainset.head()"
   ]
  },
  {
   "cell_type": "markdown",
   "metadata": {
    "id": "TfCF1hQp85a4"
   },
   "source": [
    "## define dataset"
   ]
  },
  {
   "cell_type": "code",
   "execution_count": 21,
   "metadata": {
    "executionInfo": {
     "elapsed": 28,
     "status": "ok",
     "timestamp": 1623070840664,
     "user": {
      "displayName": "方郁文",
      "photoUrl": "",
      "userId": "06852567172259853351"
     },
     "user_tz": -480
    },
    "id": "hdVWqFiv87_g"
   },
   "outputs": [],
   "source": [
    "from torch.utils.data import Dataset"
   ]
  },
  {
   "cell_type": "code",
   "execution_count": 22,
   "metadata": {
    "executionInfo": {
     "elapsed": 28,
     "status": "ok",
     "timestamp": 1623070840665,
     "user": {
      "displayName": "方郁文",
      "photoUrl": "",
      "userId": "06852567172259853351"
     },
     "user_tz": -480
    },
    "id": "BexIAWkS9KNB"
   },
   "outputs": [],
   "source": [
    "class UXP(Dataset):\n",
    "    def __init__(self, df):\n",
    "        self.df = df\n",
    "\n",
    "    def __len__(self):\n",
    "        return len(self.df)\n",
    "\n",
    "    def __getitem__(self, idx):\n",
    "        user = self.df.iloc[idx].user_id\n",
    "        product = self.df.iloc[idx].product_id\n",
    "        y = self.df.iloc[idx].score\n",
    "\n",
    "        return np.expand_dims(user, 0).astype(int), np.expand_dims(product, 0).astype(int), np.expand_dims(y, 0).astype(np.float32)"
   ]
  },
  {
   "cell_type": "code",
   "execution_count": 23,
   "metadata": {
    "executionInfo": {
     "elapsed": 28,
     "status": "ok",
     "timestamp": 1623070840666,
     "user": {
      "displayName": "方郁文",
      "photoUrl": "",
      "userId": "06852567172259853351"
     },
     "user_tz": -480
    },
    "id": "T0Ij38KB9l6v"
   },
   "outputs": [],
   "source": [
    "dataset = UXP(trainset)"
   ]
  },
  {
   "cell_type": "code",
   "execution_count": 24,
   "metadata": {
    "colab": {
     "base_uri": "https://localhost:8080/"
    },
    "executionInfo": {
     "elapsed": 27,
     "status": "ok",
     "timestamp": 1623070840666,
     "user": {
      "displayName": "方郁文",
      "photoUrl": "",
      "userId": "06852567172259853351"
     },
     "user_tz": -480
    },
    "id": "_1-wGMAD9pQo",
    "outputId": "af3a9109-d4ef-42ed-9011-f1685fd902db"
   },
   "outputs": [
    {
     "data": {
      "text/plain": [
       "13657537"
      ]
     },
     "execution_count": 24,
     "metadata": {},
     "output_type": "execute_result"
    }
   ],
   "source": [
    "len(dataset)"
   ]
  },
  {
   "cell_type": "code",
   "execution_count": 25,
   "metadata": {
    "colab": {
     "base_uri": "https://localhost:8080/"
    },
    "executionInfo": {
     "elapsed": 25,
     "status": "ok",
     "timestamp": 1623070840667,
     "user": {
      "displayName": "方郁文",
      "photoUrl": "",
      "userId": "06852567172259853351"
     },
     "user_tz": -480
    },
    "id": "FBBPFBxXQUaY",
    "outputId": "b6f83c19-c053-4fa6-e760-1342f2f898af"
   },
   "outputs": [
    {
     "data": {
      "text/plain": [
       "(array([152911]), array([38033]), array([1.2818182], dtype=float32))"
      ]
     },
     "execution_count": 25,
     "metadata": {},
     "output_type": "execute_result"
    }
   ],
   "source": [
    "dataset[0]"
   ]
  },
  {
   "cell_type": "code",
   "execution_count": 26,
   "metadata": {
    "executionInfo": {
     "elapsed": 19,
     "status": "ok",
     "timestamp": 1623070840667,
     "user": {
      "displayName": "方郁文",
      "photoUrl": "",
      "userId": "06852567172259853351"
     },
     "user_tz": -480
    },
    "id": "1OMHc0H4O0Gy"
   },
   "outputs": [],
   "source": [
    "from torch.utils.data import DataLoader\n",
    "\n",
    "train_loader = DataLoader(dataset, batch_size=4096, shuffle=True, num_workers=2)"
   ]
  },
  {
   "cell_type": "markdown",
   "metadata": {
    "id": "BAdlU7aL59kc"
   },
   "source": [
    "# define model\n",
    "\n",
    "we try basic Matrix Factorization here"
   ]
  },
  {
   "cell_type": "code",
   "execution_count": 27,
   "metadata": {
    "executionInfo": {
     "elapsed": 19,
     "status": "ok",
     "timestamp": 1623070840668,
     "user": {
      "displayName": "方郁文",
      "photoUrl": "",
      "userId": "06852567172259853351"
     },
     "user_tz": -480
    },
    "id": "9_AQuP3268Cu"
   },
   "outputs": [],
   "source": [
    "import torch\n",
    "import torch.nn as nn"
   ]
  },
  {
   "cell_type": "code",
   "execution_count": 28,
   "metadata": {},
   "outputs": [
    {
     "data": {
      "text/plain": [
       "True"
      ]
     },
     "execution_count": 28,
     "metadata": {},
     "output_type": "execute_result"
    }
   ],
   "source": [
    "torch.cuda.is_available()"
   ]
  },
  {
   "cell_type": "code",
   "execution_count": 29,
   "metadata": {
    "executionInfo": {
     "elapsed": 19,
     "status": "ok",
     "timestamp": 1623070840669,
     "user": {
      "displayName": "方郁文",
      "photoUrl": "",
      "userId": "06852567172259853351"
     },
     "user_tz": -480
    },
    "id": "izJfcVlp5qo6"
   },
   "outputs": [],
   "source": [
    "class CFMF(nn.Module):\n",
    "  def __init__(self, embed_dim, num_user, num_product):\n",
    "    super().__init__()\n",
    "    self.user_embedding = nn.Embedding(num_user + 1, embed_dim)\n",
    "    self.product_embedding = nn.Embedding(num_product + 1, embed_dim)\n",
    "\n",
    "  def forward(self, u, p):\n",
    "    u_emb = self.user_embedding(u)\n",
    "    p_emb = self.product_embedding(p)\n",
    "\n",
    "    # move p_emb from (b, 1, emb_dim) to (b, emb_dim, 1)\n",
    "    # in order to do matmul\n",
    "    p_emb = torch.movedim(p_emb, 1, 2)\n",
    "\n",
    "    # dot of user embedding and product embedding\n",
    "    # u_emb (b, 1, emb_dim)\n",
    "    # p_emb (b, emb_dim, 1)\n",
    "    mat = torch.bmm(u_emb, p_emb)\n",
    "\n",
    "    return mat"
   ]
  },
  {
   "cell_type": "code",
   "execution_count": 30,
   "metadata": {
    "executionInfo": {
     "elapsed": 19,
     "status": "ok",
     "timestamp": 1623070840669,
     "user": {
      "displayName": "方郁文",
      "photoUrl": "",
      "userId": "06852567172259853351"
     },
     "user_tz": -480
    },
    "id": "hoQ3ccVfMcdQ"
   },
   "outputs": [],
   "source": [
    "model = CFMF(10, N_USER, N_PRODUCT)"
   ]
  },
  {
   "cell_type": "code",
   "execution_count": 31,
   "metadata": {
    "colab": {
     "base_uri": "https://localhost:8080/",
     "height": 340
    },
    "executionInfo": {
     "elapsed": 330,
     "status": "error",
     "timestamp": 1623070877034,
     "user": {
      "displayName": "方郁文",
      "photoUrl": "",
      "userId": "06852567172259853351"
     },
     "user_tz": -480
    },
    "id": "f0NZBXVJZ3oQ",
    "outputId": "7484c7bb-1f4f-49a6-d0d5-0e66f189aa91"
   },
   "outputs": [],
   "source": [
    "if torch.cuda.is_available():\n",
    "  model.to('cuda')"
   ]
  },
  {
   "cell_type": "markdown",
   "metadata": {
    "id": "pKudUbdZ8XuF"
   },
   "source": [
    "## test fit model"
   ]
  },
  {
   "cell_type": "code",
   "execution_count": 32,
   "metadata": {
    "colab": {
     "base_uri": "https://localhost:8080/"
    },
    "executionInfo": {
     "elapsed": 289,
     "status": "ok",
     "timestamp": 1623070968849,
     "user": {
      "displayName": "方郁文",
      "photoUrl": "",
      "userId": "06852567172259853351"
     },
     "user_tz": -480
    },
    "id": "Ht2Q1NrckUZs",
    "outputId": "96a1dedf-7152-4086-db2f-1a4fa2e4586d"
   },
   "outputs": [
    {
     "name": "stdout",
     "output_type": "stream",
     "text": [
      "Wed Jun  9 20:07:33 2021       \r\n",
      "+-----------------------------------------------------------------------------+\r\n",
      "| NVIDIA-SMI 460.80       Driver Version: 460.80       CUDA Version: 11.2     |\r\n",
      "|-------------------------------+----------------------+----------------------+\r\n",
      "| GPU  Name        Persistence-M| Bus-Id        Disp.A | Volatile Uncorr. ECC |\r\n",
      "| Fan  Temp  Perf  Pwr:Usage/Cap|         Memory-Usage | GPU-Util  Compute M. |\r\n",
      "|                               |                      |               MIG M. |\r\n",
      "|===============================+======================+======================|\r\n",
      "|   0  GeForce GTX 106...  Off  | 00000000:01:00.0  On |                  N/A |\r\n",
      "| 43%   39C    P2    29W / 120W |   1261MiB /  3016MiB |      2%      Default |\r\n",
      "|                               |                      |                  N/A |\r\n",
      "+-------------------------------+----------------------+----------------------+\r\n",
      "                                                                               \r\n",
      "+-----------------------------------------------------------------------------+\r\n",
      "| Processes:                                                                  |\r\n",
      "|  GPU   GI   CI        PID   Type   Process name                  GPU Memory |\r\n",
      "|        ID   ID                                                   Usage      |\r\n",
      "|=============================================================================|\r\n",
      "|    0   N/A  N/A      1323      G   /usr/lib/xorg/Xorg                 26MiB |\r\n",
      "|    0   N/A  N/A      1780      G   /usr/bin/gnome-shell               90MiB |\r\n",
      "|    0   N/A  N/A      2142      G   /usr/lib/xorg/Xorg                404MiB |\r\n",
      "|    0   N/A  N/A      2257      G   /usr/bin/gnome-shell               50MiB |\r\n",
      "|    0   N/A  N/A      3335      G   ...AAAAAAAAA= --shared-files       54MiB |\r\n",
      "|    0   N/A  N/A      9134      G   ...AAAAAAAAA= --shared-files      110MiB |\r\n",
      "|    0   N/A  N/A     11854      C   ...nda3/envs/work/bin/python      501MiB |\r\n",
      "|    0   N/A  N/A     19315      G   ...AAAAAAAAA= --shared-files       13MiB |\r\n",
      "+-----------------------------------------------------------------------------+\r\n"
     ]
    }
   ],
   "source": [
    "!nvidia-smi"
   ]
  },
  {
   "cell_type": "code",
   "execution_count": 33,
   "metadata": {
    "colab": {
     "base_uri": "https://localhost:8080/"
    },
    "executionInfo": {
     "elapsed": 2035,
     "status": "ok",
     "timestamp": 1623070943605,
     "user": {
      "displayName": "方郁文",
      "photoUrl": "",
      "userId": "06852567172259853351"
     },
     "user_tz": -480
    },
    "id": "c90jObkr8PRi",
    "outputId": "a4d781c1-c31f-4b34-bff3-e610dbc6ea50"
   },
   "outputs": [
    {
     "name": "stdout",
     "output_type": "stream",
     "text": [
      "torch.Size([4096, 1]) torch.Size([4096, 1]) torch.Size([4096, 1])\n",
      "torch.Size([4096, 1, 1])\n",
      "tensor([-0.1959,  1.6157, -0.3976,  ...,  0.2133,  0.2827, -1.8660],\n",
      "       device='cuda:0')\n"
     ]
    }
   ],
   "source": [
    "for u, p, y in train_loader:\n",
    "  with torch.no_grad():\n",
    "    print(u.shape, p.shape, y.shape)\n",
    "    if torch.cuda.is_available():\n",
    "      u = u.cuda()\n",
    "      p = p.cuda()\n",
    "\n",
    "    mat = model(u, p)\n",
    "    print(mat.shape)\n",
    "    print(mat.squeeze())\n",
    "  break"
   ]
  },
  {
   "cell_type": "markdown",
   "metadata": {
    "id": "c-ZjAsEkWuA9"
   },
   "source": [
    "# Training"
   ]
  },
  {
   "cell_type": "markdown",
   "metadata": {
    "id": "hQrcb6PlXkjr"
   },
   "source": [
    "## define loss and optimizer"
   ]
  },
  {
   "cell_type": "code",
   "execution_count": 34,
   "metadata": {
    "executionInfo": {
     "elapsed": 295,
     "status": "ok",
     "timestamp": 1623070976720,
     "user": {
      "displayName": "方郁文",
      "photoUrl": "",
      "userId": "06852567172259853351"
     },
     "user_tz": -480
    },
    "id": "KAmJ643nUZKL"
   },
   "outputs": [],
   "source": [
    "loss = nn.MSELoss()"
   ]
  },
  {
   "cell_type": "code",
   "execution_count": 41,
   "metadata": {
    "executionInfo": {
     "elapsed": 2,
     "status": "ok",
     "timestamp": 1623070977135,
     "user": {
      "displayName": "方郁文",
      "photoUrl": "",
      "userId": "06852567172259853351"
     },
     "user_tz": -480
    },
    "id": "tgMKz6jLXNB9"
   },
   "outputs": [],
   "source": [
    "optimizer = torch.optim.Adam(model.parameters(), lr=0.0001)"
   ]
  },
  {
   "cell_type": "markdown",
   "metadata": {
    "id": "hFb1nH_0XkEz"
   },
   "source": [
    "## training loop"
   ]
  },
  {
   "cell_type": "code",
   "execution_count": 42,
   "metadata": {
    "colab": {
     "base_uri": "https://localhost:8080/"
    },
    "id": "c9geZZ6UXRSP",
    "outputId": "d0fe601d-d2e4-4e04-b461-1ec61619f05b"
   },
   "outputs": [
    {
     "name": "stderr",
     "output_type": "stream",
     "text": [
      "100%|██████████| 3335/3335 [48:12<00:00,  1.15it/s]\n",
      "  0%|          | 0/3335 [00:00<?, ?it/s]"
     ]
    },
    {
     "name": "stdout",
     "output_type": "stream",
     "text": [
      "Epoch: 0 : 6.066217523786439\n"
     ]
    },
    {
     "name": "stderr",
     "output_type": "stream",
     "text": [
      "100%|██████████| 3335/3335 [48:20<00:00,  1.15it/s] \n",
      "  0%|          | 0/3335 [00:00<?, ?it/s]"
     ]
    },
    {
     "name": "stdout",
     "output_type": "stream",
     "text": [
      "Epoch: 1 : 1.678923075095467\n"
     ]
    },
    {
     "name": "stderr",
     "output_type": "stream",
     "text": [
      "100%|██████████| 3335/3335 [48:18<00:00,  1.15it/s]\n",
      "  0%|          | 0/3335 [00:00<?, ?it/s]"
     ]
    },
    {
     "name": "stdout",
     "output_type": "stream",
     "text": [
      "Epoch: 2 : 0.9174858077533956\n"
     ]
    },
    {
     "name": "stderr",
     "output_type": "stream",
     "text": [
      "100%|██████████| 3335/3335 [48:06<00:00,  1.16it/s]\n",
      "  0%|          | 0/3335 [00:00<?, ?it/s]"
     ]
    },
    {
     "name": "stdout",
     "output_type": "stream",
     "text": [
      "Epoch: 3 : 0.9304449513576913\n"
     ]
    },
    {
     "name": "stderr",
     "output_type": "stream",
     "text": [
      "100%|██████████| 3335/3335 [48:19<00:00,  1.15it/s]\n",
      "  0%|          | 0/3335 [00:00<?, ?it/s]"
     ]
    },
    {
     "name": "stdout",
     "output_type": "stream",
     "text": [
      "Epoch: 4 : 1.2163357748620693\n"
     ]
    },
    {
     "name": "stderr",
     "output_type": "stream",
     "text": [
      "100%|██████████| 3335/3335 [48:17<00:00,  1.15it/s]\n",
      "  0%|          | 0/3335 [00:00<?, ?it/s]"
     ]
    },
    {
     "name": "stdout",
     "output_type": "stream",
     "text": [
      "Epoch: 5 : 1.55901762592024\n"
     ]
    },
    {
     "name": "stderr",
     "output_type": "stream",
     "text": [
      "100%|██████████| 3335/3335 [48:19<00:00,  1.15it/s]\n",
      "  0%|          | 0/3335 [00:00<?, ?it/s]"
     ]
    },
    {
     "name": "stdout",
     "output_type": "stream",
     "text": [
      "Epoch: 6 : 1.7739476294353091\n"
     ]
    },
    {
     "name": "stderr",
     "output_type": "stream",
     "text": [
      "100%|██████████| 3335/3335 [48:08<00:00,  1.15it/s]\n",
      "  0%|          | 0/3335 [00:00<?, ?it/s]"
     ]
    },
    {
     "name": "stdout",
     "output_type": "stream",
     "text": [
      "Epoch: 7 : 1.7971076175011973\n"
     ]
    },
    {
     "name": "stderr",
     "output_type": "stream",
     "text": [
      "100%|██████████| 3335/3335 [48:18<00:00,  1.15it/s]\n",
      "  0%|          | 0/3335 [00:00<?, ?it/s]"
     ]
    },
    {
     "name": "stdout",
     "output_type": "stream",
     "text": [
      "Epoch: 8 : 1.6923624052636805\n"
     ]
    },
    {
     "name": "stderr",
     "output_type": "stream",
     "text": [
      "100%|██████████| 3335/3335 [48:06<00:00,  1.16it/s]\n",
      "  0%|          | 0/3335 [00:00<?, ?it/s]"
     ]
    },
    {
     "name": "stdout",
     "output_type": "stream",
     "text": [
      "Epoch: 9 : 1.5781948800565957\n"
     ]
    },
    {
     "name": "stderr",
     "output_type": "stream",
     "text": [
      "100%|██████████| 3335/3335 [48:12<00:00,  1.15it/s]\n",
      "  0%|          | 0/3335 [00:00<?, ?it/s]"
     ]
    },
    {
     "name": "stdout",
     "output_type": "stream",
     "text": [
      "Epoch: 10 : 1.4757779782322393\n"
     ]
    },
    {
     "name": "stderr",
     "output_type": "stream",
     "text": [
      "100%|██████████| 3335/3335 [48:23<00:00,  1.15it/s]\n",
      "  0%|          | 0/3335 [00:00<?, ?it/s]"
     ]
    },
    {
     "name": "stdout",
     "output_type": "stream",
     "text": [
      "Epoch: 11 : 1.37389829980916\n"
     ]
    },
    {
     "name": "stderr",
     "output_type": "stream",
     "text": [
      " 61%|██████▏   | 2047/3335 [29:43<18:42,  1.15it/s]\n"
     ]
    },
    {
     "ename": "KeyboardInterrupt",
     "evalue": "",
     "output_type": "error",
     "traceback": [
      "\u001b[0;31m---------------------------------------------------------------------------\u001b[0m",
      "\u001b[0;31mKeyboardInterrupt\u001b[0m                         Traceback (most recent call last)",
      "\u001b[0;32m<ipython-input-42-03de76882adb>\u001b[0m in \u001b[0;36m<module>\u001b[0;34m()\u001b[0m\n\u001b[1;32m      3\u001b[0m   \u001b[0mloss_collect\u001b[0m \u001b[0;34m=\u001b[0m \u001b[0;34m[\u001b[0m\u001b[0;34m]\u001b[0m\u001b[0;34m\u001b[0m\u001b[0;34m\u001b[0m\u001b[0m\n\u001b[1;32m      4\u001b[0m \u001b[0;34m\u001b[0m\u001b[0m\n\u001b[0;32m----> 5\u001b[0;31m   \u001b[0;32mfor\u001b[0m \u001b[0mu\u001b[0m\u001b[0;34m,\u001b[0m \u001b[0mp\u001b[0m\u001b[0;34m,\u001b[0m \u001b[0my\u001b[0m \u001b[0;32min\u001b[0m \u001b[0mtqdm\u001b[0m\u001b[0;34m(\u001b[0m\u001b[0mtrain_loader\u001b[0m\u001b[0;34m)\u001b[0m\u001b[0;34m:\u001b[0m\u001b[0;34m\u001b[0m\u001b[0;34m\u001b[0m\u001b[0m\n\u001b[0m\u001b[1;32m      6\u001b[0m     \u001b[0;31m# check if gpu avaliable\u001b[0m\u001b[0;34m\u001b[0m\u001b[0;34m\u001b[0m\u001b[0;34m\u001b[0m\u001b[0m\n\u001b[1;32m      7\u001b[0m     \u001b[0;32mif\u001b[0m \u001b[0mtorch\u001b[0m\u001b[0;34m.\u001b[0m\u001b[0mcuda\u001b[0m\u001b[0;34m.\u001b[0m\u001b[0mis_available\u001b[0m\u001b[0;34m(\u001b[0m\u001b[0;34m)\u001b[0m\u001b[0;34m:\u001b[0m\u001b[0;34m\u001b[0m\u001b[0;34m\u001b[0m\u001b[0m\n",
      "\u001b[0;32m/home/jeff/anaconda3/envs/work/lib/python3.6/site-packages/tqdm/std.py\u001b[0m in \u001b[0;36m__iter__\u001b[0;34m(self)\u001b[0m\n\u001b[1;32m   1164\u001b[0m \u001b[0;34m\u001b[0m\u001b[0m\n\u001b[1;32m   1165\u001b[0m         \u001b[0;32mtry\u001b[0m\u001b[0;34m:\u001b[0m\u001b[0;34m\u001b[0m\u001b[0;34m\u001b[0m\u001b[0m\n\u001b[0;32m-> 1166\u001b[0;31m             \u001b[0;32mfor\u001b[0m \u001b[0mobj\u001b[0m \u001b[0;32min\u001b[0m \u001b[0miterable\u001b[0m\u001b[0;34m:\u001b[0m\u001b[0;34m\u001b[0m\u001b[0;34m\u001b[0m\u001b[0m\n\u001b[0m\u001b[1;32m   1167\u001b[0m                 \u001b[0;32myield\u001b[0m \u001b[0mobj\u001b[0m\u001b[0;34m\u001b[0m\u001b[0;34m\u001b[0m\u001b[0m\n\u001b[1;32m   1168\u001b[0m                 \u001b[0;31m# Update and possibly print the progressbar.\u001b[0m\u001b[0;34m\u001b[0m\u001b[0;34m\u001b[0m\u001b[0;34m\u001b[0m\u001b[0m\n",
      "\u001b[0;32m/home/jeff/anaconda3/envs/work/lib/python3.6/site-packages/torch/utils/data/dataloader.py\u001b[0m in \u001b[0;36m__next__\u001b[0;34m(self)\u001b[0m\n\u001b[1;32m    433\u001b[0m         \u001b[0;32mif\u001b[0m \u001b[0mself\u001b[0m\u001b[0;34m.\u001b[0m\u001b[0m_sampler_iter\u001b[0m \u001b[0;32mis\u001b[0m \u001b[0;32mNone\u001b[0m\u001b[0;34m:\u001b[0m\u001b[0;34m\u001b[0m\u001b[0;34m\u001b[0m\u001b[0m\n\u001b[1;32m    434\u001b[0m             \u001b[0mself\u001b[0m\u001b[0;34m.\u001b[0m\u001b[0m_reset\u001b[0m\u001b[0;34m(\u001b[0m\u001b[0;34m)\u001b[0m\u001b[0;34m\u001b[0m\u001b[0;34m\u001b[0m\u001b[0m\n\u001b[0;32m--> 435\u001b[0;31m         \u001b[0mdata\u001b[0m \u001b[0;34m=\u001b[0m \u001b[0mself\u001b[0m\u001b[0;34m.\u001b[0m\u001b[0m_next_data\u001b[0m\u001b[0;34m(\u001b[0m\u001b[0;34m)\u001b[0m\u001b[0;34m\u001b[0m\u001b[0;34m\u001b[0m\u001b[0m\n\u001b[0m\u001b[1;32m    436\u001b[0m         \u001b[0mself\u001b[0m\u001b[0;34m.\u001b[0m\u001b[0m_num_yielded\u001b[0m \u001b[0;34m+=\u001b[0m \u001b[0;36m1\u001b[0m\u001b[0;34m\u001b[0m\u001b[0;34m\u001b[0m\u001b[0m\n\u001b[1;32m    437\u001b[0m         \u001b[0;32mif\u001b[0m \u001b[0mself\u001b[0m\u001b[0;34m.\u001b[0m\u001b[0m_dataset_kind\u001b[0m \u001b[0;34m==\u001b[0m \u001b[0m_DatasetKind\u001b[0m\u001b[0;34m.\u001b[0m\u001b[0mIterable\u001b[0m \u001b[0;32mand\u001b[0m\u001b[0;31m \u001b[0m\u001b[0;31m\\\u001b[0m\u001b[0;34m\u001b[0m\u001b[0;34m\u001b[0m\u001b[0m\n",
      "\u001b[0;32m/home/jeff/anaconda3/envs/work/lib/python3.6/site-packages/torch/utils/data/dataloader.py\u001b[0m in \u001b[0;36m_next_data\u001b[0;34m(self)\u001b[0m\n\u001b[1;32m   1066\u001b[0m \u001b[0;34m\u001b[0m\u001b[0m\n\u001b[1;32m   1067\u001b[0m             \u001b[0;32massert\u001b[0m \u001b[0;32mnot\u001b[0m \u001b[0mself\u001b[0m\u001b[0;34m.\u001b[0m\u001b[0m_shutdown\u001b[0m \u001b[0;32mand\u001b[0m \u001b[0mself\u001b[0m\u001b[0;34m.\u001b[0m\u001b[0m_tasks_outstanding\u001b[0m \u001b[0;34m>\u001b[0m \u001b[0;36m0\u001b[0m\u001b[0;34m\u001b[0m\u001b[0;34m\u001b[0m\u001b[0m\n\u001b[0;32m-> 1068\u001b[0;31m             \u001b[0midx\u001b[0m\u001b[0;34m,\u001b[0m \u001b[0mdata\u001b[0m \u001b[0;34m=\u001b[0m \u001b[0mself\u001b[0m\u001b[0;34m.\u001b[0m\u001b[0m_get_data\u001b[0m\u001b[0;34m(\u001b[0m\u001b[0;34m)\u001b[0m\u001b[0;34m\u001b[0m\u001b[0;34m\u001b[0m\u001b[0m\n\u001b[0m\u001b[1;32m   1069\u001b[0m             \u001b[0mself\u001b[0m\u001b[0;34m.\u001b[0m\u001b[0m_tasks_outstanding\u001b[0m \u001b[0;34m-=\u001b[0m \u001b[0;36m1\u001b[0m\u001b[0;34m\u001b[0m\u001b[0;34m\u001b[0m\u001b[0m\n\u001b[1;32m   1070\u001b[0m             \u001b[0;32mif\u001b[0m \u001b[0mself\u001b[0m\u001b[0;34m.\u001b[0m\u001b[0m_dataset_kind\u001b[0m \u001b[0;34m==\u001b[0m \u001b[0m_DatasetKind\u001b[0m\u001b[0;34m.\u001b[0m\u001b[0mIterable\u001b[0m\u001b[0;34m:\u001b[0m\u001b[0;34m\u001b[0m\u001b[0;34m\u001b[0m\u001b[0m\n",
      "\u001b[0;32m/home/jeff/anaconda3/envs/work/lib/python3.6/site-packages/torch/utils/data/dataloader.py\u001b[0m in \u001b[0;36m_get_data\u001b[0;34m(self)\u001b[0m\n\u001b[1;32m   1032\u001b[0m         \u001b[0;32melse\u001b[0m\u001b[0;34m:\u001b[0m\u001b[0;34m\u001b[0m\u001b[0;34m\u001b[0m\u001b[0m\n\u001b[1;32m   1033\u001b[0m             \u001b[0;32mwhile\u001b[0m \u001b[0;32mTrue\u001b[0m\u001b[0;34m:\u001b[0m\u001b[0;34m\u001b[0m\u001b[0;34m\u001b[0m\u001b[0m\n\u001b[0;32m-> 1034\u001b[0;31m                 \u001b[0msuccess\u001b[0m\u001b[0;34m,\u001b[0m \u001b[0mdata\u001b[0m \u001b[0;34m=\u001b[0m \u001b[0mself\u001b[0m\u001b[0;34m.\u001b[0m\u001b[0m_try_get_data\u001b[0m\u001b[0;34m(\u001b[0m\u001b[0;34m)\u001b[0m\u001b[0;34m\u001b[0m\u001b[0;34m\u001b[0m\u001b[0m\n\u001b[0m\u001b[1;32m   1035\u001b[0m                 \u001b[0;32mif\u001b[0m \u001b[0msuccess\u001b[0m\u001b[0;34m:\u001b[0m\u001b[0;34m\u001b[0m\u001b[0;34m\u001b[0m\u001b[0m\n\u001b[1;32m   1036\u001b[0m                     \u001b[0;32mreturn\u001b[0m \u001b[0mdata\u001b[0m\u001b[0;34m\u001b[0m\u001b[0;34m\u001b[0m\u001b[0m\n",
      "\u001b[0;32m/home/jeff/anaconda3/envs/work/lib/python3.6/site-packages/torch/utils/data/dataloader.py\u001b[0m in \u001b[0;36m_try_get_data\u001b[0;34m(self, timeout)\u001b[0m\n\u001b[1;32m    870\u001b[0m         \u001b[0;31m#   (bool: whether successfully get data, any: data if successful else None)\u001b[0m\u001b[0;34m\u001b[0m\u001b[0;34m\u001b[0m\u001b[0;34m\u001b[0m\u001b[0m\n\u001b[1;32m    871\u001b[0m         \u001b[0;32mtry\u001b[0m\u001b[0;34m:\u001b[0m\u001b[0;34m\u001b[0m\u001b[0;34m\u001b[0m\u001b[0m\n\u001b[0;32m--> 872\u001b[0;31m             \u001b[0mdata\u001b[0m \u001b[0;34m=\u001b[0m \u001b[0mself\u001b[0m\u001b[0;34m.\u001b[0m\u001b[0m_data_queue\u001b[0m\u001b[0;34m.\u001b[0m\u001b[0mget\u001b[0m\u001b[0;34m(\u001b[0m\u001b[0mtimeout\u001b[0m\u001b[0;34m=\u001b[0m\u001b[0mtimeout\u001b[0m\u001b[0;34m)\u001b[0m\u001b[0;34m\u001b[0m\u001b[0;34m\u001b[0m\u001b[0m\n\u001b[0m\u001b[1;32m    873\u001b[0m             \u001b[0;32mreturn\u001b[0m \u001b[0;34m(\u001b[0m\u001b[0;32mTrue\u001b[0m\u001b[0;34m,\u001b[0m \u001b[0mdata\u001b[0m\u001b[0;34m)\u001b[0m\u001b[0;34m\u001b[0m\u001b[0;34m\u001b[0m\u001b[0m\n\u001b[1;32m    874\u001b[0m         \u001b[0;32mexcept\u001b[0m \u001b[0mException\u001b[0m \u001b[0;32mas\u001b[0m \u001b[0me\u001b[0m\u001b[0;34m:\u001b[0m\u001b[0;34m\u001b[0m\u001b[0;34m\u001b[0m\u001b[0m\n",
      "\u001b[0;32m/home/jeff/anaconda3/envs/work/lib/python3.6/multiprocessing/queues.py\u001b[0m in \u001b[0;36mget\u001b[0;34m(self, block, timeout)\u001b[0m\n\u001b[1;32m    111\u001b[0m                 \u001b[0mself\u001b[0m\u001b[0;34m.\u001b[0m\u001b[0m_rlock\u001b[0m\u001b[0;34m.\u001b[0m\u001b[0mrelease\u001b[0m\u001b[0;34m(\u001b[0m\u001b[0;34m)\u001b[0m\u001b[0;34m\u001b[0m\u001b[0;34m\u001b[0m\u001b[0m\n\u001b[1;32m    112\u001b[0m         \u001b[0;31m# unserialize the data after having released the lock\u001b[0m\u001b[0;34m\u001b[0m\u001b[0;34m\u001b[0m\u001b[0;34m\u001b[0m\u001b[0m\n\u001b[0;32m--> 113\u001b[0;31m         \u001b[0;32mreturn\u001b[0m \u001b[0m_ForkingPickler\u001b[0m\u001b[0;34m.\u001b[0m\u001b[0mloads\u001b[0m\u001b[0;34m(\u001b[0m\u001b[0mres\u001b[0m\u001b[0;34m)\u001b[0m\u001b[0;34m\u001b[0m\u001b[0;34m\u001b[0m\u001b[0m\n\u001b[0m\u001b[1;32m    114\u001b[0m \u001b[0;34m\u001b[0m\u001b[0m\n\u001b[1;32m    115\u001b[0m     \u001b[0;32mdef\u001b[0m \u001b[0mqsize\u001b[0m\u001b[0;34m(\u001b[0m\u001b[0mself\u001b[0m\u001b[0;34m)\u001b[0m\u001b[0;34m:\u001b[0m\u001b[0;34m\u001b[0m\u001b[0;34m\u001b[0m\u001b[0m\n",
      "\u001b[0;32m/home/jeff/anaconda3/envs/work/lib/python3.6/site-packages/torch/multiprocessing/reductions.py\u001b[0m in \u001b[0;36mrebuild_storage_fd\u001b[0;34m(cls, df, size)\u001b[0m\n\u001b[1;32m    280\u001b[0m \u001b[0;34m\u001b[0m\u001b[0m\n\u001b[1;32m    281\u001b[0m \u001b[0;32mdef\u001b[0m \u001b[0mrebuild_storage_fd\u001b[0m\u001b[0;34m(\u001b[0m\u001b[0mcls\u001b[0m\u001b[0;34m,\u001b[0m \u001b[0mdf\u001b[0m\u001b[0;34m,\u001b[0m \u001b[0msize\u001b[0m\u001b[0;34m)\u001b[0m\u001b[0;34m:\u001b[0m\u001b[0;34m\u001b[0m\u001b[0;34m\u001b[0m\u001b[0m\n\u001b[0;32m--> 282\u001b[0;31m     \u001b[0mfd\u001b[0m \u001b[0;34m=\u001b[0m \u001b[0mdf\u001b[0m\u001b[0;34m.\u001b[0m\u001b[0mdetach\u001b[0m\u001b[0;34m(\u001b[0m\u001b[0;34m)\u001b[0m\u001b[0;34m\u001b[0m\u001b[0;34m\u001b[0m\u001b[0m\n\u001b[0m\u001b[1;32m    283\u001b[0m     \u001b[0;32mtry\u001b[0m\u001b[0;34m:\u001b[0m\u001b[0;34m\u001b[0m\u001b[0;34m\u001b[0m\u001b[0m\n\u001b[1;32m    284\u001b[0m         \u001b[0mstorage\u001b[0m \u001b[0;34m=\u001b[0m \u001b[0mstorage_from_cache\u001b[0m\u001b[0;34m(\u001b[0m\u001b[0mcls\u001b[0m\u001b[0;34m,\u001b[0m \u001b[0mfd_id\u001b[0m\u001b[0;34m(\u001b[0m\u001b[0mfd\u001b[0m\u001b[0;34m)\u001b[0m\u001b[0;34m)\u001b[0m\u001b[0;34m\u001b[0m\u001b[0;34m\u001b[0m\u001b[0m\n",
      "\u001b[0;32m/home/jeff/anaconda3/envs/work/lib/python3.6/multiprocessing/resource_sharer.py\u001b[0m in \u001b[0;36mdetach\u001b[0;34m(self)\u001b[0m\n\u001b[1;32m     55\u001b[0m         \u001b[0;32mdef\u001b[0m \u001b[0mdetach\u001b[0m\u001b[0;34m(\u001b[0m\u001b[0mself\u001b[0m\u001b[0;34m)\u001b[0m\u001b[0;34m:\u001b[0m\u001b[0;34m\u001b[0m\u001b[0;34m\u001b[0m\u001b[0m\n\u001b[1;32m     56\u001b[0m             \u001b[0;34m'''Get the fd.  This should only be called once.'''\u001b[0m\u001b[0;34m\u001b[0m\u001b[0;34m\u001b[0m\u001b[0m\n\u001b[0;32m---> 57\u001b[0;31m             \u001b[0;32mwith\u001b[0m \u001b[0m_resource_sharer\u001b[0m\u001b[0;34m.\u001b[0m\u001b[0mget_connection\u001b[0m\u001b[0;34m(\u001b[0m\u001b[0mself\u001b[0m\u001b[0;34m.\u001b[0m\u001b[0m_id\u001b[0m\u001b[0;34m)\u001b[0m \u001b[0;32mas\u001b[0m \u001b[0mconn\u001b[0m\u001b[0;34m:\u001b[0m\u001b[0;34m\u001b[0m\u001b[0;34m\u001b[0m\u001b[0m\n\u001b[0m\u001b[1;32m     58\u001b[0m                 \u001b[0;32mreturn\u001b[0m \u001b[0mreduction\u001b[0m\u001b[0;34m.\u001b[0m\u001b[0mrecv_handle\u001b[0m\u001b[0;34m(\u001b[0m\u001b[0mconn\u001b[0m\u001b[0;34m)\u001b[0m\u001b[0;34m\u001b[0m\u001b[0;34m\u001b[0m\u001b[0m\n\u001b[1;32m     59\u001b[0m \u001b[0;34m\u001b[0m\u001b[0m\n",
      "\u001b[0;32m/home/jeff/anaconda3/envs/work/lib/python3.6/multiprocessing/resource_sharer.py\u001b[0m in \u001b[0;36mget_connection\u001b[0;34m(ident)\u001b[0m\n\u001b[1;32m     85\u001b[0m         \u001b[0;32mfrom\u001b[0m \u001b[0;34m.\u001b[0m\u001b[0mconnection\u001b[0m \u001b[0;32mimport\u001b[0m \u001b[0mClient\u001b[0m\u001b[0;34m\u001b[0m\u001b[0;34m\u001b[0m\u001b[0m\n\u001b[1;32m     86\u001b[0m         \u001b[0maddress\u001b[0m\u001b[0;34m,\u001b[0m \u001b[0mkey\u001b[0m \u001b[0;34m=\u001b[0m \u001b[0mident\u001b[0m\u001b[0;34m\u001b[0m\u001b[0;34m\u001b[0m\u001b[0m\n\u001b[0;32m---> 87\u001b[0;31m         \u001b[0mc\u001b[0m \u001b[0;34m=\u001b[0m \u001b[0mClient\u001b[0m\u001b[0;34m(\u001b[0m\u001b[0maddress\u001b[0m\u001b[0;34m,\u001b[0m \u001b[0mauthkey\u001b[0m\u001b[0;34m=\u001b[0m\u001b[0mprocess\u001b[0m\u001b[0;34m.\u001b[0m\u001b[0mcurrent_process\u001b[0m\u001b[0;34m(\u001b[0m\u001b[0;34m)\u001b[0m\u001b[0;34m.\u001b[0m\u001b[0mauthkey\u001b[0m\u001b[0;34m)\u001b[0m\u001b[0;34m\u001b[0m\u001b[0;34m\u001b[0m\u001b[0m\n\u001b[0m\u001b[1;32m     88\u001b[0m         \u001b[0mc\u001b[0m\u001b[0;34m.\u001b[0m\u001b[0msend\u001b[0m\u001b[0;34m(\u001b[0m\u001b[0;34m(\u001b[0m\u001b[0mkey\u001b[0m\u001b[0;34m,\u001b[0m \u001b[0mos\u001b[0m\u001b[0;34m.\u001b[0m\u001b[0mgetpid\u001b[0m\u001b[0;34m(\u001b[0m\u001b[0;34m)\u001b[0m\u001b[0;34m)\u001b[0m\u001b[0;34m)\u001b[0m\u001b[0;34m\u001b[0m\u001b[0;34m\u001b[0m\u001b[0m\n\u001b[1;32m     89\u001b[0m         \u001b[0;32mreturn\u001b[0m \u001b[0mc\u001b[0m\u001b[0;34m\u001b[0m\u001b[0;34m\u001b[0m\u001b[0m\n",
      "\u001b[0;32m/home/jeff/anaconda3/envs/work/lib/python3.6/multiprocessing/connection.py\u001b[0m in \u001b[0;36mClient\u001b[0;34m(address, family, authkey)\u001b[0m\n\u001b[1;32m    492\u001b[0m     \u001b[0;32mif\u001b[0m \u001b[0mauthkey\u001b[0m \u001b[0;32mis\u001b[0m \u001b[0;32mnot\u001b[0m \u001b[0;32mNone\u001b[0m\u001b[0;34m:\u001b[0m\u001b[0;34m\u001b[0m\u001b[0;34m\u001b[0m\u001b[0m\n\u001b[1;32m    493\u001b[0m         \u001b[0manswer_challenge\u001b[0m\u001b[0;34m(\u001b[0m\u001b[0mc\u001b[0m\u001b[0;34m,\u001b[0m \u001b[0mauthkey\u001b[0m\u001b[0;34m)\u001b[0m\u001b[0;34m\u001b[0m\u001b[0;34m\u001b[0m\u001b[0m\n\u001b[0;32m--> 494\u001b[0;31m         \u001b[0mdeliver_challenge\u001b[0m\u001b[0;34m(\u001b[0m\u001b[0mc\u001b[0m\u001b[0;34m,\u001b[0m \u001b[0mauthkey\u001b[0m\u001b[0;34m)\u001b[0m\u001b[0;34m\u001b[0m\u001b[0;34m\u001b[0m\u001b[0m\n\u001b[0m\u001b[1;32m    495\u001b[0m \u001b[0;34m\u001b[0m\u001b[0m\n\u001b[1;32m    496\u001b[0m     \u001b[0;32mreturn\u001b[0m \u001b[0mc\u001b[0m\u001b[0;34m\u001b[0m\u001b[0;34m\u001b[0m\u001b[0m\n",
      "\u001b[0;32m/home/jeff/anaconda3/envs/work/lib/python3.6/multiprocessing/connection.py\u001b[0m in \u001b[0;36mdeliver_challenge\u001b[0;34m(connection, authkey)\u001b[0m\n\u001b[1;32m    720\u001b[0m     \u001b[0mconnection\u001b[0m\u001b[0;34m.\u001b[0m\u001b[0msend_bytes\u001b[0m\u001b[0;34m(\u001b[0m\u001b[0mCHALLENGE\u001b[0m \u001b[0;34m+\u001b[0m \u001b[0mmessage\u001b[0m\u001b[0;34m)\u001b[0m\u001b[0;34m\u001b[0m\u001b[0;34m\u001b[0m\u001b[0m\n\u001b[1;32m    721\u001b[0m     \u001b[0mdigest\u001b[0m \u001b[0;34m=\u001b[0m \u001b[0mhmac\u001b[0m\u001b[0;34m.\u001b[0m\u001b[0mnew\u001b[0m\u001b[0;34m(\u001b[0m\u001b[0mauthkey\u001b[0m\u001b[0;34m,\u001b[0m \u001b[0mmessage\u001b[0m\u001b[0;34m,\u001b[0m \u001b[0;34m'md5'\u001b[0m\u001b[0;34m)\u001b[0m\u001b[0;34m.\u001b[0m\u001b[0mdigest\u001b[0m\u001b[0;34m(\u001b[0m\u001b[0;34m)\u001b[0m\u001b[0;34m\u001b[0m\u001b[0;34m\u001b[0m\u001b[0m\n\u001b[0;32m--> 722\u001b[0;31m     \u001b[0mresponse\u001b[0m \u001b[0;34m=\u001b[0m \u001b[0mconnection\u001b[0m\u001b[0;34m.\u001b[0m\u001b[0mrecv_bytes\u001b[0m\u001b[0;34m(\u001b[0m\u001b[0;36m256\u001b[0m\u001b[0;34m)\u001b[0m        \u001b[0;31m# reject large message\u001b[0m\u001b[0;34m\u001b[0m\u001b[0;34m\u001b[0m\u001b[0m\n\u001b[0m\u001b[1;32m    723\u001b[0m     \u001b[0;32mif\u001b[0m \u001b[0mresponse\u001b[0m \u001b[0;34m==\u001b[0m \u001b[0mdigest\u001b[0m\u001b[0;34m:\u001b[0m\u001b[0;34m\u001b[0m\u001b[0;34m\u001b[0m\u001b[0m\n\u001b[1;32m    724\u001b[0m         \u001b[0mconnection\u001b[0m\u001b[0;34m.\u001b[0m\u001b[0msend_bytes\u001b[0m\u001b[0;34m(\u001b[0m\u001b[0mWELCOME\u001b[0m\u001b[0;34m)\u001b[0m\u001b[0;34m\u001b[0m\u001b[0;34m\u001b[0m\u001b[0m\n",
      "\u001b[0;32m/home/jeff/anaconda3/envs/work/lib/python3.6/multiprocessing/connection.py\u001b[0m in \u001b[0;36mrecv_bytes\u001b[0;34m(self, maxlength)\u001b[0m\n\u001b[1;32m    214\u001b[0m         \u001b[0;32mif\u001b[0m \u001b[0mmaxlength\u001b[0m \u001b[0;32mis\u001b[0m \u001b[0;32mnot\u001b[0m \u001b[0;32mNone\u001b[0m \u001b[0;32mand\u001b[0m \u001b[0mmaxlength\u001b[0m \u001b[0;34m<\u001b[0m \u001b[0;36m0\u001b[0m\u001b[0;34m:\u001b[0m\u001b[0;34m\u001b[0m\u001b[0;34m\u001b[0m\u001b[0m\n\u001b[1;32m    215\u001b[0m             \u001b[0;32mraise\u001b[0m \u001b[0mValueError\u001b[0m\u001b[0;34m(\u001b[0m\u001b[0;34m\"negative maxlength\"\u001b[0m\u001b[0;34m)\u001b[0m\u001b[0;34m\u001b[0m\u001b[0;34m\u001b[0m\u001b[0m\n\u001b[0;32m--> 216\u001b[0;31m         \u001b[0mbuf\u001b[0m \u001b[0;34m=\u001b[0m \u001b[0mself\u001b[0m\u001b[0;34m.\u001b[0m\u001b[0m_recv_bytes\u001b[0m\u001b[0;34m(\u001b[0m\u001b[0mmaxlength\u001b[0m\u001b[0;34m)\u001b[0m\u001b[0;34m\u001b[0m\u001b[0;34m\u001b[0m\u001b[0m\n\u001b[0m\u001b[1;32m    217\u001b[0m         \u001b[0;32mif\u001b[0m \u001b[0mbuf\u001b[0m \u001b[0;32mis\u001b[0m \u001b[0;32mNone\u001b[0m\u001b[0;34m:\u001b[0m\u001b[0;34m\u001b[0m\u001b[0;34m\u001b[0m\u001b[0m\n\u001b[1;32m    218\u001b[0m             \u001b[0mself\u001b[0m\u001b[0;34m.\u001b[0m\u001b[0m_bad_message_length\u001b[0m\u001b[0;34m(\u001b[0m\u001b[0;34m)\u001b[0m\u001b[0;34m\u001b[0m\u001b[0;34m\u001b[0m\u001b[0m\n",
      "\u001b[0;32m/home/jeff/anaconda3/envs/work/lib/python3.6/multiprocessing/connection.py\u001b[0m in \u001b[0;36m_recv_bytes\u001b[0;34m(self, maxsize)\u001b[0m\n\u001b[1;32m    405\u001b[0m \u001b[0;34m\u001b[0m\u001b[0m\n\u001b[1;32m    406\u001b[0m     \u001b[0;32mdef\u001b[0m \u001b[0m_recv_bytes\u001b[0m\u001b[0;34m(\u001b[0m\u001b[0mself\u001b[0m\u001b[0;34m,\u001b[0m \u001b[0mmaxsize\u001b[0m\u001b[0;34m=\u001b[0m\u001b[0;32mNone\u001b[0m\u001b[0;34m)\u001b[0m\u001b[0;34m:\u001b[0m\u001b[0;34m\u001b[0m\u001b[0;34m\u001b[0m\u001b[0m\n\u001b[0;32m--> 407\u001b[0;31m         \u001b[0mbuf\u001b[0m \u001b[0;34m=\u001b[0m \u001b[0mself\u001b[0m\u001b[0;34m.\u001b[0m\u001b[0m_recv\u001b[0m\u001b[0;34m(\u001b[0m\u001b[0;36m4\u001b[0m\u001b[0;34m)\u001b[0m\u001b[0;34m\u001b[0m\u001b[0;34m\u001b[0m\u001b[0m\n\u001b[0m\u001b[1;32m    408\u001b[0m         \u001b[0msize\u001b[0m\u001b[0;34m,\u001b[0m \u001b[0;34m=\u001b[0m \u001b[0mstruct\u001b[0m\u001b[0;34m.\u001b[0m\u001b[0munpack\u001b[0m\u001b[0;34m(\u001b[0m\u001b[0;34m\"!i\"\u001b[0m\u001b[0;34m,\u001b[0m \u001b[0mbuf\u001b[0m\u001b[0;34m.\u001b[0m\u001b[0mgetvalue\u001b[0m\u001b[0;34m(\u001b[0m\u001b[0;34m)\u001b[0m\u001b[0;34m)\u001b[0m\u001b[0;34m\u001b[0m\u001b[0;34m\u001b[0m\u001b[0m\n\u001b[1;32m    409\u001b[0m         \u001b[0;32mif\u001b[0m \u001b[0mmaxsize\u001b[0m \u001b[0;32mis\u001b[0m \u001b[0;32mnot\u001b[0m \u001b[0;32mNone\u001b[0m \u001b[0;32mand\u001b[0m \u001b[0msize\u001b[0m \u001b[0;34m>\u001b[0m \u001b[0mmaxsize\u001b[0m\u001b[0;34m:\u001b[0m\u001b[0;34m\u001b[0m\u001b[0;34m\u001b[0m\u001b[0m\n",
      "\u001b[0;32m/home/jeff/anaconda3/envs/work/lib/python3.6/multiprocessing/connection.py\u001b[0m in \u001b[0;36m_recv\u001b[0;34m(self, size, read)\u001b[0m\n\u001b[1;32m    377\u001b[0m         \u001b[0mremaining\u001b[0m \u001b[0;34m=\u001b[0m \u001b[0msize\u001b[0m\u001b[0;34m\u001b[0m\u001b[0;34m\u001b[0m\u001b[0m\n\u001b[1;32m    378\u001b[0m         \u001b[0;32mwhile\u001b[0m \u001b[0mremaining\u001b[0m \u001b[0;34m>\u001b[0m \u001b[0;36m0\u001b[0m\u001b[0;34m:\u001b[0m\u001b[0;34m\u001b[0m\u001b[0;34m\u001b[0m\u001b[0m\n\u001b[0;32m--> 379\u001b[0;31m             \u001b[0mchunk\u001b[0m \u001b[0;34m=\u001b[0m \u001b[0mread\u001b[0m\u001b[0;34m(\u001b[0m\u001b[0mhandle\u001b[0m\u001b[0;34m,\u001b[0m \u001b[0mremaining\u001b[0m\u001b[0;34m)\u001b[0m\u001b[0;34m\u001b[0m\u001b[0;34m\u001b[0m\u001b[0m\n\u001b[0m\u001b[1;32m    380\u001b[0m             \u001b[0mn\u001b[0m \u001b[0;34m=\u001b[0m \u001b[0mlen\u001b[0m\u001b[0;34m(\u001b[0m\u001b[0mchunk\u001b[0m\u001b[0;34m)\u001b[0m\u001b[0;34m\u001b[0m\u001b[0;34m\u001b[0m\u001b[0m\n\u001b[1;32m    381\u001b[0m             \u001b[0;32mif\u001b[0m \u001b[0mn\u001b[0m \u001b[0;34m==\u001b[0m \u001b[0;36m0\u001b[0m\u001b[0;34m:\u001b[0m\u001b[0;34m\u001b[0m\u001b[0;34m\u001b[0m\u001b[0m\n",
      "\u001b[0;31mKeyboardInterrupt\u001b[0m: "
     ]
    }
   ],
   "source": [
    "for epoch in range(100):\n",
    "  # collect loss for a epoch\n",
    "  loss_collect = []\n",
    "\n",
    "  for u, p, y in tqdm(train_loader):\n",
    "    # check if gpu avaliable\n",
    "    if torch.cuda.is_available():\n",
    "      u = u.to('cuda')\n",
    "      p = p.to('cuda')\n",
    "      y = y.to('cuda')\n",
    "\n",
    "    # forward\n",
    "    pr = model(u, p)\n",
    "\n",
    "    # calculate loss\n",
    "    _loss = loss(pr.squeeze(), y.squeeze())\n",
    "\n",
    "    # backward\n",
    "    _loss.backward()\n",
    "    optimizer.step()\n",
    "\n",
    "    # track loss for each batch\n",
    "    loss_collect.append(_loss.cpu().item())\n",
    "  \n",
    "  # print loss tracking\n",
    "  print(\"Epoch: {} : {}\".format(epoch, np.mean(loss_collect)))"
   ]
  },
  {
   "cell_type": "code",
   "execution_count": 44,
   "metadata": {
    "executionInfo": {
     "elapsed": 18,
     "status": "aborted",
     "timestamp": 1623070840672,
     "user": {
      "displayName": "方郁文",
      "photoUrl": "",
      "userId": "06852567172259853351"
     },
     "user_tz": -480
    },
    "id": "_0fZ-2dOYc8M"
   },
   "outputs": [],
   "source": [
    "torch.save(model.state_dict(), 'best_model.pth')"
   ]
  },
  {
   "cell_type": "markdown",
   "metadata": {},
   "source": [
    "# test"
   ]
  },
  {
   "cell_type": "code",
   "execution_count": 35,
   "metadata": {},
   "outputs": [
    {
     "name": "stdout",
     "output_type": "stream",
     "text": [
      "using gpu\n"
     ]
    }
   ],
   "source": [
    "if torch.cuda.is_available():\n",
    "    model.load_state_dict(torch.load('last_model.pth', map_location='cuda'))\n",
    "    print('using gpu')\n",
    "else:\n",
    "    model.load_state_dict(torch.load('last_model.pth', map_location='cpu'))\n",
    "    print('using cpu')"
   ]
  },
  {
   "cell_type": "code",
   "execution_count": 36,
   "metadata": {},
   "outputs": [],
   "source": [
    "# define test set\n",
    "test_set = UXP(testset)"
   ]
  },
  {
   "cell_type": "markdown",
   "metadata": {},
   "source": [
    "## test fit"
   ]
  },
  {
   "cell_type": "code",
   "execution_count": 37,
   "metadata": {},
   "outputs": [
    {
     "data": {
      "text/plain": [
       "(array([2]), array([49451]), array([0.25], dtype=float32))"
      ]
     },
     "execution_count": 37,
     "metadata": {},
     "output_type": "execute_result"
    }
   ],
   "source": [
    "u, p, y = test_set[1]\n",
    "\n",
    "u, p, y"
   ]
  },
  {
   "cell_type": "code",
   "execution_count": 38,
   "metadata": {},
   "outputs": [
    {
     "name": "stdout",
     "output_type": "stream",
     "text": [
      "torch.Size([1, 1]) torch.Size([1, 1])\n",
      "tensor([[[0.3906]]], device='cuda:0')\n",
      "[0.25]\n"
     ]
    }
   ],
   "source": [
    "u = torch.tensor(u).unsqueeze(0).cuda()\n",
    "p = torch.tensor(p).unsqueeze(0).cuda()\n",
    "\n",
    "print(u.shape, p.shape)\n",
    "\n",
    "with torch.no_grad():\n",
    "    pr = model(u, p)\n",
    "    \n",
    "    print(pr)\n",
    "    \n",
    "    print(y)"
   ]
  },
  {
   "cell_type": "markdown",
   "metadata": {},
   "source": [
    "## avg mse of test_set"
   ]
  },
  {
   "cell_type": "code",
   "execution_count": 39,
   "metadata": {},
   "outputs": [],
   "source": [
    "test_loader = DataLoader(test_set, batch_size=128, shuffle=False, num_workers=2)"
   ]
  },
  {
   "cell_type": "code",
   "execution_count": 41,
   "metadata": {},
   "outputs": [
    {
     "name": "stderr",
     "output_type": "stream",
     "text": [
      "100%|██████████| 1612/1612 [00:45<00:00, 35.07it/s]"
     ]
    },
    {
     "name": "stdout",
     "output_type": "stream",
     "text": [
      "2.572159428759559\n"
     ]
    },
    {
     "name": "stderr",
     "output_type": "stream",
     "text": [
      "\n"
     ]
    }
   ],
   "source": [
    "mse_collect = []\n",
    "\n",
    "for u, p, y in tqdm(test_loader):\n",
    "    # check if gpu avaliable\n",
    "    if torch.cuda.is_available():\n",
    "        u = u.to('cuda')\n",
    "        p = p.to('cuda')\n",
    "        y = y.to('cuda')\n",
    "\n",
    "    # forward\n",
    "    with torch.no_grad():\n",
    "        pr = model(u, p)\n",
    "\n",
    "        # calculate loss\n",
    "        _loss = loss(pr.squeeze(), y.squeeze())\n",
    "        \n",
    "        mse_collect.append(_loss.item())\n",
    "        \n",
    "print(np.mean(mse_collect))"
   ]
  },
  {
   "cell_type": "code",
   "execution_count": 42,
   "metadata": {},
   "outputs": [
    {
     "data": {
      "text/plain": [
       "1.6037953200952917"
      ]
     },
     "execution_count": 42,
     "metadata": {},
     "output_type": "execute_result"
    }
   ],
   "source": [
    "np.sqrt(np.mean(mse_collect))"
   ]
  },
  {
   "cell_type": "markdown",
   "metadata": {},
   "source": [
    "## Top X Hit"
   ]
  },
  {
   "cell_type": "code",
   "execution_count": 56,
   "metadata": {},
   "outputs": [
    {
     "data": {
      "text/html": [
       "<div>\n",
       "<style scoped>\n",
       "    .dataframe tbody tr th:only-of-type {\n",
       "        vertical-align: middle;\n",
       "    }\n",
       "\n",
       "    .dataframe tbody tr th {\n",
       "        vertical-align: top;\n",
       "    }\n",
       "\n",
       "    .dataframe thead th {\n",
       "        text-align: right;\n",
       "    }\n",
       "</style>\n",
       "<table border=\"1\" class=\"dataframe\">\n",
       "  <thead>\n",
       "    <tr style=\"text-align: right;\">\n",
       "      <th></th>\n",
       "      <th>user_id</th>\n",
       "      <th>product_id</th>\n",
       "      <th>uxp_reorder_ratio</th>\n",
       "      <th>u_total_bought_product</th>\n",
       "      <th>u_avg_bought_p_per_order</th>\n",
       "      <th>uxp_order_ratio</th>\n",
       "      <th>uxp_bought_before</th>\n",
       "      <th>score</th>\n",
       "    </tr>\n",
       "  </thead>\n",
       "  <tbody>\n",
       "    <tr>\n",
       "      <th>18</th>\n",
       "      <td>1</td>\n",
       "      <td>49235</td>\n",
       "      <td>0.750000</td>\n",
       "      <td>70</td>\n",
       "      <td>6.363636</td>\n",
       "      <td>0.272727</td>\n",
       "      <td>1</td>\n",
       "      <td>1.122727</td>\n",
       "    </tr>\n",
       "    <tr>\n",
       "      <th>139</th>\n",
       "      <td>2</td>\n",
       "      <td>49451</td>\n",
       "      <td>0.083333</td>\n",
       "      <td>226</td>\n",
       "      <td>15.066667</td>\n",
       "      <td>0.066667</td>\n",
       "      <td>1</td>\n",
       "      <td>0.250000</td>\n",
       "    </tr>\n",
       "    <tr>\n",
       "      <th>172</th>\n",
       "      <td>3</td>\n",
       "      <td>49683</td>\n",
       "      <td>0.100000</td>\n",
       "      <td>88</td>\n",
       "      <td>7.333333</td>\n",
       "      <td>0.083333</td>\n",
       "      <td>1</td>\n",
       "      <td>0.283333</td>\n",
       "    </tr>\n",
       "    <tr>\n",
       "      <th>189</th>\n",
       "      <td>4</td>\n",
       "      <td>43704</td>\n",
       "      <td>0.333333</td>\n",
       "      <td>18</td>\n",
       "      <td>3.600000</td>\n",
       "      <td>0.200000</td>\n",
       "      <td>1</td>\n",
       "      <td>0.633333</td>\n",
       "    </tr>\n",
       "    <tr>\n",
       "      <th>217</th>\n",
       "      <td>5</td>\n",
       "      <td>48775</td>\n",
       "      <td>0.200000</td>\n",
       "      <td>46</td>\n",
       "      <td>9.200000</td>\n",
       "      <td>0.200000</td>\n",
       "      <td>1</td>\n",
       "      <td>0.500000</td>\n",
       "    </tr>\n",
       "  </tbody>\n",
       "</table>\n",
       "</div>"
      ],
      "text/plain": [
       "     user_id  product_id  uxp_reorder_ratio  u_total_bought_product  \\\n",
       "18         1       49235           0.750000                      70   \n",
       "139        2       49451           0.083333                     226   \n",
       "172        3       49683           0.100000                      88   \n",
       "189        4       43704           0.333333                      18   \n",
       "217        5       48775           0.200000                      46   \n",
       "\n",
       "     u_avg_bought_p_per_order  uxp_order_ratio  uxp_bought_before     score  \n",
       "18                   6.363636         0.272727                  1  1.122727  \n",
       "139                 15.066667         0.066667                  1  0.250000  \n",
       "172                  7.333333         0.083333                  1  0.283333  \n",
       "189                  3.600000         0.200000                  1  0.633333  \n",
       "217                  9.200000         0.200000                  1  0.500000  "
      ]
     },
     "execution_count": 56,
     "metadata": {},
     "output_type": "execute_result"
    }
   ],
   "source": [
    "testset.head()"
   ]
  },
  {
   "cell_type": "code",
   "execution_count": 125,
   "metadata": {},
   "outputs": [],
   "source": [
    "def getBoughtProduct(in_user):\n",
    "    return int(testset.iloc[in_user]['product_id'])"
   ]
  },
  {
   "cell_type": "code",
   "execution_count": 126,
   "metadata": {},
   "outputs": [
    {
     "data": {
      "text/plain": [
       "49235"
      ]
     },
     "execution_count": 126,
     "metadata": {},
     "output_type": "execute_result"
    }
   ],
   "source": [
    "getBoughtProduct(0)"
   ]
  },
  {
   "cell_type": "code",
   "execution_count": 127,
   "metadata": {},
   "outputs": [],
   "source": [
    "def getNotBoughtProduct(in_user, n):\n",
    "    rated = np.array(testset.iloc[in_user]['product_id'])\n",
    "    \n",
    "    maxid = np.max(testset['product_id'])\n",
    "    \n",
    "    not_rated = []\n",
    "    while(len(not_rated) < n):\n",
    "        x = np.random.randint(maxid)\n",
    "        if (x not in rated) and (x not in np.array(trainset[trainset['user_id'] == testset.iloc[0]['user_id']]['product_id']).astype(int)):\n",
    "            not_rated.append(x)\n",
    "\n",
    "    return np.array(not_rated)"
   ]
  },
  {
   "cell_type": "code",
   "execution_count": 128,
   "metadata": {},
   "outputs": [
    {
     "data": {
      "text/plain": [
       "array([38283, 30668,  5137,   742,  1878, 18955,  9781, 42200, 23433,\n",
       "       18808, 45812,   138, 26759, 16083,  2829, 31235, 33702, 37823,\n",
       "       30864, 13105, 14186, 30367, 32232, 42917,  6286, 31454, 18862,\n",
       "       33113, 47108,   732,  1709, 28743, 28554, 13828, 16725,  1453,\n",
       "       21712, 48807, 38437,  4803, 23431,  7969, 12537, 36994,  4904,\n",
       "       11420, 24962, 10469, 41446, 39584, 10695, 29962, 35264, 10575,\n",
       "        5891, 15702, 26148,   884, 35652, 35759, 27394, 16229, 13796,\n",
       "       15345, 37835,  7011, 34978, 22997,  5133,  1993,  1011, 28316,\n",
       "       49599, 33423,  6511, 26599, 14192, 22458, 30431, 47438, 12872,\n",
       "       48242, 22593, 47309, 20752, 19416, 17859, 24216, 26018, 45915,\n",
       "       43499, 10488, 21795, 36410, 17528,  9961, 34452, 31917,   153])"
      ]
     },
     "execution_count": 128,
     "metadata": {},
     "output_type": "execute_result"
    }
   ],
   "source": [
    "getNotBoughtProduct(0, 99)"
   ]
  },
  {
   "cell_type": "code",
   "execution_count": 129,
   "metadata": {
    "scrolled": true
   },
   "outputs": [
    {
     "name": "stderr",
     "output_type": "stream",
     "text": [
      "  0%|          | 37/206209 [00:49<76:43:52,  1.34s/it]\n"
     ]
    },
    {
     "ename": "KeyboardInterrupt",
     "evalue": "",
     "output_type": "error",
     "traceback": [
      "\u001b[0;31m---------------------------------------------------------------------------\u001b[0m",
      "\u001b[0;31mKeyboardInterrupt\u001b[0m                         Traceback (most recent call last)",
      "\u001b[0;32m<ipython-input-129-b34e4e9418b9>\u001b[0m in \u001b[0;36m<module>\u001b[0;34m()\u001b[0m\n\u001b[1;32m      2\u001b[0m \u001b[0;34m\u001b[0m\u001b[0m\n\u001b[1;32m      3\u001b[0m \u001b[0;32mfor\u001b[0m \u001b[0mi\u001b[0m \u001b[0;32min\u001b[0m \u001b[0mtqdm\u001b[0m\u001b[0;34m(\u001b[0m\u001b[0mrange\u001b[0m\u001b[0;34m(\u001b[0m\u001b[0mlen\u001b[0m\u001b[0;34m(\u001b[0m\u001b[0mtestset\u001b[0m\u001b[0;34m)\u001b[0m\u001b[0;34m)\u001b[0m\u001b[0;34m)\u001b[0m\u001b[0;34m:\u001b[0m\u001b[0;34m\u001b[0m\u001b[0;34m\u001b[0m\u001b[0m\n\u001b[0;32m----> 4\u001b[0;31m     \u001b[0meval_data\u001b[0m\u001b[0;34m.\u001b[0m\u001b[0mappend\u001b[0m\u001b[0;34m(\u001b[0m\u001b[0mnp\u001b[0m\u001b[0;34m.\u001b[0m\u001b[0mconcatenate\u001b[0m\u001b[0;34m(\u001b[0m\u001b[0;34m[\u001b[0m\u001b[0;34m[\u001b[0m\u001b[0mgetBoughtProduct\u001b[0m\u001b[0;34m(\u001b[0m\u001b[0mi\u001b[0m\u001b[0;34m)\u001b[0m\u001b[0;34m]\u001b[0m\u001b[0;34m,\u001b[0m\u001b[0mgetNotBoughtProduct\u001b[0m\u001b[0;34m(\u001b[0m\u001b[0mi\u001b[0m\u001b[0;34m,\u001b[0m\u001b[0;36m99\u001b[0m\u001b[0;34m)\u001b[0m\u001b[0;34m]\u001b[0m\u001b[0;34m)\u001b[0m\u001b[0;34m)\u001b[0m\u001b[0;34m\u001b[0m\u001b[0;34m\u001b[0m\u001b[0m\n\u001b[0m",
      "\u001b[0;32m<ipython-input-127-1731c43a697b>\u001b[0m in \u001b[0;36mgetNotBoughtProduct\u001b[0;34m(in_user, n)\u001b[0m\n\u001b[1;32m      7\u001b[0m     \u001b[0;32mwhile\u001b[0m\u001b[0;34m(\u001b[0m\u001b[0mlen\u001b[0m\u001b[0;34m(\u001b[0m\u001b[0mnot_rated\u001b[0m\u001b[0;34m)\u001b[0m \u001b[0;34m<\u001b[0m \u001b[0mn\u001b[0m\u001b[0;34m)\u001b[0m\u001b[0;34m:\u001b[0m\u001b[0;34m\u001b[0m\u001b[0;34m\u001b[0m\u001b[0m\n\u001b[1;32m      8\u001b[0m         \u001b[0mx\u001b[0m \u001b[0;34m=\u001b[0m \u001b[0mnp\u001b[0m\u001b[0;34m.\u001b[0m\u001b[0mrandom\u001b[0m\u001b[0;34m.\u001b[0m\u001b[0mrandint\u001b[0m\u001b[0;34m(\u001b[0m\u001b[0mmaxid\u001b[0m\u001b[0;34m)\u001b[0m\u001b[0;34m\u001b[0m\u001b[0;34m\u001b[0m\u001b[0m\n\u001b[0;32m----> 9\u001b[0;31m         \u001b[0;32mif\u001b[0m \u001b[0;34m(\u001b[0m\u001b[0mx\u001b[0m \u001b[0;32mnot\u001b[0m \u001b[0;32min\u001b[0m \u001b[0mrated\u001b[0m\u001b[0;34m)\u001b[0m \u001b[0;32mand\u001b[0m \u001b[0;34m(\u001b[0m\u001b[0mx\u001b[0m \u001b[0;32mnot\u001b[0m \u001b[0;32min\u001b[0m \u001b[0mnp\u001b[0m\u001b[0;34m.\u001b[0m\u001b[0marray\u001b[0m\u001b[0;34m(\u001b[0m\u001b[0mtrainset\u001b[0m\u001b[0;34m[\u001b[0m\u001b[0mtrainset\u001b[0m\u001b[0;34m[\u001b[0m\u001b[0;34m'user_id'\u001b[0m\u001b[0;34m]\u001b[0m \u001b[0;34m==\u001b[0m \u001b[0mtestset\u001b[0m\u001b[0;34m.\u001b[0m\u001b[0miloc\u001b[0m\u001b[0;34m[\u001b[0m\u001b[0;36m0\u001b[0m\u001b[0;34m]\u001b[0m\u001b[0;34m[\u001b[0m\u001b[0;34m'user_id'\u001b[0m\u001b[0;34m]\u001b[0m\u001b[0;34m]\u001b[0m\u001b[0;34m[\u001b[0m\u001b[0;34m'product_id'\u001b[0m\u001b[0;34m]\u001b[0m\u001b[0;34m)\u001b[0m\u001b[0;34m.\u001b[0m\u001b[0mastype\u001b[0m\u001b[0;34m(\u001b[0m\u001b[0mint\u001b[0m\u001b[0;34m)\u001b[0m\u001b[0;34m)\u001b[0m\u001b[0;34m:\u001b[0m\u001b[0;34m\u001b[0m\u001b[0;34m\u001b[0m\u001b[0m\n\u001b[0m\u001b[1;32m     10\u001b[0m             \u001b[0mnot_rated\u001b[0m\u001b[0;34m.\u001b[0m\u001b[0mappend\u001b[0m\u001b[0;34m(\u001b[0m\u001b[0mx\u001b[0m\u001b[0;34m)\u001b[0m\u001b[0;34m\u001b[0m\u001b[0;34m\u001b[0m\u001b[0m\n\u001b[1;32m     11\u001b[0m \u001b[0;34m\u001b[0m\u001b[0m\n",
      "\u001b[0;32m/home/jeff/anaconda3/envs/work/lib/python3.6/site-packages/pandas/core/ops/common.py\u001b[0m in \u001b[0;36mnew_method\u001b[0;34m(self, other)\u001b[0m\n\u001b[1;32m     63\u001b[0m         \u001b[0mother\u001b[0m \u001b[0;34m=\u001b[0m \u001b[0mitem_from_zerodim\u001b[0m\u001b[0;34m(\u001b[0m\u001b[0mother\u001b[0m\u001b[0;34m)\u001b[0m\u001b[0;34m\u001b[0m\u001b[0;34m\u001b[0m\u001b[0m\n\u001b[1;32m     64\u001b[0m \u001b[0;34m\u001b[0m\u001b[0m\n\u001b[0;32m---> 65\u001b[0;31m         \u001b[0;32mreturn\u001b[0m \u001b[0mmethod\u001b[0m\u001b[0;34m(\u001b[0m\u001b[0mself\u001b[0m\u001b[0;34m,\u001b[0m \u001b[0mother\u001b[0m\u001b[0;34m)\u001b[0m\u001b[0;34m\u001b[0m\u001b[0;34m\u001b[0m\u001b[0m\n\u001b[0m\u001b[1;32m     66\u001b[0m \u001b[0;34m\u001b[0m\u001b[0m\n\u001b[1;32m     67\u001b[0m     \u001b[0;32mreturn\u001b[0m \u001b[0mnew_method\u001b[0m\u001b[0;34m\u001b[0m\u001b[0;34m\u001b[0m\u001b[0m\n",
      "\u001b[0;32m/home/jeff/anaconda3/envs/work/lib/python3.6/site-packages/pandas/core/ops/__init__.py\u001b[0m in \u001b[0;36mwrapper\u001b[0;34m(self, other)\u001b[0m\n\u001b[1;32m    368\u001b[0m         \u001b[0mrvalues\u001b[0m \u001b[0;34m=\u001b[0m \u001b[0mextract_array\u001b[0m\u001b[0;34m(\u001b[0m\u001b[0mother\u001b[0m\u001b[0;34m,\u001b[0m \u001b[0mextract_numpy\u001b[0m\u001b[0;34m=\u001b[0m\u001b[0;32mTrue\u001b[0m\u001b[0;34m)\u001b[0m\u001b[0;34m\u001b[0m\u001b[0;34m\u001b[0m\u001b[0m\n\u001b[1;32m    369\u001b[0m \u001b[0;34m\u001b[0m\u001b[0m\n\u001b[0;32m--> 370\u001b[0;31m         \u001b[0mres_values\u001b[0m \u001b[0;34m=\u001b[0m \u001b[0mcomparison_op\u001b[0m\u001b[0;34m(\u001b[0m\u001b[0mlvalues\u001b[0m\u001b[0;34m,\u001b[0m \u001b[0mrvalues\u001b[0m\u001b[0;34m,\u001b[0m \u001b[0mop\u001b[0m\u001b[0;34m)\u001b[0m\u001b[0;34m\u001b[0m\u001b[0;34m\u001b[0m\u001b[0m\n\u001b[0m\u001b[1;32m    371\u001b[0m \u001b[0;34m\u001b[0m\u001b[0m\n\u001b[1;32m    372\u001b[0m         \u001b[0;32mreturn\u001b[0m \u001b[0mself\u001b[0m\u001b[0;34m.\u001b[0m\u001b[0m_construct_result\u001b[0m\u001b[0;34m(\u001b[0m\u001b[0mres_values\u001b[0m\u001b[0;34m,\u001b[0m \u001b[0mname\u001b[0m\u001b[0;34m=\u001b[0m\u001b[0mres_name\u001b[0m\u001b[0;34m)\u001b[0m\u001b[0;34m\u001b[0m\u001b[0;34m\u001b[0m\u001b[0m\n",
      "\u001b[0;32m/home/jeff/anaconda3/envs/work/lib/python3.6/site-packages/pandas/core/ops/array_ops.py\u001b[0m in \u001b[0;36mcomparison_op\u001b[0;34m(left, right, op)\u001b[0m\n\u001b[1;32m    249\u001b[0m             \u001b[0mwarnings\u001b[0m\u001b[0;34m.\u001b[0m\u001b[0msimplefilter\u001b[0m\u001b[0;34m(\u001b[0m\u001b[0;34m\"ignore\"\u001b[0m\u001b[0;34m,\u001b[0m \u001b[0mDeprecationWarning\u001b[0m\u001b[0;34m)\u001b[0m\u001b[0;34m\u001b[0m\u001b[0;34m\u001b[0m\u001b[0m\n\u001b[1;32m    250\u001b[0m             \u001b[0;32mwith\u001b[0m \u001b[0mnp\u001b[0m\u001b[0;34m.\u001b[0m\u001b[0merrstate\u001b[0m\u001b[0;34m(\u001b[0m\u001b[0mall\u001b[0m\u001b[0;34m=\u001b[0m\u001b[0;34m\"ignore\"\u001b[0m\u001b[0;34m)\u001b[0m\u001b[0;34m:\u001b[0m\u001b[0;34m\u001b[0m\u001b[0;34m\u001b[0m\u001b[0m\n\u001b[0;32m--> 251\u001b[0;31m                 \u001b[0mres_values\u001b[0m \u001b[0;34m=\u001b[0m \u001b[0mna_arithmetic_op\u001b[0m\u001b[0;34m(\u001b[0m\u001b[0mlvalues\u001b[0m\u001b[0;34m,\u001b[0m \u001b[0mrvalues\u001b[0m\u001b[0;34m,\u001b[0m \u001b[0mop\u001b[0m\u001b[0;34m,\u001b[0m \u001b[0mis_cmp\u001b[0m\u001b[0;34m=\u001b[0m\u001b[0;32mTrue\u001b[0m\u001b[0;34m)\u001b[0m\u001b[0;34m\u001b[0m\u001b[0;34m\u001b[0m\u001b[0m\n\u001b[0m\u001b[1;32m    252\u001b[0m \u001b[0;34m\u001b[0m\u001b[0m\n\u001b[1;32m    253\u001b[0m     \u001b[0;32mreturn\u001b[0m \u001b[0mres_values\u001b[0m\u001b[0;34m\u001b[0m\u001b[0;34m\u001b[0m\u001b[0m\n",
      "\u001b[0;32m/home/jeff/anaconda3/envs/work/lib/python3.6/site-packages/pandas/core/ops/array_ops.py\u001b[0m in \u001b[0;36mna_arithmetic_op\u001b[0;34m(left, right, op, is_cmp)\u001b[0m\n\u001b[1;32m    141\u001b[0m \u001b[0;34m\u001b[0m\u001b[0m\n\u001b[1;32m    142\u001b[0m     \u001b[0;32mtry\u001b[0m\u001b[0;34m:\u001b[0m\u001b[0;34m\u001b[0m\u001b[0;34m\u001b[0m\u001b[0m\n\u001b[0;32m--> 143\u001b[0;31m         \u001b[0mresult\u001b[0m \u001b[0;34m=\u001b[0m \u001b[0mexpressions\u001b[0m\u001b[0;34m.\u001b[0m\u001b[0mevaluate\u001b[0m\u001b[0;34m(\u001b[0m\u001b[0mop\u001b[0m\u001b[0;34m,\u001b[0m \u001b[0mleft\u001b[0m\u001b[0;34m,\u001b[0m \u001b[0mright\u001b[0m\u001b[0;34m)\u001b[0m\u001b[0;34m\u001b[0m\u001b[0;34m\u001b[0m\u001b[0m\n\u001b[0m\u001b[1;32m    144\u001b[0m     \u001b[0;32mexcept\u001b[0m \u001b[0mTypeError\u001b[0m\u001b[0;34m:\u001b[0m\u001b[0;34m\u001b[0m\u001b[0;34m\u001b[0m\u001b[0m\n\u001b[1;32m    145\u001b[0m         \u001b[0;32mif\u001b[0m \u001b[0mis_cmp\u001b[0m\u001b[0;34m:\u001b[0m\u001b[0;34m\u001b[0m\u001b[0;34m\u001b[0m\u001b[0m\n",
      "\u001b[0;32m/home/jeff/anaconda3/envs/work/lib/python3.6/site-packages/pandas/core/computation/expressions.py\u001b[0m in \u001b[0;36mevaluate\u001b[0;34m(op, a, b, use_numexpr)\u001b[0m\n\u001b[1;32m    231\u001b[0m         \u001b[0muse_numexpr\u001b[0m \u001b[0;34m=\u001b[0m \u001b[0muse_numexpr\u001b[0m \u001b[0;32mand\u001b[0m \u001b[0m_bool_arith_check\u001b[0m\u001b[0;34m(\u001b[0m\u001b[0mop_str\u001b[0m\u001b[0;34m,\u001b[0m \u001b[0ma\u001b[0m\u001b[0;34m,\u001b[0m \u001b[0mb\u001b[0m\u001b[0;34m)\u001b[0m\u001b[0;34m\u001b[0m\u001b[0;34m\u001b[0m\u001b[0m\n\u001b[1;32m    232\u001b[0m         \u001b[0;32mif\u001b[0m \u001b[0muse_numexpr\u001b[0m\u001b[0;34m:\u001b[0m\u001b[0;34m\u001b[0m\u001b[0;34m\u001b[0m\u001b[0m\n\u001b[0;32m--> 233\u001b[0;31m             \u001b[0;32mreturn\u001b[0m \u001b[0m_evaluate\u001b[0m\u001b[0;34m(\u001b[0m\u001b[0mop\u001b[0m\u001b[0;34m,\u001b[0m \u001b[0mop_str\u001b[0m\u001b[0;34m,\u001b[0m \u001b[0ma\u001b[0m\u001b[0;34m,\u001b[0m \u001b[0mb\u001b[0m\u001b[0;34m)\u001b[0m  \u001b[0;31m# type: ignore\u001b[0m\u001b[0;34m\u001b[0m\u001b[0;34m\u001b[0m\u001b[0m\n\u001b[0m\u001b[1;32m    234\u001b[0m     \u001b[0;32mreturn\u001b[0m \u001b[0m_evaluate_standard\u001b[0m\u001b[0;34m(\u001b[0m\u001b[0mop\u001b[0m\u001b[0;34m,\u001b[0m \u001b[0mop_str\u001b[0m\u001b[0;34m,\u001b[0m \u001b[0ma\u001b[0m\u001b[0;34m,\u001b[0m \u001b[0mb\u001b[0m\u001b[0;34m)\u001b[0m\u001b[0;34m\u001b[0m\u001b[0;34m\u001b[0m\u001b[0m\n\u001b[1;32m    235\u001b[0m \u001b[0;34m\u001b[0m\u001b[0m\n",
      "\u001b[0;32m/home/jeff/anaconda3/envs/work/lib/python3.6/site-packages/pandas/core/computation/expressions.py\u001b[0m in \u001b[0;36m_evaluate_standard\u001b[0;34m(op, op_str, a, b)\u001b[0m\n\u001b[1;32m     66\u001b[0m         \u001b[0m_store_test_result\u001b[0m\u001b[0;34m(\u001b[0m\u001b[0;32mFalse\u001b[0m\u001b[0;34m)\u001b[0m\u001b[0;34m\u001b[0m\u001b[0;34m\u001b[0m\u001b[0m\n\u001b[1;32m     67\u001b[0m     \u001b[0;32mwith\u001b[0m \u001b[0mnp\u001b[0m\u001b[0;34m.\u001b[0m\u001b[0merrstate\u001b[0m\u001b[0;34m(\u001b[0m\u001b[0mall\u001b[0m\u001b[0;34m=\u001b[0m\u001b[0;34m\"ignore\"\u001b[0m\u001b[0;34m)\u001b[0m\u001b[0;34m:\u001b[0m\u001b[0;34m\u001b[0m\u001b[0;34m\u001b[0m\u001b[0m\n\u001b[0;32m---> 68\u001b[0;31m         \u001b[0;32mreturn\u001b[0m \u001b[0mop\u001b[0m\u001b[0;34m(\u001b[0m\u001b[0ma\u001b[0m\u001b[0;34m,\u001b[0m \u001b[0mb\u001b[0m\u001b[0;34m)\u001b[0m\u001b[0;34m\u001b[0m\u001b[0;34m\u001b[0m\u001b[0m\n\u001b[0m\u001b[1;32m     69\u001b[0m \u001b[0;34m\u001b[0m\u001b[0m\n\u001b[1;32m     70\u001b[0m \u001b[0;34m\u001b[0m\u001b[0m\n",
      "\u001b[0;31mKeyboardInterrupt\u001b[0m: "
     ]
    }
   ],
   "source": [
    "eval_data = []\n",
    "\n",
    "for i in tqdm(range(len(testset))):\n",
    "    eval_data.append(np.concatenate([[getBoughtProduct(i)],getNotBoughtProduct(i,99)]))"
   ]
  },
  {
   "cell_type": "code",
   "execution_count": 130,
   "metadata": {},
   "outputs": [],
   "source": [
    "eval_data = np.array(eval_data)"
   ]
  },
  {
   "cell_type": "code",
   "execution_count": 131,
   "metadata": {},
   "outputs": [
    {
     "data": {
      "text/plain": [
       "(37, 100)"
      ]
     },
     "execution_count": 131,
     "metadata": {},
     "output_type": "execute_result"
    }
   ],
   "source": [
    "eval_data.shape"
   ]
  },
  {
   "cell_type": "code",
   "execution_count": 132,
   "metadata": {},
   "outputs": [],
   "source": [
    "def batch_predict(idx):\n",
    "#     u = torch.tensor(np.ones(100, dtype=int) * int(testset.iloc[idx]['user_id'])).unsqueeze(0).cuda()\n",
    "    u = torch.tensor(np.array([testset.iloc[idx]['user_id']]).astype(int)).unsqueeze(0).cuda()\n",
    "    p = torch.tensor(eval_data[idx]).unsqueeze(0).cuda()\n",
    "\n",
    "#     print(u.shape, p.shape)\n",
    "\n",
    "    with torch.no_grad():\n",
    "        pr = model(u, p)\n",
    "\n",
    "#         print(pr.shape)\n",
    "    return pr.cpu().squeeze().numpy()\n"
   ]
  },
  {
   "cell_type": "code",
   "execution_count": 133,
   "metadata": {
    "scrolled": true
   },
   "outputs": [
    {
     "data": {
      "text/plain": [
       "array([ -0.6153192 , -12.080273  ,   1.8724751 ,   3.489346  ,\n",
       "         2.203017  ,   0.21421885,  17.79206   ,  -3.0196357 ,\n",
       "         2.025055  ,   4.0988107 ,   0.6496409 ,  -6.1599073 ,\n",
       "         0.3991114 ,   3.9705846 ,   1.6922129 ,   2.897554  ,\n",
       "        -1.8751551 ,  20.339054  ,   8.163025  ,   5.2982397 ,\n",
       "        -1.751646  ,  -3.9201198 ,   5.492793  ,   2.239483  ,\n",
       "        -1.1624345 ,   5.0396686 ,   5.2807126 ,   2.2318447 ,\n",
       "        -5.493971  ,  -0.63085824,   2.6206203 ,   1.2779226 ,\n",
       "         4.506474  ,  -1.7428782 ,   6.1334667 ,  -1.3533885 ,\n",
       "        -2.7622592 ,  -2.5223424 ,  -0.9214913 ,   3.2762756 ,\n",
       "         2.9632707 ,  -7.7606153 ,  -2.1730545 ,  -3.3743243 ,\n",
       "         5.3492374 ,   6.832577  ,  -0.92292714,  -2.92709   ,\n",
       "         6.157913  ,   2.8192828 ,  -0.39485884,  -5.712608  ,\n",
       "        -0.0882746 ,   4.7047253 ,   2.4073434 ,   1.8486947 ,\n",
       "         1.3755878 ,   3.8346512 ,  -1.8604146 ,   0.96433634,\n",
       "        24.49153   ,   0.29418603,  -0.30914783,  -1.6909605 ,\n",
       "        -0.45708668,  -3.6092768 ,   1.2342196 ,   0.4619589 ,\n",
       "        -3.31547   ,   1.6314667 ,   0.42893165,   3.239264  ,\n",
       "        10.214141  ,  -0.57511306,   6.4984097 ,   2.737851  ,\n",
       "        -1.8566859 ,  -2.4138622 ,  -2.1327665 ,  -2.2078056 ,\n",
       "        -2.8602371 ,   2.7780476 ,  12.785604  ,   1.8595011 ,\n",
       "        -1.0871853 ,   0.66492504,  -3.2081728 ,  -3.4820755 ,\n",
       "        -3.2487624 ,  10.845811  ,  -3.8868403 ,   3.724328  ,\n",
       "         0.37785077,  -0.12327525,  -7.0766916 ,   1.8137277 ,\n",
       "         1.6158966 ,  -8.001258  ,  -2.4837308 ,  -0.89917374],\n",
       "      dtype=float32)"
      ]
     },
     "execution_count": 133,
     "metadata": {},
     "output_type": "execute_result"
    }
   ],
   "source": [
    "batch_predict(0)"
   ]
  },
  {
   "cell_type": "code",
   "execution_count": 134,
   "metadata": {},
   "outputs": [
    {
     "name": "stderr",
     "output_type": "stream",
     "text": [
      "100%|██████████| 37/37 [00:00<00:00, 2268.12it/s]\n"
     ]
    }
   ],
   "source": [
    "top_1_hit = 0\n",
    "top_5_hit = 0\n",
    "\n",
    "# for each user\n",
    "for user in tqdm(range(len(eval_data))):\n",
    "    # predict eval_data\n",
    "    eval_result = list(batch_predict(user))\n",
    "\n",
    "    eval_result.sort(reverse=True)\n",
    "\n",
    "    #top 1 hit\n",
    "    if(eval_data[user][0] == eval_result[0] ):\n",
    "        top_1_hit += 1\n",
    "\n",
    "    top_5_rate = [i for i in eval_result[:5]]\n",
    "    #top 5 hit\n",
    "    if(eval_data[user][0] in top_5_rate ):\n",
    "        top_5_hit += 1\n",
    "\n",
    "    #print('user {} {}'.format(user,top_1_hit))\n",
    "    #print('user {} {}'.format(user,top_5_hit))\n",
    "    #print(eval_result)\n",
    "#     print('{}/{}'.format(user+1,len(eval_data)))"
   ]
  },
  {
   "cell_type": "code",
   "execution_count": 135,
   "metadata": {},
   "outputs": [
    {
     "name": "stdout",
     "output_type": "stream",
     "text": [
      "top 1 hit rate : 0.0\n",
      "top 5 hit rate : 0.0\n"
     ]
    }
   ],
   "source": [
    "#top n hit rate\n",
    "print('top 1 hit rate : {}'.format(top_1_hit/len(eval_data)) )\n",
    "print('top 5 hit rate : {}'.format(top_5_hit/len(eval_data)) )"
   ]
  },
  {
   "cell_type": "markdown",
   "metadata": {},
   "source": [
    "## now we make predict for Kaggle"
   ]
  },
  {
   "cell_type": "code",
   "execution_count": 9,
   "metadata": {},
   "outputs": [],
   "source": [
    "kaggle_testdf = pd.read_csv('../test.csv')"
   ]
  },
  {
   "cell_type": "code",
   "execution_count": 10,
   "metadata": {},
   "outputs": [
    {
     "data": {
      "text/html": [
       "<div>\n",
       "<style scoped>\n",
       "    .dataframe tbody tr th:only-of-type {\n",
       "        vertical-align: middle;\n",
       "    }\n",
       "\n",
       "    .dataframe tbody tr th {\n",
       "        vertical-align: top;\n",
       "    }\n",
       "\n",
       "    .dataframe thead th {\n",
       "        text-align: right;\n",
       "    }\n",
       "</style>\n",
       "<table border=\"1\" class=\"dataframe\">\n",
       "  <thead>\n",
       "    <tr style=\"text-align: right;\">\n",
       "      <th></th>\n",
       "      <th>Unnamed: 0</th>\n",
       "      <th>order_id</th>\n",
       "      <th>user_id</th>\n",
       "      <th>u_avg_bought_p_per_order</th>\n",
       "    </tr>\n",
       "  </thead>\n",
       "  <tbody>\n",
       "    <tr>\n",
       "      <th>0</th>\n",
       "      <td>0</td>\n",
       "      <td>2774568</td>\n",
       "      <td>3</td>\n",
       "      <td>7.333333</td>\n",
       "    </tr>\n",
       "    <tr>\n",
       "      <th>1</th>\n",
       "      <td>1</td>\n",
       "      <td>329954</td>\n",
       "      <td>4</td>\n",
       "      <td>3.600000</td>\n",
       "    </tr>\n",
       "    <tr>\n",
       "      <th>2</th>\n",
       "      <td>2</td>\n",
       "      <td>1528013</td>\n",
       "      <td>6</td>\n",
       "      <td>4.666667</td>\n",
       "    </tr>\n",
       "    <tr>\n",
       "      <th>3</th>\n",
       "      <td>3</td>\n",
       "      <td>1376945</td>\n",
       "      <td>11</td>\n",
       "      <td>13.428571</td>\n",
       "    </tr>\n",
       "    <tr>\n",
       "      <th>4</th>\n",
       "      <td>4</td>\n",
       "      <td>1356845</td>\n",
       "      <td>12</td>\n",
       "      <td>14.800000</td>\n",
       "    </tr>\n",
       "  </tbody>\n",
       "</table>\n",
       "</div>"
      ],
      "text/plain": [
       "   Unnamed: 0  order_id  user_id  u_avg_bought_p_per_order\n",
       "0           0   2774568        3                  7.333333\n",
       "1           1    329954        4                  3.600000\n",
       "2           2   1528013        6                  4.666667\n",
       "3           3   1376945       11                 13.428571\n",
       "4           4   1356845       12                 14.800000"
      ]
     },
     "execution_count": 10,
     "metadata": {},
     "output_type": "execute_result"
    }
   ],
   "source": [
    "kaggle_testdf.head()"
   ]
  },
  {
   "cell_type": "code",
   "execution_count": 11,
   "metadata": {},
   "outputs": [
    {
     "data": {
      "text/plain": [
       "75000"
      ]
     },
     "execution_count": 11,
     "metadata": {},
     "output_type": "execute_result"
    }
   ],
   "source": [
    "len(kaggle_testdf)"
   ]
  },
  {
   "cell_type": "code",
   "execution_count": 48,
   "metadata": {},
   "outputs": [
    {
     "data": {
      "text/plain": [
       "18"
      ]
     },
     "execution_count": 48,
     "metadata": {},
     "output_type": "execute_result"
    }
   ],
   "source": [
    "# write to file\n",
    "f = open('predict.txt', 'w')\n",
    "\n",
    "f.write('order_id,products\\n')"
   ]
  },
  {
   "cell_type": "code",
   "execution_count": 49,
   "metadata": {},
   "outputs": [
    {
     "name": "stderr",
     "output_type": "stream",
     "text": [
      "100%|██████████| 75000/75000 [1:30:52<00:00, 13.76it/s]\n"
     ]
    }
   ],
   "source": [
    "for row in tqdm(range(len(kaggle_testdf))):\n",
    "# use to store user scores\n",
    "    product_scores = {}\n",
    "\n",
    "    #========================================================================\n",
    "    # make data\n",
    "\n",
    "    # predict how many items for this user\n",
    "    b_p_o = np.round(kaggle_testdf.iloc[row]['u_avg_bought_p_per_order'])\n",
    "\n",
    "    # user to predict\n",
    "    u_stack = []\n",
    "    u = int(kaggle_testdf.iloc[row]['user_id'])\n",
    "    # stack user to (N_PRODUCT, 1)\n",
    "    for _p in range(1, N_PRODUCT+1):\n",
    "        u_stack.append(u)\n",
    "    u = torch.tensor(np.expand_dims(u_stack, -1))\n",
    "\n",
    "    # product\n",
    "    # stack product to (N_PRODUCT, 1)\n",
    "    p_stack = []\n",
    "    for _p in range(1, N_PRODUCT+1):\n",
    "        p_stack.append(int(_p)) \n",
    "    p = torch.tensor(np.expand_dims(p_stack, -1))\n",
    "\n",
    "    # check if gpu avaliable\n",
    "    if torch.cuda.is_available():\n",
    "        p = p.to('cuda')\n",
    "        u = u.to('cuda')\n",
    "\n",
    "    #==================================================================   \n",
    "    # forward\n",
    "    with torch.no_grad():\n",
    "        pr = model(u, p)\n",
    "\n",
    "\n",
    "    #=====================================================================\n",
    "    # store predicted value to dict\n",
    "    for _p, uxp_score in enumerate(pr.cpu().numpy().squeeze()):\n",
    "        product_scores[_p + 1] = uxp_score\n",
    "\n",
    "    # sort by scores\n",
    "    product_scores = {k : v for k, v in sorted(product_scores.items(), key=lambda  item: item[1], reverse=True)}\n",
    "\n",
    "    # get top k\n",
    "    top_k = list(product_scores.keys())[:int(b_p_o)]\n",
    "\n",
    "    #=========================================================================\n",
    "    # print output\n",
    "    f.write('{},'.format(int(kaggle_testdf.iloc[row]['user_id'])))\n",
    "\n",
    "    first = True\n",
    "    for k in top_k:\n",
    "        # formating reason\n",
    "        if first:\n",
    "            first = False\n",
    "        else:\n",
    "            f.write(' ')\n",
    "\n",
    "        f.write(str(k))\n",
    "\n",
    "    f.write('\\n')\n",
    "    \n",
    "# close file\n",
    "f.close()"
   ]
  },
  {
   "cell_type": "markdown",
   "metadata": {},
   "source": [
    "fix output"
   ]
  },
  {
   "cell_type": "code",
   "execution_count": 12,
   "metadata": {},
   "outputs": [],
   "source": [
    "submit = {}"
   ]
  },
  {
   "cell_type": "code",
   "execution_count": 13,
   "metadata": {},
   "outputs": [],
   "source": [
    "from tqdm import tqdm"
   ]
  },
  {
   "cell_type": "code",
   "execution_count": 14,
   "metadata": {},
   "outputs": [
    {
     "name": "stderr",
     "output_type": "stream",
     "text": [
      "75000it [00:08, 8508.81it/s]\n"
     ]
    }
   ],
   "source": [
    "f = open('predict.txt')\n",
    "\n",
    "outputs = f.readlines()\n",
    "\n",
    "for idx, j in tqdm(enumerate(outputs[1:])):\n",
    "    submit[int(kaggle_testdf.iloc[idx]['order_id'])] = j.split(',')[-1]"
   ]
  },
  {
   "cell_type": "code",
   "execution_count": 18,
   "metadata": {},
   "outputs": [
    {
     "data": {
      "text/plain": [
       "{17: '4082 48567 49656 18623 570 45833 49304\\n',\n",
       " 34: '4082 570 49656 26963 24158 15877 40263 11802\\n',\n",
       " 137: '7032 17380 38592 19699 3833 19269 16161 3026 45705 25700 45397 43401\\n',\n",
       " 182: '25282 7032 49562 1413 36237 20300 4257 44062 16391 30932 27097\\n',\n",
       " 257: '48760 10593 7216 20472 43217 28608 49571 33963 33821 35890 8328 38931 6147\\n',\n",
       " 313: '21151 32481 21458 22668 49062 34962 4082\\n',\n",
       " 353: '49656 39665 47949 17496 39992\\n',\n",
       " 386: '37533 47949 43051 39992 570 5273 11788 24158 33278 33263 15642 13084 3542 34961 20002 19216 27350 32126 26992 24189 38084\\n',\n",
       " 414: '570 49656 37533 24158 14128 27097 7032 29253 49550 18506\\n',\n",
       " 418: '49656 8389 15877 44748 26963 4082 39946 49463 570 12588\\n',\n",
       " 437: '49656 15901 49571 7797 7216 41269 20472 28166 37308 22777 41604 44006\\n',\n",
       " 452: '49656 9994 35890 26963 32176 44748 31203 15877 45397 25383 7032 18623 48279 2857 19269 45833 4082 22773 6028 570 14128 5830 36439 24106\\n',\n",
       " 474: '49472 11099 49255 23442 5093 18771\\n',\n",
       " 492: '33963 37533 492 15642 22940 12051 8388 20692 32176 42649 40471 26198 4360 26622 25145 25214 49150 34081 4082 31512 9342 39810\\n',\n",
       " 497: '49571 37967 37308 28809 49656 44001\\n',\n",
       " 513: '36657 49669 37628 34097\\n',\n",
       " 517: '32176 44646 4426 37154 29713 49388 5093 3833 16777\\n',\n",
       " 604: '49656 47949 25079 13387 9802\\n',\n",
       " 680: '14020 41724 48391 4082 26963\\n',\n",
       " 758: '19269\\n',\n",
       " 759: '7654 48391 13432 41724 48774 26963 44748 6445 15203 11126 44823 9994 45942 49244 45602 3833 24106 12588 37967 10698 45833 14020 11099 27256 18031 32176 4864 1363 24820 35890\\n',\n",
       " 887: '49656 26963 15901 39952 18623 6062 45833 28166 10806\\n',\n",
       " 1161: '49656 40471 7216 39946 23335 41604 11802 47407 3410\\n',\n",
       " 1195: '24873 19216 37533 40447 1413 3140\\n',\n",
       " 1304: '49656 6062 570 26963 15877 40263 47837 39946 25719 15901 44748 24247 49582 41850 43388 27109 3552\\n',\n",
       " 1408: '3421 28477 16161 40274 44409 25700 24510 11216 19699 18178\\n',\n",
       " 1513: '4082 44748 39946 49656 24158 42649 7732 12588 40263 20692\\n',\n",
       " 1564: '34081 15642\\n',\n",
       " 1727: '44748 14128 19269 570 29809 37967\\n',\n",
       " 1789: '40510 39655 17380 31718\\n',\n",
       " 1802: '49304 36657 49669 37793 21151 4082 3335 39241 9818 5008 49541 29522 27127 3734 38023 34097 49407 16708 30891 10584 21458 12350 20438 31094 31971 40471\\n',\n",
       " 1809: '9917 12337 10184 4864\\n',\n",
       " 1810: '3140 10304 35463 29290\\n',\n",
       " 1867: '8215 37308 34440 36502 11299 44823 19225 36657 49581 31346 40447\\n',\n",
       " 1932: '17380 4547 15877 39798 25617\\n',\n",
       " 1962: '49656 15901\\n',\n",
       " 2034: '49656 4082 21151 26963 42159 18623 27031 47644 42649 47407 9994\\n',\n",
       " 2070: '49569 49656 27127 27641 49297 2500 33585 3113 965 14128\\n',\n",
       " 2102: '33963 2066 8215\\n',\n",
       " 2184: '4082 42649 21151 18623 47811 49656 40471 28166 47644 48567 6028 45833\\n',\n",
       " 2247: '49656 20002 4901 19216 22874 34785 7752 21957 49582 37789 46589 24624 15456 40170 26116\\n',\n",
       " 2267: '49656 10828\\n',\n",
       " 2297: '49656 25076\\n',\n",
       " 2345: '49656 570 48774 26963 27666 15877 6062 40263 47909 42983 24290 9342 492 9727 39952 12407 29563 47837 49432 32176\\n',\n",
       " 2421: '49656 27127 14128 473 570 19216 43098 39904 3113 3383 11788 49569 36700 7752 15901\\n',\n",
       " 2481: '49656 7216 49022 35890 42156 44001 7032 44006 6028 27641 45397 14128 31811\\n',\n",
       " 2671: '34961 2066 49150 76 473 1002 24158 28639 32351 43315 34500 47132 8579 42328 38045 8378 3610 39842 24182 49394 7732 11056 36502 2623 36925\\n',\n",
       " 2721: '29290 37967 2406 48391 473 15932 3833 37981 2066 48934 34143 49656 17473\\n',\n",
       " 2806: '19159 12112 1101 47909 25700 42159 32176 13491 7110 26169 37023 4509\\n',\n",
       " 2887: '2066 44986 35463 38045 24592 49150 34081 42328 49669 23041 30891\\n',\n",
       " 2990: '41724 2406 36657 42793 8938 13222 33447\\n',\n",
       " 3013: '32176 14128 37967 12724 2066 7032 42554 23442 29809 44062\\n',\n",
       " 3188: '26936 570 26117 15877\\n',\n",
       " 3221: '25790 49656 4650 21693 5348 5255 30168 18062 8346 15147 15877 49467 538 43753 4563\\n',\n",
       " 3223: '44748 32176 22919 35890 37967 570 14128 19269 7654 12588 39842 18771 46544 49255 44823 6445\\n',\n",
       " 3265: '4082 32176 26963 570\\n',\n",
       " 3344: '48774 27666 24290 10304 19216 30392 28291 492 23442 35463 6062 15639 7184 39952 18753 9342 49136 26936 26963 9917 11802\\n',\n",
       " 3373: '49406 2145 40095 46447\\n',\n",
       " 3384: '36191 4563 15877 40434 8346 26067 23530\\n',\n",
       " 3408: '37533 49656 18623 4082 14128 492 6028 29583 48567 42649 24158 570 6062 11713 2066\\n',\n",
       " 3507: '23335 36657 10828 15639\\n',\n",
       " 3519: '34961 39992 49571\\n',\n",
       " 3587: '570 37023 12112 42206 32176 29280 40263 492 4908 9961 11630 49656 31331 22940 494\\n',\n",
       " 3702: '40729 47909 15730 32176 45145 49562 48774 1064 30969 41626 34572 36754\\n',\n",
       " 3724: '44823 8353 49656 48391\\n',\n",
       " 3732: '49656 10593 33821 16923 49582 22874 4901 26116\\n',\n",
       " 3839: '4082 41724 48774 2066 36497 30915 8353 32481 48391\\n',\n",
       " 3866: '49656 44006 7216 37533 6028 21693 30168 18623 17496 27641 18062\\n',\n",
       " 3867: '26936 1805 19216 30392 39992\\n',\n",
       " 3870: '15901 41269\\n',\n",
       " 3962: '19576 20403 39666 17455 27927 14327 36408\\n',\n",
       " 3981: '49656 39946 28608 8389 40471 15877\\n',\n",
       " 4002: '37533 48063 44884 36916 21048 33263\\n',\n",
       " 4055: '30466 29148 18506 48567 36237 4420\\n',\n",
       " 4065: '49656 27127 49569 49297 3113 34273 37587 15877 11788 39992 8389 43098 44748 570 3383\\n',\n",
       " 4133: '570 48567 45833 35890 24158 44748 42649 4082 9994\\n',\n",
       " 4144: '13432 23041 27127 49304 10728 26936 47420 6116 1413 49136 7184 13183 32481 6761 4082 45833 23883\\n',\n",
       " 4353: '8353 37981 44823 29290 34143 12773 41724 48934 48391 15932 42410 37967 9731 12337 15865 1133 2066 34440 19746 16448 11099 17127\\n',\n",
       " 4372: '29290 48934 4426 3833 7956 35952 16777 25496 3018 19746 35757 37967\\n',\n",
       " 4396: '17297 16287 8682 27718 8124 2036 38711 20184 47997 11184 12823 13863\\n',\n",
       " 4458: '37967 44823 48934 36087 11126 8533 3833 16777 7654 43855 16809 49643 29290 40328\\n',\n",
       " 4462: '49304 4650 48567 15147 15877 44335 11573 538 5348 556 25790\\n',\n",
       " 4551: '19717 2887 13006 9305 44409 49472 4420 44062 25700 28477 39175\\n',\n",
       " 4579: '5273 15642 47949 37628 43051 37533 35130\\n',\n",
       " 4602: '46110 7732 31246 49243 41905 38484 12929 37023 49142 48343\\n',\n",
       " 4655: '30739 76 570 47964 14264 14128 44001 49656 43217 44006 17455 49571 49423\\n',\n",
       " 4686: '37533 15642 570 49550 492 47909 33853 8054 26067 20300 18082 15710 39952 44409 43250 8822 45833\\n',\n",
       " 4848: '40510 7184 473 49669 19746 20657\\n',\n",
       " 4917: '45705 42050 2887 7935 7596 23971 25282 6963 25054 44179 33794\\n',\n",
       " 5007: '11802 7732 4082\\n',\n",
       " 5011: '32176 4082 7712 45833 27619 47420 6445 13432\\n',\n",
       " 5041: '49656 570 76 44748 14128 48567 24158 6062 25383 19269 42212 18623\\n',\n",
       " 5058: '47997 49656 34211 38023\\n',\n",
       " 5082: '48522 570 47987 49656 7732 32228 39992 46216 24158\\n',\n",
       " 5095: '19269 49656 44006 18493 38493 49022 34436 39207\\n',\n",
       " 5109: '22516 26936 18003 26117 49545 44108\\n',\n",
       " 5128: '15901 32649 13387 25516 7486 31369 14681\\n',\n",
       " 5166: '11099 44823 15865 41724 2483 8328 37967 8353 29201\\n',\n",
       " 5216: '49656 26963 49432 31084 48774 26169 47407 4082\\n',\n",
       " 5349: '49656 39946 28608 76 40471 2791 5988 49255 7732 17496 44748 24652 39665 34331 34211 40170 40263\\n',\n",
       " 5366: '33963 2445 22940 40471 20258\\n',\n",
       " 5400: '570 49656\\n',\n",
       " 5415: '44823 8353 8215 2066 29290 36502 34440\\n',\n",
       " 5525: '49656 15456 37533 33853 9052\\n',\n",
       " 5918: '8353 2066 11056 473 42410 29290 37981 41905 30891 43572 49423 49581 40170 7732 35952\\n',\n",
       " 5921: '8353 10903 44646 47997 1996 16811 42640 49304\\n',\n",
       " 5989: '34961 39665 5988 26992 9977 23442 11299 39992 1484 36657 24158 45479 76 17496 38589 36958\\n',\n",
       " 6067: '49656 29290 44748 40263 570 7732 12337 49423 2791 34241 28639 965 49463 43388 32147 9727 473 12588 24247 47964\\n',\n",
       " 6073: '49656 41269 17496 21693 34331\\n',\n",
       " 6100: '37967 14128 76 12724\\n',\n",
       " 6104: '4082 49669 40471 11802 34211 49656\\n',\n",
       " 6138: '2483 4082 30891 38213 21151 47644 42649 2737 29201 46600\\n',\n",
       " 6222: '14128 16626 37967 31811 40037 35574 8595 14264\\n',\n",
       " 6275: '49656 21151 4650 40471 47407 5348 16287 47811 23335 28166 27031 7541\\n',\n",
       " 6313: '33963 37789 9305 11751 10593 27779 37533 30308 41269 12051 21913 44228 19717\\n',\n",
       " 6346: '49656 29290 13387 4901 8124 1133 34143 48934 13222 48774 965 24247 20085 43388 38711\\n',\n",
       " 6482: '37023 7732 49656 29563 49243\\n',\n",
       " 6490: '49656 4901 40170 473 9802 25079 39946\\n',\n",
       " 6506: '7216 38931 20472 6028 49571 44001\\n',\n",
       " 6530: '21151 23335 21458\\n',\n",
       " 6533: '49656 7216 34331 28608 33821 20472\\n',\n",
       " 6535: '37533 49656 7797 41269 37789 44140 7216 33963 13084 21693 15901 43498 16934 21048 19399 18062\\n',\n",
       " 6645: '37308 4417 36657 1805 44884 32126 3355 39992 6761 43051\\n',\n",
       " 6718: '32176 39842 7712 22919 37154 49388 29809 44748 37967 9961\\n',\n",
       " 6751: '46238 17297 48312 47635 49246 45705 6963 44495 45993\\n',\n",
       " 6763: '570 15642 31512 24158 27350 43816 492 9917 29680 3426 42279 35325 32298 7550 8388 37969 31057 29420 27666 1413 3140 14950\\n',\n",
       " 6932: '17380 23141 19699 12826 32252\\n',\n",
       " 6967: '41253 39244 4509 49669 19159 32482 44959 39304 26039 37628 43061 1101 3684\\n',\n",
       " 7000: '32176 27619 4082 42159\\n',\n",
       " 7074: '7732 12588 49656 4082 39946 47080 31203 11802 35757 44748 6028 28608 384 8353 15502\\n',\n",
       " 7125: '49656 33821 7216 9017 47909 25076 26963\\n',\n",
       " 7187: '44718\\n',\n",
       " 7213: '8353 473 44823 6045 44006 11056\\n',\n",
       " 7298: '49656 39952 37533 27779 47949 6062 47909 15901 15639 492 49432 19216\\n',\n",
       " 7370: '37533 15642 19216 24873 20002 36143 570 5273\\n',\n",
       " 7373: '10593 33963 11099 27779 20472 20759 21913 10184 2687 3386 7216 41269\\n',\n",
       " 7387: '2445 33963 49150 22940 7732 29595 28608 10593 11044 26622\\n',\n",
       " 7508: '37967 14128 7654 31811 11126 3833 44001 7032 25282 30932 24875 36087 25383 29809 44748 42276 35890\\n',\n",
       " 7594: '48774 13432 29290 22668 4082 34403 26936 24108\\n',\n",
       " 7617: '40447 7184 35463 29290 27446 19746 10304 20657 24087 49243 19216 48774 37628 12929 49669 11544 7956 41253\\n',\n",
       " 7669: '27127 4626 26936 33585 40231 26117 10806 3113 49297\\n',\n",
       " 7671: '40471 5988 20692 4082 11802 8353 36657 25482\\n',\n",
       " 7683: '34761 22709 8019 37628 46068\\n',\n",
       " 7736: '21151 49229 8938 48774 32481\\n',\n",
       " 7788: '49656 11802 15639\\n',\n",
       " 7837: '49656 7216 15877 34331 570 49022 6028 48063 27641 38211 27109 29253 18623 41014 49463 24505 16266 2857 44006 47407 30168\\n',\n",
       " 7868: '44986 42983 4082 37628 26936 9342\\n',\n",
       " 7908: '49656 570 44748 39952 26963\\n',\n",
       " 7909: '49656 34143 1133 15932 49463\\n',\n",
       " 7982: '7032 14128 49550 27927 42922 34641 38592 39952 9052 3833 33721 12724 47399 45145 36408 49562 6717 17380 30739 35446\\n',\n",
       " 8030: '32176 42649 24158 35890\\n',\n",
       " 8038: '44823 9917 11099 8215 49388\\n',\n",
       " 8041: '29290 8353 16448 44823 28878 6045 37981 36657 12773 41724 48934 13432 473 19746 48391\\n',\n",
       " 8111: '29290 40447 19746 48774 12337 10304 43649 45145 38977 46154\\n',\n",
       " 8156: '48774 49432 49656 26936 26963 10806 31084 34241 19216 11711 24247\\n',\n",
       " 8164: '19269 49656 76 15877\\n',\n",
       " 8185: '76 23442 33963 37789 49255 37533 2066 49656 473 34081 5273 49150 6062 492 6546 10203 7797 44513 24445 34961\\n',\n",
       " 8188: '4082 38023 15877 27619 40471 12112 34211 39946 10903 26963 26169 11802 49656 1996\\n',\n",
       " 8240: '49656 37789 6062 3552 41269 41850\\n',\n",
       " 8282: '27127 570 15877 49297 2500 43098 49656 24158 11788 3113 49569 28809 9727 43051 27109 16543 49304 3383 33585 26507 6116\\n',\n",
       " 8284: '23442 37967 28809 2145 14128 7032 12724 18506 15901 8215 7797 37308 35513 36958 15494 3823 11299 36237 21913 42922 49472 4257 44062 26992 25174 49562 16626 1805 4626 16543\\n',\n",
       " 8326: '26963 4082 25383 18031 42212 10698 2406 27127\\n',\n",
       " 8363: '49136 48774 30392 35325 26936 10304 3140 570 27666 1805 43098 9342 24290\\n',\n",
       " 8418: '49656 4650 29201 48567 21693 18623 7216\\n',\n",
       " 8450: '4082 32176 44748 7732 35890 42649 31203 26963\\n',\n",
       " 8458: '37533 33963 19216 15642 492\\n',\n",
       " 8514: '38493 17455 20403 28477 31811 40274 19576 9767 48760 40197 35598\\n',\n",
       " 8608: '13705 41253 4509 39244 1101 3018 41128 19159 7110 43061 17297 8682 44959 5849 38711 13863 26039 9241 40137 40444 39304\\n',\n",
       " 8795: '19216 40095 7752 21957 32252 46589\\n',\n",
       " 8865: '7184 35463\\n',\n",
       " 8876: '45833 4082 48567 39842 42649 24158 2623 44748 22919 32176 570 35890 6116 18623 29809 49304 49586 14128 6761 47420 30932 36237 42212 7712 46600 11960 27127 6445 7742 43816 25911\\n',\n",
       " 8887: '570 14128 37533 24505 14264 30739 7032 9052\\n',\n",
       " 8989: '14128 76 44748 34961 29809 49571 35890 16626 24158 4863 6028\\n',\n",
       " 9071: '49656 44748 6028 35890 42649 7216 570 12588 4082 39946 29253 26963 34331 24158 14902 40263\\n',\n",
       " 9175: '49656 26808 49463 44748 44001 570 36408 33821 3428 7216 18493\\n',\n",
       " 9190: '5273 4650 4563\\n',\n",
       " 9272: '34961 49571 44823 8215\\n',\n",
       " 9300: '17380 25700 39674 19699 19159 27512 22874 32721\\n',\n",
       " 9318: '9305 18753\\n',\n",
       " 9356: '49656 39952 27779 492 6062 41269 37533 33963 49582 7216 10593\\n',\n",
       " 9391: '35890 7712 44748 32176\\n',\n",
       " 9427: '32176 49388 42159 13006 16811 46430 25700 12051 16161 22940 29201\\n',\n",
       " 9446: '37628 48342 3909 5255 16858 17380 27674 946 12067\\n',\n",
       " 9503: '48774 27666 26963 24290 49432 35325 49656 15639 26936 9917 4082 11802 2736\\n',\n",
       " 9526: '4650 21693 24839 49656 5348 37793 15147 25790\\n',\n",
       " 9564: '44673 48849 19576 40274 20403 2013 33542 3018 11243 39666 48934 40651 38851 22226\\n',\n",
       " 9824: '39665 24381 8389 36657 14527 34273 27648 49297\\n',\n",
       " 10061: '44718 30917 41142 34961\\n',\n",
       " 10126: '32176 35890\\n',\n",
       " 10176: '7216 6028 48063 20412 38931 14264 37533\\n',\n",
       " 10338: '17455 4864 44108 35574 34042 44982 10139\\n',\n",
       " 10462: '20002 37789 49656 24624 41269 7486 8019 17496 8090 15002 41604 37670 40170\\n',\n",
       " 10464: '15877 29563\\n',\n",
       " 10537: '19159 4908 16691 40137 20002 33821 29559 49243\\n',\n",
       " 10583: '41905 7732 49423 38484\\n',\n",
       " 10600: '13432 29290 23883 29940 6133 33447\\n',\n",
       " 10620: '26936 26117 12841 15877 18003 34463 36754 49297 36682 29563 570 30917 39914 27015 33585 22555 2246 22516\\n',\n",
       " 10772: '41269 15901 2145 49656 47949\\n',\n",
       " 10840: '2066 29290 34440 19216 39904 44986 473 27127 40037 41016 15104\\n',\n",
       " 10849: '26936 36754 29563 27666 45145\\n',\n",
       " 10955: '37784 42376 22555 20759 25282 37308 5893 40843 28317 38857 15901\\n',\n",
       " 11026: '570 24158 15642 26936 43098 11702 27666 9342 9727 7889 27350 11960\\n',\n",
       " 11044: '37670 20759 18273 10184 38977\\n',\n",
       " 11145: '32176 25700 76 30739 14128 49582 7032 492\\n',\n",
       " 11224: '8389 8636 49541 10584 39946 2483 49463 20438 9818 41142 2857 49656 49569 12588 25482 32558 30917 12696 14527\\n',\n",
       " 11326: '26936 29563 15877 36754 570 27666 36682 2736 49432 41014 26963 47742\\n',\n",
       " 11408: '48774 11802 49432 22668 35325 15639 4082 26936 49243 26963 24290 47909 45384 25079 2736 384\\n',\n",
       " 11518: '49569 49656 473 34961 41016 37587 39798\\n',\n",
       " 11549: '49669 20002 37023 29152 39798 4604 40170 4563 10428 27672 37628\\n',\n",
       " 11556: '29563\\n',\n",
       " 11606: '49656 570 40263 44748 26963 6028 49432\\n',\n",
       " 11623: '49656 15901 34143 1133 26808 41269 46447 34100 8124 18493\\n',\n",
       " 11659: '48567 32176 76 49255 17175 492 35890 42212\\n',\n",
       " 11664: '49656 5348 37533 33853 7032 27301 15456\\n',\n",
       " 11697: '27127 44986 42212\\n',\n",
       " 11749: '49656 44006 27641 44001 10536 20264 7216 30739 18493 49022 42376 42156 5893 1355 19983\\n',\n",
       " 11849: '48774 7184 32176 47909 13183\\n',\n",
       " 11888: '570 15877 7889 24158 37533 49465\\n',\n",
       " 11943: '49656 7216 26963 6028 31203 39946 44748 18623 36439\\n',\n",
       " 11974: '29290 2066 41016 27127 49116 49569 38045 473 40037 39904 11056\\n',\n",
       " 11987: '49656 15901 9052 37533 19216\\n',\n",
       " 11992: '8019 23335 49656 24839 13930 25790 8389 21693\\n',\n",
       " 11994: '49656 24839 11802 25079 4901 4082 41850\\n',\n",
       " 12054: '20002 11751 27446 33963 19216 37789 42464\\n',\n",
       " 12184: '27127 24158 34961 42328 39992 43098 28639 49304 39842 11788 44986 23442 41211 473 13714 570 36657 29290 1805 45479 1002 49136 39665 38045 4082\\n',\n",
       " 12187: '21693 4650 2406 49304 5348 36657 42640 39526\\n',\n",
       " 12233: '30891 49669 13705 7110 49243 15502 41016 7732 11802 4270 46110 24460 31246 38484 37747 29522 44959 29290\\n',\n",
       " 12234: '49656 15901 7216 17496 37533 28166 41604\\n',\n",
       " 12253: '17455 44982 44108 41309 40197 49423 46404 9767\\n',\n",
       " 12258: '49571 20472 7216 44001 19399 44718 8215 10536 4300 1759 25248\\n',\n",
       " 12323: '37308 11099 20759 34042 32126 10184 48849 23849\\n',\n",
       " 12338: '30739 44001 49656\\n',\n",
       " 12478: '40471 49669 11802 39244 4082 34211 24460\\n',\n",
       " 12517: '7732 49423 41905 48760 40197 46110 12588 38931 15865 35757 38484 41309 4426\\n',\n",
       " 12553: '41269 7797 23442 15901 43498 49656 37789\\n',\n",
       " 12571: '29713 1372 41012 25700 42159 45975 19159 18522 1101 7935 5260 21318 30891\\n',\n",
       " 12662: '32481 45833 21151 47909 10698 21458 43250 17282 31512 21854 1413 22668 20300 49229 21441 37088 32176 7541 42999 10216 22906\\n',\n",
       " 12745: '49656 44006 18493\\n',\n",
       " 12754: '38589 32126 34761 34961 2445 18179 40111\\n',\n",
       " 12846: '49656 15877\\n',\n",
       " 12881: '31811 35890 38493 30739 49571 28477 44001 43217 14128\\n',\n",
       " 12891: '31512 35890 14902 48567 43816 42649 20692 34331 3426 24158\\n',\n",
       " 12894: '570 47949 26936 37533 15642 49550 49656 15901 3135\\n',\n",
       " 12938: '33963 10593 37789 2445 21913 11751 40200 20002 22940\\n',\n",
       " 12948: '32176 14128 29809 7032 31430 19269 9961 39880 36237 48055 37154 29280 1627 30243\\n',\n",
       " 13003: '4082 27619 21151 32481 34962 13432 42159 45833 49229 30891\\n',\n",
       " 13024: '49656 28608 33821 7732\\n',\n",
       " 13040: '31811 39952 14128 49550 20759 15901 9052 44062 37533\\n',\n",
       " 13085: '49656 7032 45397 5348\\n',\n",
       " 13128: '49656 570 39952 44748 26963 27666 40263 5830 15877 34241 49432\\n',\n",
       " 13132: '19269 38493 35890 15877\\n',\n",
       " 13160: '35890 19269 38493 31811 14128 44748 7032\\n',\n",
       " 13188: '23476 47071 7889 43816 9961 22940 34436 3426\\n',\n",
       " 13195: '15877 29563 47909 36191 27031 42159 12112 48279 13491 9994 29253 32482\\n',\n",
       " 13210: '49656 47909 15877 29563 26963 570 26169 32176 49432 27031 48279 4082 47837 9994 12407 5830 42159 6062\\n',\n",
       " 13241: '21151 40471 23335 24460 47811 39244 11802 4082 47407 38023 7541 3734\\n',\n",
       " 13250: '49541 28608 39946 6622 40471 32558 39665 41142 10584\\n',\n",
       " 13433: '49656 6062 570 7032 49582\\n',\n",
       " 13441: '570 40263 32228 26936 49656 43098\\n',\n",
       " 13471: '49582 14128 49656\\n',\n",
       " 13497: '23442 492 11713 33963 49150 37533 27779 6062 49656 25214 36958 9342 22777 4082 19216 11802 5988 49136 49255 39952 24158\\n',\n",
       " 13533: '4626 23141 2406 2500 10806 16809 12142 45238 33585 27127 19737 3113 43051 15381 34132 24493 49562 36373 31346 29915 2645 14681\\n',\n",
       " 13534: '37023 12112 29280\\n',\n",
       " 13545: '48391 11099 18031 44062\\n',\n",
       " 13557: '10593 48760 7732 33963 49150 49243 28608 46110 49656 40170\\n',\n",
       " 13564: '49656 19699 27641 761 15901 21052 7216 17380 7032 45397 40764 26808 38211 16287 44006 15456 45705 11184 49582 41269 49022 23141 34100 24314\\n',\n",
       " 13608: '41269 37789 49656 17496 34961 29148 34331\\n',\n",
       " 13680: '15901 49656 20759 49562 18096 2500 39952 49422 45145 48391 27256 41269 16287\\n',\n",
       " 13715: '32176 47909 22940 48774 7184 49388 44646 18753 41626 42050 37253 24258 10698 16161 34572\\n',\n",
       " 13733: '5348 15877 9994 2857 11108 38023 14830 26507 25383 48279 49656\\n',\n",
       " 13747: '32176 39952 4082 49388 492 44748 26963 7732\\n',\n",
       " 13787: '4626 23141 2406 24493\\n',\n",
       " 13812: '32176 49550 570 36408 27927 30608 42206 9961 11702 19576 29300 22940 49382 41081 25135 14327 44409\\n',\n",
       " 13879: '29290 49243 7752 37023 12929 19216 24087 41016 4901 7422 49669 39763 4547 40503 48729 22549 29280 20002 11544 30025 4604\\n',\n",
       " 13936: '25790 23335 8389 34097 34403 36657 49565 48052 10584 26936 7710 47407 49669 3410 6293 33901 32482 17005 11802 39665 13189 3734 26039 37793 39798 20438\\n',\n",
       " 13977: '7032 17380 30739 38592 34390 41269 20264 14128\\n',\n",
       " 13982: '47949 20759 11592 5410 1300 41792 15901\\n',\n",
       " 14003: '49243 12929 10184 40111 24873 20002\\n',\n",
       " 14049: '2791 473 35757 49656 7732 40170 29290 39946 47997 8353\\n',\n",
       " 14098: '49656 44001 34241 31203 6028 44748 7216 14128 35890\\n',\n",
       " 14124: '49656 44748 39952 32176 26963 34241 48774 9917 7732 492 32180 27779 6062 12588 11713 10593 6028 15901 9417 22919 23442 40263\\n',\n",
       " 14232: '7032 44062 12724 49472 37967 18031 14128\\n',\n",
       " 14346: '49656 8389 49463 44748 40263 43388 24247 570 12588 47987 39946 26963 39992 9664 49660 4901 9017 6028 47588 7732 32228\\n',\n",
       " 14369: '49656 26963 27127 10806 2406 25719 31084 47407 15877 48774 8389 16287 49297 33447 26936 26169 39798\\n',\n",
       " 14407: '49569 48934 34143 11654 29290 8533 5893\\n',\n",
       " 14422: '39798\\n',\n",
       " 14453: '7732 49243 29290 7110 48729 37023 13705 48774 4426 12929\\n',\n",
       " 14484: '19269 570 15877 49656 76 35454 29152 12112\\n',\n",
       " 14616: '37967 3833 14128 23141 1968 34143 11126 2406 44001\\n',\n",
       " 14697: '49656 570 24158 15877 37533\\n',\n",
       " 14729: '49656 49297 12823 48774 47997 8124 29290 34211 5988 26963 30969 34273 16287 33447 41871\\n',\n",
       " 14750: '32176 570 3140 492 34241 7732 22940 29280 40263\\n',\n",
       " 14773: '7732 32176 4426 29290 34241 4082 13432 49423 46110 35757 24108 12588 44748 2066 47777 37154\\n',\n",
       " 14817: '36657 4417 8938 24383 49246 42793 37308\\n',\n",
       " 14850: '49541 34436 41142 32558\\n',\n",
       " 14936: '7732 2066 46110 4082 49150\\n',\n",
       " 14974: '29290 30891 2066 41016 7732 41905 49669 49243 17127 31246 46110 11056 37981 49650 11802\\n',\n",
       " 14994: '32176 49388 39952 22940 9961 44062 49422\\n',\n",
       " 15028: '44823 36657 1133 9240\\n',\n",
       " 15066: '31811 14128\\n',\n",
       " 15067: '15877 49465 2857 48567 26507 49656 26435\\n',\n",
       " 15069: '47949 27602 16934 44335 11592 4650\\n',\n",
       " 15076: '7216 49656 44006 10536 20472 49571 44001\\n',\n",
       " 15094: '32176 27619 4082 47909 21151 42159 40471 16811\\n',\n",
       " 15272: '34961 28639 34440 36502 44823 46544 49423 49116 8595\\n',\n",
       " 15286: '31811 14128 44001 570 14264 12649 24875 24505 35890\\n',\n",
       " 15332: '8215 37308\\n',\n",
       " 15345: '40111 49243 24873 7207 49650 40447 8019 20002 41905\\n',\n",
       " 15375: '34241 31811 44001 35598 14128 17455 49406 49423 38931\\n',\n",
       " 15390: '5893 37784 23141 49656 27641 42376 45705 11184 17380\\n',\n",
       " 15393: '19269 49304 49255\\n',\n",
       " 15400: '29290 34143 1133 49656 48934 965 13222 13387\\n',\n",
       " 15422: '2066 14128 37533 6546 36237 44986 27127\\n',\n",
       " 15447: '41269 37789 49656 19717 17380 12426 29148 4077 2887 49097 5255 49467 32721 25700 17661 25564 9925 30168 18062 4650\\n',\n",
       " 15481: '29290 2066 473 37967 39904 2406 27127 19746 16448 8353 24445 37981 17473 13432\\n',\n",
       " 15518: '570 15642 24158 23476 47949 7889 37628 39665 7550 3426 9342 15877 49223 26936\\n',\n",
       " 15553: '34241 9052 49432 20412\\n',\n",
       " 15718: '49656 39798 49569 8389 49463 11184 38711 4901 10532 29290 23225 41016 11654 13387\\n',\n",
       " 15740: '49656 2406 16287 28166 15901 26963 48391 6062 18753 10828 12823 7541 25719 10806 42212\\n',\n",
       " 15804: '49656 26963 4082 2406\\n',\n",
       " 15888: '24873\\n',\n",
       " 15928: '14128 37967 29809 36237 39842 12724 4257 6116 31430 18506\\n',\n",
       " 15972: '49656 15901 570 34100 26808 7216 27109 26963 29680 11630 9017 43388 44748 41269 25076 34331 3135 49155\\n',\n",
       " 16148: '2066 4082 23041 49136 44986 42328 24592 29290 10304 27127 39842\\n',\n",
       " 16160: '49656 48760 10593 7732 49423\\n',\n",
       " 16169: '20002 47949 33963 24873 37789 2445 40200 34761 25079 19216 40111 38589 37533 27446 42464 20325\\n',\n",
       " 16225: '8389 49569 49669 39798 41016 20438 37587 9818 29290 473\\n',\n",
       " 16258: '49656 37533 7216 41269 570 37789 3135 12426\\n',\n",
       " 16287: '49656 44001 34143 49423 6028 49660\\n',\n",
       " 16295: '76 19269 34961 29809 39842 473 23442 4911 44823 8679 44748\\n',\n",
       " 16323: '32176 37533 48699 12051 25700 48346 492 35890 44409 28608 33821 41411 12426 33963 43217 6028 22940 42159 40434\\n',\n",
       " 16467: '49656 26963 4082 48774 49432 24247\\n',\n",
       " 16471: '20300 44409 7032 49562 3026 42050 4420 41081 19021 33347 10698 39952\\n',\n",
       " 16511: '49656 15901 28166 41269 7216 41792 41604 17496\\n',\n",
       " 16593: '11802 7732 4082 30891 41016 2066 49669\\n',\n",
       " 16738: '49304 8353 5988\\n',\n",
       " 16806: '49304 27127 23041 44986 6116 27619 34081 24592 10728 13248 4082\\n',\n",
       " 16867: '21151 37784 33962 23335 34143 10584 9818 8389\\n',\n",
       " 16880: '27127 49304 6116 15877 42212 3113 26507 570\\n',\n",
       " 16983: '13432 27619 49304 44646 4082 15583 10903 1996 27127 6116\\n',\n",
       " 17039: '27127 29290\\n',\n",
       " 17044: '10532 38213 45509 26707 11016 4547 34785 36191 41016 13491 39798 1101 45300 49142 24839\\n',\n",
       " 17051: '49656 26963 570 49432 48774 40263 11802 8389\\n',\n",
       " 17106: '11099 41724 8353 9917 44823 32176 48400 47420 49056 23041 32481\\n',\n",
       " 17124: '48774 29290 12773 48934 13387 37981 15932 10828 34143 9731 13222 43462 11328 49062 8124 39624 6495 38711 22668 19746 13432 13546 14075 20941\\n',\n",
       " 17151: '34961 39665 11299 24381 36502 11254 41142\\n',\n",
       " 17200: '49656 4650 5348 35542 7032 33853 18623 48567 4420 27031 48147 18062 47407 19717 27602 38123 7216 28950 25383 49467 43753 40060\\n',\n",
       " 17209: '44748 14128 44001 37967\\n',\n",
       " 17250: '49656 15901 39655 49582 19216 4901 39952 20085 21913 761\\n',\n",
       " 17279: '33963 22940 32176 23041 11099 1413 36556 49472\\n',\n",
       " 17396: '27446 49669 19746 49243 39244 24087 41253 39304 29290 33901 40503 37628\\n',\n",
       " 17474: '49656 15901 23335 28166 48391 10593 10828 34143 18096 24953 9305 11099 2406 27256\\n',\n",
       " 17575: '33963 48760 22940 12929 12051 10593 4908 29559 26622 492 16691 2871 33821\\n',\n",
       " 17751: '38493 28477 35890\\n',\n",
       " 17781: '48567 18506 29148 30466 34961 28809 49571 19269 27015 34331 49656\\n',\n",
       " 17795: '49656 7732 44748 34241\\n',\n",
       " 17812: '49656 27641 34143 5893 44001 12649 10536 42376 7216 37784 44006 49022 49463 27223 26808 46447\\n',\n",
       " 17889: '38589 29132 47949\\n',\n",
       " 18077: '49656 27127 26963 15901\\n',\n",
       " 18113: '17282 14210 22940 35463 42999 41905 41012 42464 29945 30891 33963\\n',\n",
       " 18145: '49656 44748 76 39946 2791 28608 7732 40263 35890\\n',\n",
       " 18146: '39674 41269 19717 6446 1355 28477 17380 49455 44894\\n',\n",
       " 18156: '15901 37533 9052 10688 14128 2145 43022 19216 20759 30739 24493 3135 15456 7797 49550 41269 21957 24505 49656 14681 7032 36143 27641 48063 14264 21913 17651 33721\\n',\n",
       " 18213: '33963 7032 12051\\n',\n",
       " 18221: '26627 8090 18493 25248 44495 33899 13930 22248 18273 29050 7486 44006\\n',\n",
       " 18258: '570 24158 43098 9727 23442 11702 27127 15877 9342 26936 11713 49136 44748\\n',\n",
       " 18278: '7732 32176 42159 38931 29595 384 49229 42649 49388 30891 21151\\n',\n",
       " 18294: '492 22940 35463 15642 32176 48774 10304 33963 3140 37533 39952 7184 19216\\n',\n",
       " 18349: '49656 13222 34143 8389 48391 34403\\n',\n",
       " 18362: '49656 18493 40170 26116\\n',\n",
       " 18367: '6028 34241 49432 38931 14128 37967 36497 46589 9052 20412 10688\\n',\n",
       " 18383: '19216 47949 10806 40231 43051\\n',\n",
       " 18511: '49656 37533 570 47949 28166 49392 41014 7216 15877 48063 33263 23882 38211 16934 18623 47407 49467 15019 15147 15901 29253 27097 26963 34331 27136 39992 38123 48567 13084 25317 12407\\n',\n",
       " 18531: '7712 32176 7889 30243 7732 37154 24158 39842 29809\\n',\n",
       " 18542: '49656 49297 8389 49569 34273 1133 37587 13222 8124 48943\\n',\n",
       " 18551: '49304 45833\\n',\n",
       " 18559: '19159 25700 49656 49582 2223 39655 27512 17380 34785 16923\\n',\n",
       " 18582: '49656 28166 15901 18623 21693 25317 41604 11788 37533 17496 49392\\n',\n",
       " 18635: '49656 15901 19216 4901 47949 8389 15639 34100 41792 25079 20085\\n',\n",
       " 18649: '49656 49255 32176 76\\n',\n",
       " 18660: '29290 49656 473 41016 39904 27127 4901 49569\\n',\n",
       " 18671: '44982 34241 11360 38931 13552 37670 46404 38276 832 22668 2851 42679 48774 15430 10184 1044 10593 34143\\n',\n",
       " 18748: '7732 32176 37023 12112 4908 46110 12929 22940 29280 29595 14210 49243 4426\\n',\n",
       " 18836: '570 47949 5273 15642 43051 16543 2500 2145 37628 24158\\n',\n",
       " 18858: '2066 33963 49581 42410 48009 49150 19216 4901 34985 21048 37533\\n',\n",
       " 18920: '49656 4650 5348 37789\\n',\n",
       " 18925: '7216 33821 31118 25700 49656 28608 28477 48760 19717 48346 2887\\n',\n",
       " 18937: '18753 11099 9305 10593 21913 18098 30915 10184\\n',\n",
       " 18964: '49656 7216 19717 4650 44006 5348 2887 21693 18062 25383 45397 30168 48567 41269 49022\\n',\n",
       " 18967: '19216 24087 41016 31084 4901 24839 40503 7752\\n',\n",
       " 18996: '38493 35890 28477 44409 32176 16161 25700 31811\\n',\n",
       " 19099: '38977 33963 10593 4273 10184 27819 24873 21913 832\\n',\n",
       " 19263: '24158 39992 4082 11960 34961 20692 28639 49304 45479 42328 47420 570 12588 6761 42649 44748 49136\\n',\n",
       " 19292: '29290 49569 47997 473 38711 11654 8124 49297 49656 33447\\n',\n",
       " 19299: '49656 37023 49463 18493 40170 7752 4901 29050 26116\\n',\n",
       " 19361: '29290 2066 19746 37981 40447 8353 42410 473 49581\\n',\n",
       " 19388: '49656 33821 13705 49014 49463 25700 19159 26116 22874 21052 2223 40764 34785 16923 47724 21271 11016 29563 3249\\n',\n",
       " 19420: '24873 15642 42206 37533 42464 25351 11751 37231 47949 20002 32721\\n',\n",
       " 19438: '4864 14527 30917 8636 34143 44823 40843 43671 12588 2857 37784 39914 34273 29029 48029\\n',\n",
       " 19443: '7732 24158 44748 49150 34961 49656 49423 12588 6028 22341 9664 49571 570 76 46110\\n',\n",
       " 19506: '570 7032 11702 45145 49562 49550 6062 9727 42922 23442 43098 39952 25719 16543\\n',\n",
       " 19588: '49656 31203 49463\\n',\n",
       " 19619: '619 39304 19746 37981 41128 20394\\n',\n",
       " 19719: '41905 2066 11056 34440 49423 42410 2483 9971 15865 49150 17455 40037 40197 49581 14598\\n',\n",
       " 19727: '21913 33963\\n',\n",
       " 19759: '31512 35325 27666 29680 29420 20464 9917\\n',\n",
       " 19774: '38045 49669 49304 36657 24592 23041 42328 44986 30891 8579 49419 24182 29290 10304 35463\\n',\n",
       " 19786: '43051 47949 1805 35325 28166 42212 7541 10806 4082 45833 1413 44986 49136 26936 26963 18753 6761 49304 15639\\n',\n",
       " 19836: '49656 6062 15901 41269 4420 7032 37533 39952 40060 42212 28166 7797 27602 6786 43498 48567 25719 49255 37789 492 4650 15642 12200 25383\\n',\n",
       " 19883: '32176 4082 7184 11802 48774 8353 24445 2066 29290 20657 7732 473\\n',\n",
       " 19927: '18506 48567 14128 36237 570 27097 28809 30932 37533 7032 4257 29583 29809 30466 24158\\n',\n",
       " 19974: '15901 39952 20759 11099 37308 37533 39306 1805 27779 13084 36958 31057 8388 18096 3986 41879 31811 29420 43022\\n',\n",
       " 20130: '37533 24158 20692 4082 44986 15642 42649 45479 48567 2623 3279 32425 39992 11960 9342 492 47987\\n',\n",
       " 20158: '49656 10536 27641 42376 44006 49571 37000 7216 43671 44001 21693\\n',\n",
       " 20220: '32176 33963 39952 36556 41879 37533 45833 36497 492 21264 11099 36916 12051 8388 9052 46600 1413 26840 34241 14128 29190 49388\\n',\n",
       " 20235: '49656 7732 49463 39946 28608 6028 7216 33821 8389 11802 9017 46110 31203 40471 42378 4901 47080 40170 46404 24247 47588\\n',\n",
       " 20345: '25282 11099 8938 42793 41724 11328 3127 35608 20759 18178 7654 40328 28788 34143 44434 18096 16603 26268 11126 45942 27256 36642 22837 15781 48391 15203\\n',\n",
       " 20410: '49656 44006 2066 473 42410 4901 44001 49582 49581\\n',\n",
       " 20502: '7032 17380 25700 19717 19699 4420 42965 46963 10532 741 10001 6717 29148\\n',\n",
       " 20504: '21693 49656 4650 30168 18062 19399 5348\\n',\n",
       " 20524: '49304 15877 27127 7889 12841 49569 39798 49407 29152 2857 26507 31169 44015\\n',\n",
       " 20525: '49656 473 2406 39904 29290 49569 27127 37967 3113 25383\\n',\n",
       " 20750: '32176 7732 35890 44748 49388 34241 22940 12588 492 6028 28608 7712 9961 2791 46110 4426 32737\\n',\n",
       " 20765: '28809 30932 34961 31026 44822 14128 11873 48063 48567 10688 40037 16626 49571 37308\\n',\n",
       " 20797: '21693 49656 4650 2500 27911 16934 27602 8346 48567 18062 29148 25383\\n',\n",
       " 20801: '2066 33963 49581 41905 12724 44453 49150 42410 48760 11056 8215 48009 30891 29201 12051 16626 19400\\n',\n",
       " 20806: '49304 24592 7245 49541 30891 24182 39241 20692 13990 11573 31971 38045 22096 36657\\n',\n",
       " 20851: '6062 7032 49582 49656 42381 39655 47837\\n',\n",
       " 20852: '47997 12823 16287 17297 42640 48391\\n',\n",
       " 20872: '9917 48630 7184\\n',\n",
       " 20894: '20002 24624 22874 24873 37670 38977 19216 20881\\n',\n",
       " 20898: '25790 15877 44335 538 4650 556 5348 41014 8346 5255 27602 16934\\n',\n",
       " 20975: '37628 34097 49669 15877 39798 39665 25790\\n',\n",
       " 21043: '34143 49656 1133 49463 49660 44001 9017 46404 7216 44982\\n',\n",
       " 21103: '49656 7216 44006 7032\\n',\n",
       " 21109: '32186 20264 41269 17380 38421 1355 31718 18493 32067\\n',\n",
       " 21121: '33963 11099 4360 12051 8388 10593 32176\\n',\n",
       " 21129: '49223 12337 19216 49243 26936 30392 15104 24873 48774 3140\\n',\n",
       " 21194: '570 24158 44748 34331 12588 39992 45479 29253 14264 40263 7732\\n',\n",
       " 21198: '49656 4650 6546 37789 23530 37533\\n',\n",
       " 21227: '49656 39946 12112 6062 4901 34785 473 40170 49582 76 40263 37789\\n',\n",
       " 21232: '49656 44748 570 26963 35890\\n',\n",
       " 21262: '49656 15877 570 27641 34331 27109 8389 49463 10536\\n',\n",
       " 21279: '48774 32176 4426 4082 29290 7184 13432 7732 26169 47909 11802\\n',\n",
       " 21297: '49656 44748 49255 76 49483 6062 23442 48391 14128 19269 18771 37967 2791\\n',\n",
       " 21309: '29290 19216 4901 7752 19746 39904 24087 6062 473 31084 2066 39655 49582 41016 3552\\n',\n",
       " 21455: '14264 17455 30739 46589 43217 44001 37533 47964 12426 49423 20472 36033 20002 38771 28768 24624 12649\\n',\n",
       " 21517: '49656 39946 5348 40471 8389 27031 47407 23855 49463 20438 21151 19259 16336 13930\\n',\n",
       " 21569: '33963 37533 39952 14128 2066 492\\n',\n",
       " 21591: '2500 26936 49562 22555 45145 49297 44598 15901\\n',\n",
       " 21602: '49656 15877 40263 12112 37023 6062\\n',\n",
       " 21611: '49656 34331 7216 15901 570 41269 17496 48943 27641 49571 24189 20472 27109 25076 29253 15877 2215 45691 9977 41792 44748\\n',\n",
       " 21628: '40471 4082 39946 28608 49656 25482 42649 11802 27031\\n',\n",
       " 21882: '4082 11802 22668 35325\\n',\n",
       " 21912: '10593 46589 48009 832 10184 2066 49150\\n',\n",
       " 21937: '4082 7732 32176 26963 11802 39946 44748 9994 15877 27619 40263 12588 42649 384 10903\\n',\n",
       " 21941: '44748 32176 570 13432 39842 9994 28639 22919 12588 7712 4082 26963 49244 29809 6445 6116 26117 9727 25441 40387 37967 35890\\n',\n",
       " 21969: '570 14128 30739 29809 47964 19269 44748 76 36408\\n',\n",
       " 21990: '29290 37023 7732 40263 417 7889 48729 12112 4082 28639 13432 49669 29280\\n',\n",
       " 22033: '29563 39798 49656 37023 25790 8389 32482 4547 27672 15877 11927 25617 36191 18492 3249\\n',\n",
       " 22049: '29290 12337 28639 28878\\n',\n",
       " 22058: '14128 19269 7032 44006 49656 76 30739 29809\\n',\n",
       " 22124: '11802 49669 25079 4901 4082 24839 40471\\n',\n",
       " 22159: '37533 48567 49571 34961 11873 36237 13084 24158 4863 29583\\n',\n",
       " 22213: '15147 37533 34331 28608 24158\\n',\n",
       " 22240: '44823 4864 34440 48391 37308 1133 34961 14527 43671 39992 49656 34143 11299 36657 19225 28878\\n',\n",
       " 22245: '36657 49297 9802 34097 49669 49311 49569 13222 37587 3335 8389 9818 6045\\n',\n",
       " 22249: '7032 4420 33963 19717 41269 44140 39438 44062 49656 39952 44409 29148 49472 7797\\n',\n",
       " 22255: '29290 965 49297 12337 37967 48934 28878 44823 8156 30392 49116 28639 15104 40095 4864 34440\\n',\n",
       " 22285: '38931 34241 20412 6028 46589\\n',\n",
       " 22323: '48760 41269 10593 49656 49483 24652 20472 49255 10086 33899 11425 33821 41505\\n',\n",
       " 22324: '33963 32176 492 39952 37533\\n',\n",
       " 22336: '49656 44006 49463 18493 7216 10536 44001 27641 34143 40764 30168 49022\\n',\n",
       " 22447: '49656 34143 1133 4901 10828 3410 49463 44452 23335 8090 41604 8389\\n',\n",
       " 22453: '7216 49656 13483 20002 13930 30168 37789\\n',\n",
       " 22467: '49656 36754 26936 15877 26963 15901 29563 41014\\n',\n",
       " 22503: '16923 4908 42206 31753 11630 22874 32147 37023 29946 21271 16635 38808 43144 36453 3018 34241 26808 41675\\n',\n",
       " 22629: '49297 965 26117 49569 33585 29290 4547 34273 27127 39914 26936 39798 33447 49116 42200 45145\\n',\n",
       " 22923: '2406 25383 49569 21693 49656 3113 23141 7843 44006 2500 10001 16858 7032 27127\\n',\n",
       " 22935: '23442 15901 19216 570 49656 11713 36958 6062\\n',\n",
       " 22941: '49656 15901 7216 48063 570 37533 27097 10688 20759\\n',\n",
       " 22955: '44228 8019\\n',\n",
       " 23032: '12724 31811 49472 35500 8215 36237 4257\\n',\n",
       " 23071: '570 15877 49656 19269 2500 27109 24158 26507 11528 35454 9727 18506 34331 27015 27641\\n',\n",
       " 23097: '7216 49656 538\\n',\n",
       " 23099: '33821 7216 49656 46404 38276 22874 11360\\n',\n",
       " 23221: '25282 43071 39292 7216 21151 48063 18082 48567 31512 35890\\n',\n",
       " 23255: '44748 37967 28639 570 46544 14128 49423 44001 35574 23442 47964 44823 49116 39842 15104 29809 11713 8595 12337 12588\\n',\n",
       " 23270: '49656 6062 473 4082 40263 12112 47837 24445 40526 3552\\n',\n",
       " 23281: '31811 44001 28477 17455 38931 49423 35598 29713 35890 38493 31203 12649 25282 7654 14128 2554 6028 23068 25658\\n',\n",
       " 23318: '37981 19746 619 29290 48934 40510 39674\\n',\n",
       " 23367: '33963 27047 49472 9305\\n',\n",
       " 23379: '49656 473 15901 44748 14128 41211 37967 43388 9664 44006 76 19216 44001 27127 570 41604\\n',\n",
       " 23392: '49656 44748 17496 39946 49463 34331 9017 18493 43388 48943 49660 40263\\n',\n",
       " 23440: '37533 49656 15642 492 39952 13084 6062 27779 15901 33963\\n',\n",
       " 23500: '49656 48567 25383 18623 4650 42212 21693 7216 6062 7032 19269 18062 44006 5348\\n',\n",
       " 23528: '41724 37967 48391 13432 7654 11126\\n',\n",
       " 23541: '24383 8019 19399 49246 35005 46238 49541\\n',\n",
       " 23547: '26963 4082 49656 48774 11802 49432 44748 8389 24247 39946 15639 45384 12588 15877 34273 9994 47837 40263 13432\\n',\n",
       " 23626: '49656 49423 7732 40170 44001\\n',\n",
       " 23668: '49656 26808 27641 44001 44006 15901 49463 34100 49022 34143 18493\\n',\n",
       " 23854: '570 24158 18506 7889 29809 19269 43816\\n',\n",
       " 23873: '27602 2500 49562 43051 4420 15901 42212 12527 12823 1066 41307 27911 44335\\n',\n",
       " 23877: '49656 23335 8389 3410 11802 25790 47407 40471 25079 15639 10828 39946 39665 44959\\n',\n",
       " 23906: '27223 49406 44001 34143 46447 44982\\n',\n",
       " 23910: '37981 8353 29290 2066 49581 19746\\n',\n",
       " 24131: '26963 9994 48774 15877 11328 3428 14020 29563 49432 36754\\n',\n",
       " 24153: '29290 32176 2066 473 4426\\n',\n",
       " 24185: '7732 32176 33821 31203 28608 48760 42159 384\\n',\n",
       " 24212: '48774 29290 26169\\n',\n",
       " 24223: '49656 7732 28608 33821\\n',\n",
       " 24237: '20002 39992 19216 24873 49150 32126 34961 37533\\n',\n",
       " 24265: '44823 44748 12588 49656 49660\\n',\n",
       " 24333: '37023 49243 7732 12929 46110 20002 7752\\n',\n",
       " 24335: '29680 27223\\n',\n",
       " 24372: '32176 7712 30243\\n',\n",
       " 24435: '49656 2406 10806\\n',\n",
       " 24444: '570 15877 26963 9727 49562\\n',\n",
       " 24477: '47909 25700 19159 42381 32176 40137 384\\n',\n",
       " 24494: '32176 49136 39842 44748 28639 4082 23442 570 22919 9917 24158 11713 9342 2066 3140 21396 29290 37894 12588 42328\\n',\n",
       " 24508: '48029 12841 34436 30917 7245 43537 8636\\n',\n",
       " 24511: '49656 14128 7032 25383 44006 37967 76 44748 19269 18623 6062 30739 8679 29809\\n',\n",
       " 24517: '49656 11802 39665 15639 40471 5988 3410 24652 25079 10828 49243\\n',\n",
       " 24541: '14128 37967 7032 39952\\n',\n",
       " 24580: '42206 49656 25700 47909 21052 49550 16923 39952 24510 44409 21271 11630 38808 42381 33821 19159\\n',\n",
       " 24582: '30891 21151 49541\\n',\n",
       " 24590: '27127 39842 49304 6116 4082 29290 2066 473 37967 28639 1002\\n',\n",
       " 24646: '7216 49656 2887 19717 25790 5348 33821 538 4650\\n',\n",
       " 24752: '49656 10828 48774 11802 4901 26963 15639 25079 24247 47837 6062 41850 49432 24953 31084 3410 35538 6495\\n',\n",
       " 24777: '49656 37533 6028 7216 33853\\n',\n",
       " 24873: '37533 8019 22709 40231 28677 26072\\n',\n",
       " 24883: '8353 44823 29290 2066 24592 41724 16448 37967 28878 6045 2381 8215\\n',\n",
       " 24912: '49472 44062 18031 11099 12724 7032\\n',\n",
       " 24950: '34440 17455 34961 35574 36502 16626\\n',\n",
       " 25009: '4082 48774 11802 26963 7541 15639 10828 49656 19150 3734 38023 18753 39244 48546 40471 25079 10806 16287 34211 14020 47837 47811 3552 28166 6062 45098 1666\\n',\n",
       " 25068: '11751 33963 15642 27446 39244 37789 9305 4420 6546\\n',\n",
       " 25079: '9305 39244 37628 556 4650 40471 27490 11751 37789 10627 35130 32207 17587 4370 4359 48342\\n',\n",
       " 25095: '34436 44823 28639 4864 24381 14527 32558 49297 34961 9977 39207\\n',\n",
       " 25154: '29290 44823 34440 48934 12337 36502 42410 619 37967 37981 11299 28878 32186 37370 8156 8124 8215 19225 473 16448 9802 1133 9731 49419\\n',\n",
       " 25164: '49656 4901 11630 40170 39946 8389 11802 49463 40263 3410 49243 39665 20002 19216\\n',\n",
       " 25192: '49656 7216 570 34331 6028\\n',\n",
       " 25205: '49656 15877 8389 49569 2857 9994 39798 49463 49297\\n',\n",
       " 25223: '9917 49223 5988 23476 39665 35463 11425 28639 7732 29354 49150 27666 12337 2445 9342 22940\\n',\n",
       " 25254: '48774 10806 26963 18753 2406 7541 28166 27256\\n',\n",
       " 25388: '49116 37967 39842 28639 29809 44748 34961 14128\\n',\n",
       " 25411: '28639 26117\\n',\n",
       " 25427: '29290 19216 49243 11802 26936 12337 46216 30392 24087 43098 29994 44675 48774 10304 22668 35325 15104 24873 49669 41016 44986 49223 20002 13189 34403 15639\\n',\n",
       " 25537: '49463 46404 34143 17455 9017 8090 18493\\n',\n",
       " 25653: '4082 27127 13432 26963 49304 34403 21151 2406 34962 9818 24108 10806\\n',\n",
       " 25662: '49297 33585 13222 43671 34143 5893 49569 49246 1133 2500 45993 13387\\n',\n",
       " 25663: '15877 49297 49656 2500 41014 49569 8389\\n',\n",
       " 25687: '49656 39946 44006 40170 49463 4901 473 7732 28608 34785\\n',\n",
       " 25782: '49656 39952 10593 16287 25700 2687\\n',\n",
       " 25850: '23335 24460 11802 10828 8019 47811 40471 30915\\n',\n",
       " 26010: '46110 7732 28608 11056 30891 2066 2483\\n',\n",
       " 26180: '49656 7216 10536 49571 34961 17496 44718 39992\\n',\n",
       " 26185: '7216 6028 49656 7732 28608\\n',\n",
       " 26282: '48774 26963 3428 47909 14020 49656\\n',\n",
       " 26289: '8215 37967 49472 23442 11099 12724\\n',\n",
       " 26301: '49304 4082 27127 13432 47420 26963 26936 15877 3306 30969 34273 26117 40387 5008 7889\\n',\n",
       " 26320: '49656 33821 7216 49463 39946 31203 9017 7732\\n',\n",
       " 26383: '49656 15877 7216 34331 570 49467 37533 15147 41014 29253 25790 38123 538 27031 38211 4650 5348 38084 16934 12426 29563 48063\\n',\n",
       " 26393: '49656 7032 2500 25383 15877\\n',\n",
       " 26413: '49656 25700 33821 7216 44409 39952 49582 47909 14406 21052\\n',\n",
       " 26473: '8353 41724 16448 2066\\n',\n",
       " 26483: '49656 28608 6028 7732 7216 39946\\n',\n",
       " 26511: '49656 17380 49569 2500\\n',\n",
       " 26534: '41905 29290 8353\\n',\n",
       " 26601: '38931 38276 46404 34241 12543 44982 11360 33821 28818 41309\\n',\n",
       " 26626: '17380 41269 12823 4672 40510 24510 16161 4908\\n',\n",
       " 26674: '49656 7216 37533 6028 48063 570 24505 49571 14264 43217 21048 24189 9052 20472\\n',\n",
       " 26697: '49243 12929 46110 20002 7732 40170 38484 49150 11802\\n',\n",
       " 26705: '570 49656 24158 37533 44748 14128 26963 18623 27097 45833 9727\\n',\n",
       " 26707: '15901 2145 49406 18096 20759 27223 37967 11126 37308 21913 43022 14128 44001 46447 20264 49656 49422 38715\\n',\n",
       " 26717: '49656 15901 20472 7216 10593 37670 41269 27779 29420\\n',\n",
       " 26720: '49656 28608 33821 12112 39946 32176 40471 492 24652 49255 7732 27031 14902 29086 47909 34331 41626 40263 22940 29253 7216 6062 2791 44409\\n',\n",
       " 26776: '49656 41269 20002 37789 11630 24624 19216 15901 27779 41792 17496 3135 37533 25079 12426 7216 4901 49582 26077 33821 24652 27615 6062 41850 11055 10593 47949 28608 41604 492 37670 31331\\n',\n",
       " 26778: '4547 38711 15877 11184 49656 23141 11108\\n',\n",
       " 26951: '37023 49656 11630 20002 49243 12112 12929 4901 49223 40170 11802 40263\\n',\n",
       " 26979: '49656 5988\\n',\n",
       " 27093: '11099 33150 37184 6853\\n',\n",
       " 27095: '49656 7732 31203 32176 49423 2791 35757 21990 48760 25700 44006 33821 49582 49483 49463 44748 34785 29713 4426 12112 28608 2223 39946\\n',\n",
       " 27121: '38931 10021 31203 29713 7732 2483 6028\\n',\n",
       " 27125: '49656 39952 15901 6062 16287 26963 12823 49582 45397\\n',\n",
       " 27168: '2066 4082 2483 40037 24108 27127 27049 12588 39842 22341 36656 42649 43315 34440 3355 49116\\n',\n",
       " 27260: '10593 49656 27779 39952 48774 9917 34241 492 15901\\n',\n",
       " 27317: '22874 25700 34241 20516 33821 21990\\n',\n",
       " 27357: '8353 7732 48760 37196 2791 40170 11802\\n',\n",
       " 27364: '48774 15932 10828 14020 6495\\n',\n",
       " 27370: '49656 26963 2406 25719 6062 15901 25383\\n',\n",
       " 27373: '32176 4426 37154 7732 13432 29290 2066 49388 29713 30243 4082 7712 44748 27619\\n',\n",
       " 27427: '26936 39992 44675 35325 39665 24158 28639 34403 43098 30392 46216 42328 38045 47987 6761 11960 6433 570 15517\\n',\n",
       " 27486: '49656 570 15901 15877 34331 29253 47949 25076 29680\\n',\n",
       " 27604: '7712 2066 41905 37154 28639 49150 32176 3140 31430 21396 39842 30243 7732 21866 49388 3926\\n',\n",
       " 27632: '33963 39952 44062 36556 10593 12051\\n',\n",
       " 27716: '25282 44108 35890 40273 12649 31811 24875 2483 7654 18003\\n',\n",
       " 27738: '49656 25076 8389 9017 3410\\n',\n",
       " 27798: '49656 473 29290 4901 8124 26963 11802\\n',\n",
       " 27887: '6546 33853 24839 7032 37533 2406 31084 17062\\n',\n",
       " 27919: '49656 48774 45145 16287 15901 11328 39952 36754 26963 43061 11592 761 3428\\n',\n",
       " 27929: '19399 2406 34985 18997 4626 31026 21693 45378 49581\\n',\n",
       " 27937: '2500 28809 25383 49562 37308 42376 15901 1066\\n',\n",
       " 27971: '49541 10584 26435 2737 13483 22621 13930 48063 43071 49465 24383 8019 2483 538 22709 1769 25790 6078 44652 27176 40195\\n',\n",
       " 27989: '39665 49656 8389 34331 39946 9017 39992 3410 47588 11802 27648 32558\\n',\n",
       " 28033: '32176 35890 49656 47909 15877 14902 44748 26963 29086\\n',\n",
       " 28049: '49656 44748 23442 36958 11713 39952 76 49255 22919 15901 32176 18771 492 8215 37967 49483 46544 9917 14128 8679 6062 49472 22777\\n',\n",
       " 28089: '33963 2066 6546 76 37533\\n',\n",
       " 28187: '44823 37967 4864 39842 28639 26117 965 48391\\n',\n",
       " 28211: '49656 15877 8389 29563 49463 39946 25790 41014 26963 47407\\n',\n",
       " 28316: '32176 4426 37967 34241 2066 14128 31811 36556 7732 42159 1921 26840 33406 49388 29201 3833 21264 41513 38931 29713 29190 49229\\n',\n",
       " 28363: '25790 21693 10584 5348 37784 8389 23335 4650 49569 39798 47407 49656 30168 19259 46220 24383 6078 34484\\n',\n",
       " 28369: '44823 8353 8215 15865 1759 42410 49581 49571 44001 11099 49423 48760 29201 44006 16860\\n',\n",
       " 28467: '48774 26963 49656 11802 15877 4082 47909 29563 26169 49432 24290 47837 42983 12407 45384 26936 41253 15639 6062\\n',\n",
       " 28493: '49656 27127 4082 49304 21693 37587 473 18623 42212 25482 3113 39904 2406 49569 48567 25317 37793 39946 14830 15877 25383 28166 3979 26963 1484 4650 44986 10903 4123\\n',\n",
       " 28634: '49569 2857 8389 26117 49297 9994 34273 39798 9818 27127 15877\\n',\n",
       " 28651: '49656 44748 12588 7732 570 24158 40263 34331 49423 9017 39946 28608 6028 28639 49660 49463 46110 32558 47987 2791 46404 39665\\n',\n",
       " 28707: '44001 49571 2483 9664 49656 40037 34440 44006 37967 49423 34961 49660 14128\\n',\n",
       " 28710: '49656 15901 26963 6062\\n',\n",
       " 28715: '48774 45145 27666 26936\\n',\n",
       " 28763: '3140 29232 28639 21396 1413 10304 40447 37894 23442 9917\\n',\n",
       " 28767: '32176 42159 4082 27619 35890\\n',\n",
       " 28777: '44823 8353 39842 8215 49472 2066 37967 5651 1002 46544 23442 44852 28639\\n',\n",
       " 28823: '37967 13432 26963 14128 6116 16809 3833 27127 965 48774 7654\\n',\n",
       " 28858: '37533 33963 21264 27290 9052 37884 12051 6028 24839 19400\\n',\n",
       " 28869: '39946 4082 11802 7732 473 49656 25482 2791\\n',\n",
       " 28873: '17455 7752 49423 30739 20002 36700 9664 2066 34440 44006 473 11056 49150 47964 44001 38771\\n',\n",
       " 28926: '34143 1133 4864 44823 48391 49660 14932 18096 15865 15932 41724 8328\\n',\n",
       " 28969: '49656 6028 9052 34241 14128 39952 37533 46589 44001 7732 27779 49582 37967 32180 10593 10688 21957\\n',\n",
       " 28986: '36556 7032 44646 12724 6717 13248\\n',\n",
       " 28995: '49472 33963 36556 48564 8215 42212 11099\\n',\n",
       " 29073: '49656 37533 24839 40471 4082 6028 27031 42649\\n',\n",
       " 29096: '4650 5348 40471 9305\\n',\n",
       " 29193: '49656 10828 15639 11802 8389 3410 16287 23335 7541 26963 48774 24953 39665 34211 3684\\n',\n",
       " 29212: '9917 48774 39952 27666 492 23442 49656 24290\\n',\n",
       " 29213: '49656 19269 39946 47997 15877 34211\\n',\n",
       " 29282: '32481 22668 34962 4082\\n',\n",
       " 29283: '19216 37533 7752 570 49656 20002 44986 32228 43098\\n',\n",
       " 29511: '37533 33963 43217 15642 7216 21048 26622 492 28608\\n',\n",
       " 29593: '19269 44748 49656 14128 570 29809 35890\\n',\n",
       " 29600: '49656 6062 570 7032 37533 49255 25719 76 492 15877 23530 3552 49582 43498\\n',\n",
       " 29615: '25700 44409 2887 19717 2223 7032 49656 3026 19699 4420 45397 49553 19159 5348 42965 46963 17380 7216 49197 741 16161 28950\\n',\n",
       " 29648: '49656 16287 25790 4650 5348 41269 21693 18062 19717\\n',\n",
       " 29737: '34143 2483 15932 21861 45993 17127 34840 40843\\n',\n",
       " 29834: '7712 30243 39842 29809 37154 31430 32176 28639\\n',\n",
       " 29848: '3833 7032 39952 11328 49656 33853 3428 48774 26963 761 45397 20300 14020 19699\\n',\n",
       " 29924: '23442 49223 47949 39665 19216 26992 41269 20002\\n',\n",
       " 29973: '32176 27666 47909 570 9961 11702 22940 48774 1064 45145 30608\\n',\n",
       " 29990: '19269 7032 14128 38592 20264 17380 10001 37967 2500 25383 30739 27641 44006 3833 18031 31718\\n',\n",
       " 29992: '26936 40447 36657 33585 4417 49297 30392 6812 31346 1805 47690\\n',\n",
       " 30016: '7216 33821 44006 44001 34143 28608\\n',\n",
       " 30052: '49656 7216 49463 9017 6028 39946 34331 44748 28608 17496 8389 49660 44001 47588\\n',\n",
       " 30090: '44823 8353 34440 29290 2066 36502 42410 11056 49423 12337 49150\\n',\n",
       " 30151: '12588 44748 49656 6028 35890\\n',\n",
       " 30163: '49656 23335 25790 47949 28166 49392 47407 25516 10362 41604 40231 48063 38211 9586 16934\\n',\n",
       " 30202: '49656 26963 47909 4082 384 32176 31203 21151 49432 6028 42649 39946\\n',\n",
       " 30213: '34241 33721 21957\\n',\n",
       " 30223: '34961 49150 19216 24158 37533\\n',\n",
       " 30284: '33963 49581 48009\\n',\n",
       " 30307: '15901\\n',\n",
       " 30315: '49656 17496 41604 21693 20002 15147 37789 34038 7216\\n',\n",
       " 30525: '17455 28477 38493 44001 20901 31811 30739 40274 19983 11243 35598 9767 49423 41309 11216 26239 48760\\n',\n",
       " 30542: '18753 36887 5988 7541 32481 41724 48630\\n',\n",
       " 30604: '18623 49656 45833 4082 28166 21151 42212 48567 26963 47811 10698 2406 7208 11099 4650 4110 25383 47407 42649 18068 30915 47644 49392 10216 15019 48391 40471 40766 41724 43134 10806\\n',\n",
       " 30787: '3140 34241 7732 32176 15104 14264\\n',\n",
       " 30796: '25790 11184 9304 7486 34484\\n',\n",
       " 30811: '43051 5273 2500 35130 43498 2145 11788 3113 42331 47949 7094 18446 27127 4626\\n',\n",
       " 30919: '36916 25282 11099 36556 29201 18082 13103 48564 19399 26268\\n',\n",
       " 30928: '38931 2483 7732 17127 30891 10021 46110 47080 21151 27176 15865 6028 42649\\n',\n",
       " 30995: '49656 14128 44001 44006 30739 24505 27641 570\\n',\n",
       " 30999: '44823 22096 33150 33374 224 40447 29290 29232 48934 28878 6498 8215 41724\\n',\n",
       " 31010: '43055 41269 8215 20472 49571 19606 33963 43217 47523 29132 7797 10533 34961 37789 44140 36033 49455 20881 31898 38441 5596 16765 22248 11299 42120 49606 21913 43800 18533 21048 27728\\n',\n",
       " 31052: '48567 4650 27602 42212 28166 18623\\n',\n",
       " 31192: '37533 36237 1413 6761 49586 18082 36916 40231 45833 29583 44986 14128\\n',\n",
       " 31360: '49656 7216 10536 21693 43671 44006\\n',\n",
       " 31367: '570 24158 18506 28809 34961 14128 36237 29809 37533 4863 23442 76\\n',\n",
       " 31381: '48774 39244 47909 22668 7541 17282 20325 11802\\n',\n",
       " 31458: '46447 4864 29680 27223 44823 20403 965 35574 38592\\n',\n",
       " 31500: '49656 25790 29563 47407 27031 15877 7216 41014 5348 15147 538 8389 32482 49392 39946 25372 38211 38123 49467 34331 23855 25079 24839 33904 10584 40471\\n',\n",
       " 31639: '49656 15901 41269 11630 3135 570 6062 41792 25076 15456 34100 41850 38211 19216\\n',\n",
       " 31650: '570 15877 44748 9994 32176 35890 26963 49656 40263 22919 5830 24158 27109 29253 25911 45833 9727\\n',\n",
       " 31731: '4082 45833 49304 21151 26963 42649 49586 20692 6761 27619 35325 44986 11802 11960 48567 44483 46600 42983\\n',\n",
       " 31766: '4082 27127 44986 11802 49656 43098 42328 473 24158 23442 5988\\n',\n",
       " 31805: '34241 21957 40095 33721 7752 46589 32252 9052 39655 19216\\n',\n",
       " 31918: '7032 25383 3833 14128 18031 44062 37967 19269 32176\\n',\n",
       " 31926: '44748 32176 2066 37967 14128 7732 11713 23442 39842 12588 49423 22919 570 76 46544\\n',\n",
       " 31927: '13705 1101 29563 3428 7110\\n',\n",
       " 31954: '7486 9802 49246 8019 44607 36657 34484 9240 24522\\n',\n",
       " 31986: '49656 5348 4650 16287 27031\\n',\n",
       " 32002: '7732 49243 46110 11802 29290 41016 4082 34241 49432 17127\\n',\n",
       " 32050: '49656 40170 40471 4901 39946 37789 28608 34785 11802 40444 25079 43639 48760\\n',\n",
       " 32059: '5893 37784 43671 49656 34143 10536 27641 42376 40843\\n',\n",
       " 32075: '25383 49472 7032 2406 42212 18031 44062\\n',\n",
       " 32097: '49656 15639 39665 26963 49432 2736 47949 26936 29563 15901 49392 8389 48774 11592\\n',\n",
       " 32109: '48774 29290 35463 49243 7184 7732 11802 3140 32176 8600 12929 10304 4426 22940 2306 24087\\n',\n",
       " 32136: '49656 37789 33963 4901 24839 37533 34785 49582 21048 19216 41604 41850 27779 19400 20002 6062 2066 34985 25079 6546\\n',\n",
       " 32139: '49656 32176 44748 49255 40263 570 2791 29086 6062\\n',\n",
       " 32180: '7732 32176 34241 4426 38931 41309 31203 42159 46110 25260\\n',\n",
       " 32193: '25790 45705 37784 11184 48312 5348 6963\\n',\n",
       " 32270: '49656 19269 49255 44748 76 29086 2791 49483 47801 35890 39946 47997\\n',\n",
       " 32360: '15877 570 49255 49656\\n',\n",
       " 32373: '49656 41269 15901 9305 16287 37789 41792 28166 24953 9228 7797 4359 34462 27779 4650 21693 19717 10593 6062\\n',\n",
       " 32394: '570 49656 26936 32228 24158 40263 27666 9727 29680\\n',\n",
       " 32403: '49656 570 27641 27109 15877 44748 48943 34331 49569 9511\\n',\n",
       " 32407: '49656 25079 19216 20002 37789 4901 41850 24839 3135\\n',\n",
       " 32452: '8595 49116 29809 17455 48029 28639 7712 39842 44748\\n',\n",
       " 32462: '37533 570 14128 24158 4863 36143 16626 47964 34961\\n',\n",
       " 32586: '44006 49656 30168 21693 10536 17380 5452 1355 5348 18493\\n',\n",
       " 32635: '11802 49656 49243 37533\\n',\n",
       " 32690: '49463 49656 34143 8389 37784 1133 18493 44727 7216 5893 44006 9017 49569 2483 40843 5765\\n',\n",
       " 32706: '1372 25282 29201 18081 31118 18522 28477 33794 38931 47756 38276 33906 25054 3421 42159 7764 24095 38493 13006 41879 45705 49489 42050 2887 27712 11099\\n',\n",
       " 32714: '36657 41724 49304\\n',\n",
       " 32728: '17282 22668\\n',\n",
       " 32790: '38045 26117 44675 13432 27049\\n',\n",
       " 32878: '49406 18178 38977 20759 2687 34241 13886 20516 40296\\n',\n",
       " 32883: '28809 25282 27641 42376 14128 18506 7032 10688 24505 27097 44598\\n',\n",
       " 32954: '49116 26117 29290 965 27127\\n',\n",
       " 33006: '570 37533 24158 23442 11713 14128 492 15642 36237 36958 1413 29809 1805 11788\\n',\n",
       " 33031: '8389 49656 39946 49569 49463 20438 9818 8636\\n',\n",
       " 33047: '21151 22668 26936\\n',\n",
       " 33087: '44823 48934 48391 8124 8353 29290 1133 34143 28878 49656 47997 13222 37967 473 18031 18493\\n',\n",
       " 33115: '23442 49255 49472 36958 8215\\n',\n",
       " 33118: '26936 22668 30392 3306\\n',\n",
       " 33135: '34143 46404 17455 44108 44982 11243 38931 47359 1133 28818 41905 41323 34042 31246 25969 38484 38276 23849 40197 44452 26627 11056 1759 170 27499 49423 11425 17127\\n',\n",
       " 33154: '49656 5988 49255 47801 41626 29086 10903 76\\n',\n",
       " 33171: '49581 19399 9802 2406 49472 18997 8215 12724 38522 34985 17062 21693 2066 37967 7797 33762\\n',\n",
       " 33323: '49656 7216 6028 35890\\n',\n",
       " 33352: '8389 36657 39665 49656 39992 41142 3410 1133 8090 34403 14527 13222 34273 12337 19225 47588\\n',\n",
       " 33475: '49423 2066 44748 7732\\n',\n",
       " 33505: '49656 26936 8389 19216 15901 25516 49297 965 47949 10318\\n',\n",
       " 33529: '49656 2406 21693 49569 2500 3113 49297\\n',\n",
       " 33545: '49656 570 15877 11630 40263 26808 25076 37023 29563 27666 16923 4547 45145\\n',\n",
       " 33563: '49669 11802 41253 20438 8389 39665 37747 29290 36657 3335 34403\\n',\n",
       " 33611: '49656 9017 46404 39665 34331 7216 47588 8389 17496 32558 8090 28608 11425\\n',\n",
       " 33632: '49656 26963 49432 29563 570 26936 48774 49392 45384 15877 32180 24247 8389\\n',\n",
       " 33639: '28639 49136 570 30392 27666 9917 26936 24158 11960\\n',\n",
       " 33707: '7184 34081 35463 23476 5988 23041 10304 9342 20692 13714 42983 44986 49304 4082 24290 42328 49136 22940 8579 37628 23442 20657\\n',\n",
       " 33832: '49656 25790 5348 15877 27031 7216 2887 30168 4650 39946 33821 8389 25076 34361 41014 47407\\n',\n",
       " 33895: '49656 41269 7216 49582 6062 33821 37789 39946 34785 44006 2223 16287 41792\\n',\n",
       " 33938: '35890 38493 19269 44748 39207 34436\\n',\n",
       " 33946: '49297 46447 26808 45561\\n',\n",
       " 33951: '29290 8353 473 44823 2066 28878 37981 15682\\n',\n",
       " 33969: '49656 28809 15901 37533 27097 570 11788\\n',\n",
       " 34042: '49304 4082 36657 44986 11802 5988 34081 23041 7184\\n',\n",
       " 34061: '29290 12337 7732 473 44748 28639 965 48774 13432 49423 28878 40263\\n',\n",
       " 34078: '49656 44001 44006 49463 18493 49423 44748 49660 17455 27641 30739 19983 7216\\n',\n",
       " 34168: '49656 15877 49297 12823 19269 25076 47997 26808 29086 3428 417\\n',\n",
       " 34218: '38045 30891 29290 13432 4082 49669 34962 49304 49650\\n',\n",
       " 34233: '26936 29563 4547 49297 15877 26117 965 570 36682 36754 45145\\n',\n",
       " 34362: '49656 15901 44748 48391 48943 44823 36958 22777 7466\\n',\n",
       " 34416: '49656 39952 48774 15901\\n',\n",
       " 34417: '48567 35890 49571 18771 25383 49656 7216 29029 30932 18623 43671 2857\\n',\n",
       " 34418: '2857 15877 9994 49569 19269 26507 29029 12841 25383 27127\\n',\n",
       " 34454: '49656 15901 2500 25516 49297 2406 2145 33585 4626 3113 28166 27641\\n',\n",
       " 34474: '49656 40263\\n',\n",
       " 34518: '2066 76 49150 7732 2791 473 44748 49423 24445\\n',\n",
       " 34523: '49150 41905 24873 36502 3140 23849 34440 34500 5081 2445 10184 14598\\n',\n",
       " 34550: '25282 19269 9994 2857 26507 7032\\n',\n",
       " 34571: '21151 8389 34403 21458\\n',\n",
       " 34585: '45833 48567 39292 15877 44483 21151 49392 18623 49586 25911 6761 23882 10216 41014 27097 48279 570 48063\\n',\n",
       " 34632: '48391 4082 26963 28166 48774 2406\\n',\n",
       " 34682: '49656 40471 39665 41626\\n',\n",
       " 34692: '49569 39798 29152 20438 8389 49463 37023\\n',\n",
       " 34696: '49656 19269\\n',\n",
       " 34707: '14128 31811 37967 44001 34241 14264 35574 39306 6028 11126 7654 10688 44748\\n',\n",
       " 34815: '29290 49297 965 28878 12337 30392\\n',\n",
       " 34817: '49297 2500 36754 49367 15877 49562\\n',\n",
       " 34826: '44823 48391 49656 473 8353 37967 29290\\n',\n",
       " 34858: '49656 570 15877 6062 40263\\n',\n",
       " 34905: '49656 570 15877\\n',\n",
       " 35068: '40471 28608 33821 38276 33963 48760 10593\\n',\n",
       " 35125: '49669 20002 49243 37628 29290 19216 27446 37023 29994 24087 46068 12929 5273 27672 7422 4901\\n',\n",
       " 35202: '2066 32176 23442 76 49255 49472 39842 42212 36958\\n',\n",
       " 35214: '26963 4082 48774 49656 13432 9994 26169 47837 15583 24247 14020 25719 27127 49432\\n',\n",
       " 35379: '34961 49571 20472 21048 44718 9664\\n',\n",
       " 35386: '49656 36657\\n',\n",
       " 35417: '37533 19216 492 6062 33963 49656 39952 27779 9052 41850 42381 49582 4901 25079 39230 20258 3135 47837 37789\\n',\n",
       " 35447: '49656 26963 15901 48774 45145 570 26936 39952 25719 9727 6062 49432 48391 27666 44748 25383 10806 1733 45833 18623 30392 45384 28166 24247 15019 49297 27127 12407 49155 45602 15877 7032 965 20300 40766 28291\\n',\n",
       " 35524: '32176 31512 32481 22940 45833 42649\\n',\n",
       " 35600: '7732 28608 46110 40471 33821 29595 39946 11802 12112 42649 384 32176 4082 48760 2791 4270 46404 32737\\n',\n",
       " 35632: '36657 11299 9802 619 15901\\n',\n",
       " 35635: '49656 46447 27641 26808 48943 49297 18493 15901 25076 49463 38592 12150\\n',\n",
       " 35668: '17455 40197 44718 11056 49423 12696 18493 31246 41905 2483 9767 26627 41323 48029 1759 48760 49394 4558 34149 11425 27499\\n',\n",
       " 35746: '49656 7216 33821 2887 2223 16287 5348\\n',\n",
       " 35783: '13084 38589 20759 37533\\n',\n",
       " 35823: '24839 49669 2406 33901 31084 10806 17062 3734 41016 9802 36373 15381 32207 10627 6293 18989 44986 1983 39904\\n',\n",
       " 35840: '49656 2857 9994\\n',\n",
       " 35859: '49656 3833 37967 14128 25383 44001 7032\\n',\n",
       " 35866: '13432 29290 37967 4426 17127 26840 48774\\n',\n",
       " 35868: '9917 11099 44823\\n',\n",
       " 35887: '44748 49656 48774 32176 9917 40263 7732 34241 29290 27666 2791 26963 12337 570\\n',\n",
       " 35913: '49472 41724 11099\\n',\n",
       " 36011: '570 31512 34331 15642 15877 29253\\n',\n",
       " 36031: '20759 42376 19399 24383 4626 45971 36916 37308 44597 25282 14932 42651\\n',\n",
       " 36049: '49656 40471 6062 34211\\n',\n",
       " 36152: '37533 6546 44986 33263 26067 31026 29583 33963 19400 36143 34985\\n',\n",
       " 36274: '15642 37533 492 570 47949 22940 9342\\n',\n",
       " 36320: '40471 4082 27031 5348 49656 23855 27619 38023 42159\\n',\n",
       " 36340: '492 32176 22940 37533 15642 33963 570 9961 7732 24158\\n',\n",
       " 36350: '19399 2483 25282 23482 21861 45378 29201 43671 18997 44718 49581 15865 17455 14932 5893 17232\\n',\n",
       " 36450: '7032 27641 45705 49656 17380 45397 5893 25383 19699 49022 38592 2500\\n',\n",
       " 36498: '570 47964 29280 76 47132 38619 7752 37023 49223\\n',\n",
       " 36535: '4626 23141 9304 24493 6237\\n',\n",
       " 36564: '49656 18623 6028 48567 29201 42649 4082 7216 35890 12051 21264\\n',\n",
       " 36679: '13432 41724 8353 29290 44646 16448 47460 28878 13183 10728 23883 2381 44823 5651 15203 12773 49657\\n',\n",
       " 36727: '29563 49656 4547 32482 8389 26963 26169 7110 48774 15877 39798 31084 4082 11802 47407\\n',\n",
       " 36740: '33963 39952 492 20516 32176 49550 27927 34241 49388 31331 9417 14264 31811 35598 48760 22940 10593 30739\\n',\n",
       " 36750: '44748 7732 570 12588 22516 29563 18003 46071 49463\\n',\n",
       " 36763: '8389 49297 49569 49656 9818 8124 13222\\n',\n",
       " 36791: '29290 44748 965 48774 37967 12337 13432 26963 34241 28878 24108 12588 28639 473 49656 43388 7732 4426 24247 34273 48934 49423 38393 48391 40643 4082\\n',\n",
       " 36797: '45145 49562 26936 2500 49297 15901 20759 1413 2107\\n',\n",
       " 36825: '24873 20002 42464 40111 33963 37670 34761\\n',\n",
       " 36860: '49656 49463 44006 8389 39946 49569 44727 18493 2483 30168 7216 31203 45509 6028 2857 44001 39798 11016 10536\\n',\n",
       " 36863: '49656 41604 28166 17496 47987 4082 39992 18623 39946 37533\\n',\n",
       " 36878: '14128 37967 30739 49116 570 29809 44001 7752\\n',\n",
       " 36887: '49304 13432 36657 41724\\n',\n",
       " 36898: '7216 570 14264 24505\\n',\n",
       " 36908: '44748 49656 34241 10593 39952 44001 9917 9417 7732 49423 49660 6028 12588\\n',\n",
       " 36939: '25790 23335 49656 37784 13930 5348 11184 8389 16287 47407 8090 26039 10584 21693 538\\n',\n",
       " 36966: '41905 49243 19746 37981 12929 29290 38484 10184\\n',\n",
       " 36971: '49656 31203 26963 9994 4082 3428 44748 3833 24106 14020 45397 2857\\n',\n",
       " 36977: '49656 7216 44006 21693\\n',\n",
       " 36983: '49656 570 37533 6062 26963 492 39952 40263 15877 24158 41850 12407 47837 15901 19216 29253 3135 32228\\n',\n",
       " 36998: '48774 44228 43061 44647 17404 20394\\n',\n",
       " 37040: '49656 492 40471 6062\\n',\n",
       " 37143: '15147 4650 37533 49465 49304 44986 24839 15877 5348\\n',\n",
       " 37147: '49656 37533 570 12426 34331 28608 41269\\n',\n",
       " 37150: '8389 7110 29563 3428 417 20438 1101 39798 13705 41253 15877 48774 32482 9818\\n',\n",
       " 37177: '34143 10139 11243 25621 35071 49650 29459 17127 15932 49160 48849 40843 9731 25969 34042 18273 37981\\n',\n",
       " 37243: '49656 570 15877 4547 29563\\n',\n",
       " 37269: '15901 49656 49422 39952 23442 41269 29680\\n',\n",
       " 37291: '49656 26963 48774 47837 6062 24247 16287 25719 10828 11802 4901 35538 23855 8389 4082 39946 47909 31203 43388\\n',\n",
       " 37374: '32176 7732 44748 2791 12112 570 35890 9961 40263\\n',\n",
       " 37402: '49656 26963 49432 10806 49392 18623\\n',\n",
       " 37423: '49656 49432 26963 47909 48774 39952 2736 15639 16287 29563 47407 11592 6062 10828 7541 33853 47837 24836\\n',\n",
       " 37424: '42381 38977 20516 35446 33721\\n',\n",
       " 37546: '49656 39946 4082 8389 26963 15877 11802 47407\\n',\n",
       " 37553: '38045 34440 2066 29290 11056 49650 49419 473 49669 49150 8240 34500\\n',\n",
       " 37575: '29680 46447\\n',\n",
       " 37580: '570 49656 24158 37533 49550 492 39952 15642 29253\\n',\n",
       " 37586: '5273 44986 3552 37628 37533 27127 26067\\n',\n",
       " 37614: '49656 26963 6062 4082 39952 492 28166 15901 44748 42212 27779 18623 45833 7541\\n',\n",
       " 37642: '17297 12823 49297 43883 7062 17380 2500 36657\\n',\n",
       " 37721: '36657 29290 9802 37981\\n',\n",
       " 37733: '48567 49656 4650 18623 29201 21693 25383 19259 7216 5348 44006 30168\\n',\n",
       " 37746: '49656 3552 6062 49669 25079 25719 15877 41850 26963 47837 12407 27127 39798 42983 32482 49565 44986 26169 11802 43098 48774\\n',\n",
       " 37863: '49656 15901 21693 44006 473 7797 3113 2406 28166\\n',\n",
       " 37888: '32176 48774 39952 492 9917 27666 34241 22940 49388\\n',\n",
       " 37890: '34241 32176 27666 9917 570 3140 29680 49244 44748 39952 49388 21866 12588 38931 39306 31057 31512 28639 9417 44982 6147 31811 49432\\n',\n",
       " 37892: '34961 24158 37533 570 36700 76 49656 47964 16626 4863 28809\\n',\n",
       " 37954: '49656 44006 15456 49582 27641 21957 49463 30739 9052 15901 7216 14128 41269 44001 34100 4901 34785 30168 6062 7032 3135 37533\\n',\n",
       " 38016: '16934 4650 21693 49656 27911\\n',\n",
       " 38122: '44748 49656 35890 570 12588 24158 22919 14902 42649 32176 31512 26963 6028\\n',\n",
       " 38134: '15901 1805 23442 49656 36958 22777 28166\\n',\n",
       " 38139: '49656 15901 26963 6062 39952 48774 24247 47837 4901 19216 43388 34100 27779 49432 44748 35538 40263 32180 15639 25719 49582 20085 27256\\n',\n",
       " 38202: '2066 33963 7732 48760 49150\\n',\n",
       " 38261: '37533 2066 44986 46600 3140 6761 4082 6180 32176 44675 49136 49586 11960\\n',\n",
       " 38383: '15642 570 35890 34331 37533\\n',\n",
       " 38414: '2066 36556 33963 37967 8353\\n',\n",
       " 38425: '49656 44006 17380 41269 18493 26808 20264 27641 1355 761 49582 15901 33899\\n',\n",
       " 38429: '29290 8533 13432 48934 417 3018 6498 29713\\n',\n",
       " 38536: '46404 38589 40111\\n',\n",
       " 38613: '29290 49569 27127 38045 49116 26117 13432 27049 28878 49407 41016 965 473\\n',\n",
       " 38621: '32176 31512 22940 9917 492 49388 39952 27666 35890 15642 9961 44748 570 43816 22919\\n',\n",
       " 38644: '37967 44823 29290 19269 12724 43855 473 49569 49116 20264\\n',\n",
       " 38793: '46238 17297 35005 19259\\n',\n",
       " 38802: '10593 33963 38977 10184 27819 21913\\n',\n",
       " 38807: '570 49656 43098 24158 15877 32228 39665 26936\\n',\n",
       " 38818: '49656 15901 41269 4901 17496 41604 7797 44006 43388 19216 2215\\n',\n",
       " 38949: '570 27127 26936 24158 26117 40231 10688 43098 37533 23882 11788 39992 24505 6761 14128\\n',\n",
       " 38977: '39952 492 32176 49656\\n',\n",
       " 38983: '49656 37533 492 570 15642\\n',\n",
       " 38995: '38977 43144 14327 20516 26127 22874 42206 40095 33721 4744 40447 46154 27819 3140 34241\\n',\n",
       " 39011: '570 29809 14128 24158 76 47964 30739 14264 44748 4863 24505 8595 44976 29280 19269 34961 35890 16626\\n',\n",
       " 39065: '42206 36191 4547 21271 29563 11927 29280 20234 33292 16983 32464 494 42937 3428 40547 37023 25700 10825 34919 44505 570\\n',\n",
       " 39109: '22940 32176 49388 492 33963 9917 5988 25214\\n',\n",
       " 39112: '26840 36556 23141\\n',\n",
       " 39116: '49656 44001 37967 14128 27641 44748 34143 49463 965 44006 49660 43388 1133 11126 49569\\n',\n",
       " 39147: '7032 33853 25700 10532 19699 15456 45397\\n',\n",
       " 39157: '34143 41905 37981 10184 32186 1759 42410\\n',\n",
       " 39195: '30891 33963 2066 40471 6546 19400 12051 28677 37533 37884\\n',\n",
       " 39207: '40510 8353 27047 39244 44646 19746 42767 7184 41128 9305 32849 18753\\n',\n",
       " 39289: '570 24505 44718\\n',\n",
       " 39313: '7732 44748 2791 76 49423 12588 35890 28608 19269\\n',\n",
       " 39315: '40471\\n',\n",
       " 39384: '49656 26963 4082 18623 6028 44748 49432 24247 11802\\n',\n",
       " 39432: '30891 44646 7184 37154 27619 8719 2066\\n',\n",
       " 39448: '37967 14128 11126 44823 4257 36087 7654 49643 16809 24875 28809 43553 31775 30131 39842 18506 35513 16391 6116\\n',\n",
       " 39499: '570 24158 15642 18506 43816 14950 27350 34331 23442\\n',\n",
       " 39514: '48774 11328 14020 4353 40328 48934 13432 25973 14075 23883 49062 41128 49229 38711 39624 8938 27256 1363 2036 15203 12773 3833 10464 33406\\n',\n",
       " 39522: '38977 26127 12929 20516 22874 41905 27819 14327 10593 8600 49243 33963 38276 14210\\n',\n",
       " 39606: '49656 6062\\n',\n",
       " 39629: '12588 4082 7732 32176 24108 48774 32481 41724\\n',\n",
       " 39646: '49656 27641 7032 15456 42376 2500 44006 21693 48063 10536 24505 7036 42005 10688\\n',\n",
       " 39702: '4650 5348 43753 21693 18062 49234 27031 538 30168 40471 24839 29201 19259 35542 13930 8346 19400 48567 17661 38309\\n',\n",
       " 39717: '49656 37789 37533 33963 41269 49582 7216 34785 21048 12051 9052 27779\\n',\n",
       " 39792: '49656 44748 34241 49463\\n',\n",
       " 39835: '11802 49656 4082 29290 473 19216 48774 4901 26963 2066 12337 43098 23442 6062\\n',\n",
       " 39872: '32176 39952 492 48774 23442 9917 27666 3140 49388 22940 34241 49422 7184 28291 3986 8600\\n',\n",
       " 39899: '32176 39952 44409 25700 47909 7032 16161 49656 13006 6062 49483 42159\\n',\n",
       " 39951: '49656 7216 35890 44748 6028 39952 6147 42156 49022 49571 44001 31811 15901 16225 48346 20472 14902 44409 31118 18096 29300 41879 570 18623 22919 48567 45397 14128 49660\\n',\n",
       " 39952: '29290 473 4901 37023 49656 7752 41675 25617 39798 49669 49297 40170 49569 22949 19925 40095 13387 44513 4604 19216 8124 3462 41016 37370\\n',\n",
       " 40033: '15877 49656 29563 3428 570 26963 48774 49297 9994 34273 40263 44748 4547\\n',\n",
       " 40034: '7732 4082 11802 12588 24108 49432 26963 44748 49656 42649 48774 46110 6028 24247 40263 34241 384\\n',\n",
       " 40070: '7541 49656 47909 11592\\n',\n",
       " 40127: '32176 49656 31203 7732 44748 35890 35757 6028 2791 4426 49483 22773 42159 384 3428 26963\\n',\n",
       " 40154: '48934 44823 34143 3227 29056 3833 44001 25658 19269\\n',\n",
       " 40182: '44748 570 12588 27666 9727 28639 22919 26963 35890 49656 29680 49244 40263 9917\\n',\n",
       " 40378: '26936 10139 40095\\n',\n",
       " 40511: '37628 49669 25790 34097 5255 39665 5543 27674 43054 2981 41253\\n',\n",
       " 40574: '4908 11630 41269 31753 37023 2819 16923 16635 27615 504 20002 29050\\n',\n",
       " 40650: '29563 15877 4082 26963 9994 49432 570 49656 47909 21151\\n',\n",
       " 40657: '49656 15901 45145 6062 41269 39952\\n',\n",
       " 40749: '49656 15877 570 6062 7032 19269 25719 45397 26963 40263 44006 11528 44748\\n',\n",
       " 40780: '49656 49569 15877 8389 39798 37587 20438 2857 39946 9818 25790 27127\\n',\n",
       " 40876: '49656 8389 41016 40263 39798 39946 473 43098 49669 570 49463 37587 37023 39665 29290 4604 49569\\n',\n",
       " 40885: '49656 7216 44006 6028 44001 49463 49571 44748 20472\\n',\n",
       " 40888: '49656 32176 48774 26963 47909 44748 40263 3428 7732 47837 570 6062 15877 27666\\n',\n",
       " 40966: '41269 37789 15642\\n',\n",
       " 40967: '19269 29148\\n',\n",
       " 40983: '25700 19699 35446 42381\\n',\n",
       " 41078: '24158 7550 34961 31512 43315 23476 42649 21866 7712 20692\\n',\n",
       " 41083: '10806 26936 28166 24590 49656 15901 26963 30392 36657 25516 2406 43051\\n',\n",
       " 41117: '49656 44006 39946 76 48760 2791 18493 40170 28608 473 49423 8353 49463 19269 44748 47801 47997 17496 49483 25482 49571 7732 44001 7216\\n',\n",
       " 41143: '26936 48774 11328 10806 8938 49432 2736 22668 20300 11711 27256\\n',\n",
       " 41178: '29290 473 49669 49569 40170 2066 41016 44348 4604 37023\\n',\n",
       " 41192: '4082 12588 42649 7732 44748 35890 39946 14902 28608 6028\\n',\n",
       " 41211: '49656 26963 49432 18623 24314 49392 39292 6028 48063 33853\\n',\n",
       " 41400: '48567 4650 30466 21693 49304 16934 538\\n',\n",
       " 41470: '49656 44748 15877 2857 570 12588 9994 27109 34331 8636 35890\\n',\n",
       " 41564: '32176 8353 7712 35890 7732 14902 4082 21866\\n',\n",
       " 41582: '7732 28639 49423 17455 12588 44748 31246 46110 34241 570 40197\\n',\n",
       " 41642: '570 49656 15877 44748 34331 27109 19269 45691 29253 40263 9727 48943\\n',\n",
       " 41663: '36657 30392 26936 22668 1805 48774\\n',\n",
       " 41783: '26936 45145 42922 11671 4547 49297 570 43098 965 27666 30392\\n',\n",
       " 41789: '49656 49297 15877 8389 26808 34273 3428 48774\\n',\n",
       " 41790: '22096 17282 7245 49603 24873 13665\\n',\n",
       " 41823: '14128 7032 570 32176 29809 49550 37533\\n',\n",
       " 41825: '49656 7216\\n',\n",
       " 41832: '49656 44006 19269 27641 30168 17380 30739\\n',\n",
       " 41913: '619 32186 38977 48849 21913 40447 8215 7124 10184 39674 40510 562 37981\\n',\n",
       " 41924: '37789 20002 24839 13930 34785 5348 33821 46948 12426 27031 38123 46679 49656\\n',\n",
       " 42002: '15642 37533 22940 492 24873 42464 32176 570 47909 42206 10271\\n',\n",
       " 42035: '49656 44748 965 44001 37967 27641 15901 43388 34143 49297 14128\\n',\n",
       " 42050: '49656 40263 8389 570 11802 39946 26963 24247 4901\\n',\n",
       " 42061: '48774 26936 30392 49432 26963 28291 24087 27666 24290 29290 11802 10304 10806 22668 32092 19216 7184\\n',\n",
       " 42093: '49656 15877 7216 39946 29253 34331 44748 35890 6028 570 2857 48567 42649 9994\\n',\n",
       " 42166: '4082 32176 42649 11802 27619 45833 47909 40471 42983\\n',\n",
       " 42206: '36657 29290 34403 11802 8389 49669 7710 27127 26936 3410 15639 49297 30392\\n',\n",
       " 42262: '11328 4353 15932 2406 37981 23141 25621 40328 12773 34143 26840 8938 13432 13387 29290\\n',\n",
       " 42316: '32176 29086 44748 49255 19269 3428 27666 5179 48774 39952 49388 35890 16161 22919 26963 12823 44409 9961 49656 47909 18031 30969 41626\\n',\n",
       " 42365: '38931 18081 39943\\n',\n",
       " 42372: '49656 6028 2066 14128 9664 44006 44001 2483 37533 44748 21048\\n',\n",
       " 42394: '15901 49656 2145 41269 2500 27641 11299 7032 17380 20264 48391\\n',\n",
       " 42457: '47909\\n',\n",
       " 42459: '17282 39244 37628 27446 7184 40447\\n',\n",
       " 42477: '49643 28809 18506 42922 37894\\n',\n",
       " 42483: '7032 49656 19269 15877 25383 45397 32176 26507 25719 11108 28950 9994 6062 23530 27619 5348 26963\\n',\n",
       " 42540: '49656 15901 27641 41269 44001 44006 34100 26808 30739 46447\\n',\n",
       " 42545: '49656 8389 11184 16287 25790 4901 5348 13387 25617 3410 44959 25079 49463 43061 23855 39798 10828 24839 47407 38711 8090 6495 26039 25516 34785 21693 39946 3684\\n',\n",
       " 42581: '49406 25282 2955 44982 12649 7699 17455 44108 24103 35574\\n',\n",
       " 42610: '32176 35890 31203 42159 1921\\n',\n",
       " 42612: '7712 35890 25282 25441\\n',\n",
       " 42677: '38045 44675 23041 23476 28639 42328 3140 47420 49541 24592 10304 17282 20692 7550 49136\\n',\n",
       " 42701: '44409 7032 570 15877 41081 49550 16983 3026 49562 45397\\n',\n",
       " 42748: '29290 48774 40095 34241\\n',\n",
       " 42770: '570 15877 44748 24158 34331 35890 29253 14902 49656 43816\\n',\n",
       " 42785: '49656 12426 25700 49550 37533 31331 42206 570\\n',\n",
       " 42810: '14128 37967 25383 18623 7032 2406\\n',\n",
       " 42829: '49656 40170 4901 44006 473 49463 49423 7732 39946\\n',\n",
       " 42972: '36657 49669 11802 29522 24460 40471 4082 3734 48052 8019 21151 37793 23335 49304\\n',\n",
       " 43055: '21693 49656 43671 19259 25790 37784 4650 10536 30049 30168 35005 5893 42376 2500\\n',\n",
       " 43058: '37023 29152 4604 29280 12112 49569 39798 7732 47132\\n',\n",
       " 43171: '49656 25700 41269 37789 19717 2887 33821 19159 12426 2223 252\\n',\n",
       " 43273: '33963 2066 10593 49150 49581 8215 48009 42410 21048 34481 21913 27779 37533 11099 7797 30181 9664 49571 21264 19399 18997 29201 4360 34440 37967 22341 15865 6028 16626\\n',\n",
       " 43287: '19269 49569 10001 1355 2500 43883 25383 47997 31718 7843 22383 43291 44006 44026\\n',\n",
       " 43313: '49656 49432 34143 24314 26963 6028 49392 49463 37784\\n',\n",
       " 43314: '29290 49419 5988 28639 7184 36657 8579 10304 42328 28878 38045 12337 35463 49669 7439 473 13714 9917 36502 21396 43098 23476 44852 39665 8353 1002 2066 49304 41871 37809\\n',\n",
       " 43349: '32176 37533 492 15642 45833 22940 4082 570\\n',\n",
       " 43407: '15877 27127 2857 9994 49304 49297 570 26507 49569 49656 34273\\n',\n",
       " 43444: '29563 4547 32482 15877 47909 26169 49656 48774 49565 26936\\n',\n",
       " 43464: '570 49656 4547 7752\\n',\n",
       " 43529: '37628 47949 34097 36657 26936 43051\\n',\n",
       " 43531: '8353 76 49656 49472 48567 10903 29201\\n',\n",
       " 43668: '10806 48774 19216\\n',\n",
       " 43696: '29290 2066 12337 473\\n',\n",
       " 43714: '18031 7032\\n',\n",
       " 43783: '29290 473 49669 24445 4082 39904\\n',\n",
       " 43784: '19216 47949 49565 25079 10806 3552 41850 43051 26936 37628 49656 12407 6062\\n',\n",
       " 43882: '19216 24873 2066 20002 7752 37533\\n',\n",
       " 43894: '49656 44006 49463 31203\\n',\n",
       " 43927: '4082 44748 2066 76 32176 7732 49656 2791\\n',\n",
       " 43943: '49656 21693 24839 30168 18062 4650 37533 5348\\n',\n",
       " 43956: '37533 44986 492\\n',\n",
       " 43967: '570 24505 49656 14264 12649 48063 37533 47964 34331 7216 45691\\n',\n",
       " 44001: '49569 27641 49116 30917 39914 26117 44015 6189\\n',\n",
       " 44007: '49656 570 34331 15877 40263 29253 24158 39946 44748 27820 49463 27109 32228 37533 45691\\n',\n",
       " 44031: '28608 15642 37533 38589 7216 49656 33821\\n',\n",
       " 44057: '7654 11126 48391\\n',\n",
       " 44098: '49297 26936 34273 43098 33585 965 15877 570 30392 26117 8389 39665 27127\\n',\n",
       " 44123: '32176 35890 44748 570 7712 22919 39952 49388 49244 31512 9961\\n',\n",
       " ...}"
      ]
     },
     "execution_count": 18,
     "metadata": {},
     "output_type": "execute_result"
    }
   ],
   "source": [
    "# sort submit\n",
    "submit = {k : v for k, v in sorted(submit.items(), key=lambda  item: item[0], reverse=False)}"
   ]
  },
  {
   "cell_type": "code",
   "execution_count": 20,
   "metadata": {},
   "outputs": [
    {
     "data": {
      "text/plain": [
       "18"
      ]
     },
     "execution_count": 20,
     "metadata": {},
     "output_type": "execute_result"
    }
   ],
   "source": [
    "fo = open('predict_order.csv', 'w')\n",
    "fo.write('order_id,products\\n')"
   ]
  },
  {
   "cell_type": "code",
   "execution_count": 22,
   "metadata": {},
   "outputs": [
    {
     "name": "stderr",
     "output_type": "stream",
     "text": [
      "75000it [04:18, 290.15it/s]\n"
     ]
    }
   ],
   "source": [
    "outputs = f.readlines()\n",
    "\n",
    "for idx, j in tqdm(enumerate(range(len(submit)))):\n",
    "    fo.write('{},'.format(list(submit.keys())[j] ))\n",
    "    fo.write(list(submit.values())[j] )\n",
    "\n",
    "fo.close()"
   ]
  },
  {
   "cell_type": "code",
   "execution_count": null,
   "metadata": {},
   "outputs": [],
   "source": []
  }
 ],
 "metadata": {
  "accelerator": "GPU",
  "colab": {
   "authorship_tag": "ABX9TyO+MwnY5XhRxm90iQaY8ypM",
   "collapsed_sections": [],
   "name": "MF.ipynb",
   "provenance": []
  },
  "kernelspec": {
   "display_name": "Python 3",
   "language": "python",
   "name": "python3"
  },
  "language_info": {
   "codemirror_mode": {
    "name": "ipython",
    "version": 3
   },
   "file_extension": ".py",
   "mimetype": "text/x-python",
   "name": "python",
   "nbconvert_exporter": "python",
   "pygments_lexer": "ipython3",
   "version": "3.6.12"
  }
 },
 "nbformat": 4,
 "nbformat_minor": 1
}
